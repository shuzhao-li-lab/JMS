{
 "cells": [
  {
   "cell_type": "markdown",
   "metadata": {},
   "source": [
    "# Update metabolite entries from bigg universal model\n",
    "- https://github.com/cdanielmachado/carveme/blob/master/carveme/data/generated/bigg_universe.xml.gz\n",
    "- CarveMe has a universal model that has all the charge and charge formula to be used\n",
    "- So populate my universal metabolite model with CarveMe universal model"
   ]
  },
  {
   "cell_type": "code",
   "execution_count": 120,
   "metadata": {},
   "outputs": [],
   "source": [
    "import cobra\n",
    "import sys\n",
    "import os\n",
    "sys.path.append('/Users/gongm/Documents/projects/JMS/JMS/JMS/')\n",
    "from jms.utils.gems import *\n",
    "from jms.utils.git_download import *"
   ]
  },
  {
   "cell_type": "code",
   "execution_count": 121,
   "metadata": {
    "scrolled": true
   },
   "outputs": [
    {
     "name": "stderr",
     "output_type": "stream",
     "text": [
      "No objective coefficients in model. Unclear what should be optimized\n"
     ]
    }
   ],
   "source": [
    "# https://github.com/cdanielmachado/carveme/blob/master/carveme/data/generated/bigg_universe.xml.gz\n",
    "uni_model_from_carveme = cobra.io.read_sbml_model('../test/input/bigg_universal_from_Carveme/bigg_universe.xml')"
   ]
  },
  {
   "cell_type": "code",
   "execution_count": 122,
   "metadata": {},
   "outputs": [
    {
     "data": {
      "text/plain": [
       "({'CHARGE', 'FORMULA', 'SBOTerm'},\n",
       " {'SBOTerm': 'SBO:0000247', 'FORMULA': 'C40H45N11O19', 'CHARGE': '-6'})"
      ]
     },
     "execution_count": 122,
     "metadata": {},
     "output_type": "execute_result"
    }
   ],
   "source": [
    "list_all_identifiers(uni_model_from_carveme,'notes')"
   ]
  },
  {
   "cell_type": "code",
   "execution_count": 123,
   "metadata": {},
   "outputs": [],
   "source": [
    "with open('../jms/data/staged/Bigg.json', 'r') as f:\n",
    "    uni_model_from_bigg = json.load(f)"
   ]
  },
  {
   "cell_type": "code",
   "execution_count": 124,
   "metadata": {},
   "outputs": [
    {
     "data": {
      "text/plain": [
       "[{'SBOTerm': 'SBO:0000247', 'FORMULA': 'C40H45N11O19', 'CHARGE': '-6'},\n",
       " {'SBOTerm': 'SBO:0000247', 'FORMULA': 'C40H45N11O19', 'CHARGE': '-6'},\n",
       " {'SBOTerm': 'SBO:0000247', 'FORMULA': 'C40H45N11O19', 'CHARGE': '-6'},\n",
       " {'SBOTerm': 'SBO:0000247', 'FORMULA': 'C40H45N11O19', 'CHARGE': '-6'},\n",
       " {'SBOTerm': 'SBO:0000247', 'FORMULA': 'C45H51N12O22', 'CHARGE': '-7'}]"
      ]
     },
     "execution_count": 124,
     "metadata": {},
     "output_type": "execute_result"
    }
   ],
   "source": [
    "[x.notes for x in uni_model_from_carveme.metabolites][0:5]"
   ]
  },
  {
   "cell_type": "code",
   "execution_count": 125,
   "metadata": {},
   "outputs": [],
   "source": [
    "pd.DataFrame([x.__dict__ for x in uni_model_from_carveme.metabolites]).to_csv(\"../test/input/bigg_universal_from_Carveme/bigg_universe.csv\")"
   ]
  },
  {
   "cell_type": "code",
   "execution_count": 126,
   "metadata": {},
   "outputs": [
    {
     "data": {
      "text/plain": [
       "15638"
      ]
     },
     "execution_count": 126,
     "metadata": {},
     "output_type": "execute_result"
    }
   ],
   "source": [
    "len(uni_model_from_carveme.metabolites)"
   ]
  },
  {
   "cell_type": "code",
   "execution_count": 127,
   "metadata": {},
   "outputs": [
    {
     "data": {
      "text/plain": [
       "15638"
      ]
     },
     "execution_count": 127,
     "metadata": {},
     "output_type": "execute_result"
    }
   ],
   "source": [
    "len(uni_model_from_bigg)"
   ]
  },
  {
   "cell_type": "code",
   "execution_count": 128,
   "metadata": {},
   "outputs": [],
   "source": [
    "new_dict = {}\n",
    "for metabolites in uni_model_from_carveme.metabolites:\n",
    "    try:\n",
    "        new_dict.update({metabolites.id.rsplit('_',1)[0]:metabolites.notes})\n",
    "    except:\n",
    "        None"
   ]
  },
  {
   "cell_type": "code",
   "execution_count": 129,
   "metadata": {},
   "outputs": [],
   "source": [
    "new_uni_model = []\n",
    "for myCpd in uni_model_from_bigg:\n",
    "    try:\n",
    "        temp_dict = new_dict.get(myCpd['id'],None)\n",
    "        myCpd['charge'] = int(temp_dict.get('CHARGE',None)) # not float\n",
    "        myCpd['charged_formula'] = temp_dict.get('FORMULA', '')\n",
    "    except:\n",
    "        None\n",
    "    new_uni_model.append(myCpd)"
   ]
  },
  {
   "cell_type": "code",
   "execution_count": 130,
   "metadata": {},
   "outputs": [
    {
     "data": {
      "text/plain": [
       "9012"
      ]
     },
     "execution_count": 130,
     "metadata": {},
     "output_type": "execute_result"
    }
   ],
   "source": [
    "len([{k:v} for k,v in new_dict.items()])"
   ]
  },
  {
   "cell_type": "code",
   "execution_count": 131,
   "metadata": {
    "scrolled": false
   },
   "outputs": [
    {
     "data": {
      "text/plain": [
       "[{'id': '4crsol',\n",
       "  'name': 'P-Cresol',\n",
       "  'identifiers': [['BIGG', '4crsol'],\n",
       "   ['BIGG', '4crsol_c'],\n",
       "   ['BIGG', '_4crsol_c'],\n",
       "   ['KEGG', 'C01468'],\n",
       "   ['CHEBI', '11981'],\n",
       "   ['CHEBI', '17847'],\n",
       "   ['CHEBI', '1816'],\n",
       "   ['CHEBI', '20352'],\n",
       "   ['CHEBI', '44726'],\n",
       "   ['HMDB', 'HMDB01858'],\n",
       "   ['HMDB', 'HMDB13762'],\n",
       "   ['inchikey', 'IWDCLRJOBJJRNH-UHFFFAOYSA-N'],\n",
       "   ['BioCyc', 'CPD-108'],\n",
       "   ['MetaNetX', 'MNXM828'],\n",
       "   ['SEED', 'cpd01042']],\n",
       "  'neutral_formula': '',\n",
       "  'charge': 0,\n",
       "  'charged_formula': 'C7H8O',\n",
       "  'neutral_mono_mass': 0.0,\n",
       "  'SMILES': '',\n",
       "  'inchi': ''},\n",
       " {'id': 'aacald',\n",
       "  'name': 'Aminoacetaldehyde',\n",
       "  'identifiers': [['BIGG', 'aacald'],\n",
       "   ['BIGG', 'aacald_c'],\n",
       "   ['KEGG', 'C06735'],\n",
       "   ['CHEBI', '13766'],\n",
       "   ['CHEBI', '17628'],\n",
       "   ['CHEBI', '22486'],\n",
       "   ['CHEBI', '2647'],\n",
       "   ['CHEBI', '42833'],\n",
       "   ['CHEBI', '58213'],\n",
       "   ['inchikey', 'LYIIBVSRGJSHAV-UHFFFAOYSA-O'],\n",
       "   ['BioCyc', 'CPD-1772'],\n",
       "   ['MetaNetX', 'MNXM2212'],\n",
       "   ['SEED', 'cpd04122']],\n",
       "  'neutral_formula': '',\n",
       "  'charge': 1,\n",
       "  'charged_formula': 'C2H6NO',\n",
       "  'neutral_mono_mass': 0.0,\n",
       "  'SMILES': '',\n",
       "  'inchi': ''},\n",
       " {'id': 'amob',\n",
       "  'name': 'S-Adenosyl-4-methylthio-2-oxobutanoate',\n",
       "  'identifiers': [['BIGG', 'amob'],\n",
       "   ['BIGG', 'amob_c'],\n",
       "   ['KEGG', 'C04425'],\n",
       "   ['CHEBI', '12758'],\n",
       "   ['CHEBI', '16490'],\n",
       "   ['CHEBI', '22033'],\n",
       "   ['CHEBI', '8944'],\n",
       "   ['BioCyc', 'S-ADENOSYL-4-METHYLTHIO-2-OXOBUTANOATE'],\n",
       "   ['MetaNetX', 'MNXM3090'],\n",
       "   ['inchikey', 'UOKVQQMBGVMXPU-CJPDYEHRSA-N'],\n",
       "   ['SEED', 'cpd02701']],\n",
       "  'neutral_formula': '',\n",
       "  'charge': -1,\n",
       "  'charged_formula': 'C15H19N5O6S',\n",
       "  'neutral_mono_mass': 0.0,\n",
       "  'SMILES': '',\n",
       "  'inchi': ''},\n",
       " {'id': '10fthf',\n",
       "  'name': '10-Formyltetrahydrofolate',\n",
       "  'identifiers': [['BIGG', '10fthf'],\n",
       "   ['BIGG', '10fthf[c]'],\n",
       "   ['BIGG', '10fthf_c'],\n",
       "   ['BIGG', '_10fthf_c'],\n",
       "   ['Reactome', 'R-ALL-419151'],\n",
       "   ['Reactome', 'R-ALL-5389850'],\n",
       "   ['inchikey', 'AUFGTPPARQZWDO-YPMHNXCESA-L'],\n",
       "   ['KEGG', 'C00234'],\n",
       "   ['CHEBI', '11304'],\n",
       "   ['CHEBI', '15637'],\n",
       "   ['CHEBI', '19108'],\n",
       "   ['CHEBI', '19109'],\n",
       "   ['CHEBI', '57454'],\n",
       "   ['CHEBI', '698'],\n",
       "   ['HMDB', 'HMDB00972'],\n",
       "   ['BioCyc', '10-FORMYL-THF'],\n",
       "   ['MetaNetX', 'MNXM237'],\n",
       "   ['SEED', 'cpd00201']],\n",
       "  'neutral_formula': '',\n",
       "  'charge': -2,\n",
       "  'charged_formula': 'C20H21N7O7',\n",
       "  'neutral_mono_mass': 0.0,\n",
       "  'SMILES': '',\n",
       "  'inchi': ''},\n",
       " {'id': '2fe2s',\n",
       "  'name': '[2Fe-2S] iron-sulfur cluster',\n",
       "  'identifiers': [['BIGG', '2fe2s'],\n",
       "   ['BIGG', '2fe2s_c'],\n",
       "   ['BIGG', '_2fe2s_c'],\n",
       "   ['CHEBI', '21134'],\n",
       "   ['CHEBI', '49600'],\n",
       "   ['CHEBI', '49601'],\n",
       "   ['CHEBI', '64605'],\n",
       "   ['MetaNetX', 'MNXM151647'],\n",
       "   ['SEED', 'cpd24604']],\n",
       "  'neutral_formula': '',\n",
       "  'charge': 0,\n",
       "  'charged_formula': 'S',\n",
       "  'neutral_mono_mass': 0.0,\n",
       "  'SMILES': '',\n",
       "  'inchi': ''},\n",
       " {'id': '2ohph',\n",
       "  'name': '2-Octaprenyl-6-hydroxyphenol',\n",
       "  'identifiers': [['BIGG', '2ohph'],\n",
       "   ['BIGG', '2ohph_c'],\n",
       "   ['KEGG', 'C05811'],\n",
       "   ['CHEBI', '1233'],\n",
       "   ['CHEBI', '62730'],\n",
       "   ['BioCyc', '2-OCTAPRENYL-6-HYDROXYPHENOL'],\n",
       "   ['MetaNetX', 'MNXM1635'],\n",
       "   ['inchikey', 'YGTMSXVYLRCOLD-MGDAWYEDSA-N'],\n",
       "   ['SEED', 'cpd03445']],\n",
       "  'neutral_formula': '',\n",
       "  'charge': 0,\n",
       "  'charged_formula': 'C46H70O2',\n",
       "  'neutral_mono_mass': 0.0,\n",
       "  'SMILES': '',\n",
       "  'inchi': ''},\n",
       " {'id': '4fe4s',\n",
       "  'name': '[4Fe-4S] iron-sulfur cluster',\n",
       "  'identifiers': [['BIGG', '4fe4s'],\n",
       "   ['BIGG', '4fe4s_c'],\n",
       "   ['BIGG', '_4fe4s_c'],\n",
       "   ['CHEBI', '33725'],\n",
       "   ['inchikey', 'LJBDFODJNLIPKO-UHFFFAOYSA-N'],\n",
       "   ['BioCyc', 'CPD-7'],\n",
       "   ['MetaNetX', 'MNXM37766']],\n",
       "  'neutral_formula': '',\n",
       "  'charge': 2,\n",
       "  'charged_formula': 'Fe4S4',\n",
       "  'neutral_mono_mass': 0.0,\n",
       "  'SMILES': '',\n",
       "  'inchi': ''},\n",
       " {'id': 'ala__L',\n",
       "  'name': 'L-Alanine',\n",
       "  'identifiers': [['BIGG', 'ala-L[c]'],\n",
       "   ['BIGG', 'ala_DASH_L_c'],\n",
       "   ['BIGG', 'ala_L[c]'],\n",
       "   ['BIGG', 'ala_L_c'],\n",
       "   ['BIGG', 'ala__L'],\n",
       "   ['BIGG', 'ala__L_c'],\n",
       "   ['Reactome', 'R-ALL-29432'],\n",
       "   ['Reactome', 'R-ALL-352036'],\n",
       "   ['Reactome', 'R-ALL-379697'],\n",
       "   ['Reactome', 'R-ALL-389664'],\n",
       "   ['KEGG', 'C00041'],\n",
       "   ['KEGG', 'C01401'],\n",
       "   ['CHEBI', '13069'],\n",
       "   ['CHEBI', '13748'],\n",
       "   ['CHEBI', '16449'],\n",
       "   ['CHEBI', '16977'],\n",
       "   ['CHEBI', '21216'],\n",
       "   ['CHEBI', '22277'],\n",
       "   ['CHEBI', '2539'],\n",
       "   ['CHEBI', '32431'],\n",
       "   ['CHEBI', '32432'],\n",
       "   ['CHEBI', '32439'],\n",
       "   ['CHEBI', '32440'],\n",
       "   ['CHEBI', '40734'],\n",
       "   ['CHEBI', '40735'],\n",
       "   ['CHEBI', '46308'],\n",
       "   ['CHEBI', '57972'],\n",
       "   ['CHEBI', '6171'],\n",
       "   ['CHEBI', '66916'],\n",
       "   ['CHEBI', '76050'],\n",
       "   ['KEGG_Drug', 'D00012'],\n",
       "   ['HMDB', 'HMDB00161'],\n",
       "   ['HMDB', 'HMDB62251'],\n",
       "   ['BioCyc', 'L-ALPHA-ALANINE'],\n",
       "   ['MetaNetX', 'MNXM32'],\n",
       "   ['inchikey', 'QNAYBMKLOCPYGJ-REOHCLBHSA-N'],\n",
       "   ['SEED', 'cpd00035'],\n",
       "   ['SEED', 'cpd01003']],\n",
       "  'neutral_formula': '',\n",
       "  'charge': 0,\n",
       "  'charged_formula': 'C3H7NO2',\n",
       "  'neutral_mono_mass': 0.0,\n",
       "  'SMILES': '',\n",
       "  'inchi': ''},\n",
       " {'id': 'amet',\n",
       "  'name': 'S-Adenosyl-L-methionine',\n",
       "  'identifiers': [['BIGG', 'amet'],\n",
       "   ['BIGG', 'amet[c]'],\n",
       "   ['BIGG', 'amet_c'],\n",
       "   ['Reactome', 'R-ALL-2162265'],\n",
       "   ['Reactome', 'R-ALL-353113'],\n",
       "   ['Reactome', 'R-ALL-5279190'],\n",
       "   ['Reactome', 'R-ALL-71284'],\n",
       "   ['Reactome', 'R-ALL-77087'],\n",
       "   ['KEGG', 'C00019'],\n",
       "   ['CHEBI', '10786'],\n",
       "   ['CHEBI', '10833'],\n",
       "   ['CHEBI', '12742'],\n",
       "   ['CHEBI', '12757'],\n",
       "   ['CHEBI', '12760'],\n",
       "   ['CHEBI', '15414'],\n",
       "   ['CHEBI', '22036'],\n",
       "   ['CHEBI', '33442'],\n",
       "   ['CHEBI', '45607'],\n",
       "   ['CHEBI', '527887'],\n",
       "   ['CHEBI', '59789'],\n",
       "   ['CHEBI', '67040'],\n",
       "   ['CHEBI', '8946'],\n",
       "   ['HMDB', 'HMDB01185'],\n",
       "   ['HMDB', 'HMDB62709'],\n",
       "   ['inchikey', 'MEFKEPWMEQBLKI-AIRLBKTGSA-O'],\n",
       "   ['BioCyc', 'S-ADENOSYLMETHIONINE'],\n",
       "   ['MetaNetX', 'MNXM16'],\n",
       "   ['SEED', 'cpd00017']],\n",
       "  'neutral_formula': '',\n",
       "  'charge': 1,\n",
       "  'charged_formula': 'C15H23N6O5S',\n",
       "  'neutral_mono_mass': 0.0,\n",
       "  'SMILES': '',\n",
       "  'inchi': ''},\n",
       " {'id': 'arg__L',\n",
       "  'name': 'L-Arginine',\n",
       "  'identifiers': [['BIGG', 'arg-L[c]'],\n",
       "   ['BIGG', 'arg_DASH_L_c'],\n",
       "   ['BIGG', 'arg_L[c]'],\n",
       "   ['BIGG', 'arg_L_c'],\n",
       "   ['BIGG', 'arg__L'],\n",
       "   ['BIGG', 'arg__L_c'],\n",
       "   ['Reactome', 'R-ALL-113530'],\n",
       "   ['Reactome', 'R-ALL-29468'],\n",
       "   ['Reactome', 'R-ALL-351977'],\n",
       "   ['Reactome', 'R-ALL-374064'],\n",
       "   ['KEGG', 'C00062'],\n",
       "   ['KEGG', 'C02385'],\n",
       "   ['CHEBI', '13077'],\n",
       "   ['CHEBI', '133495'],\n",
       "   ['CHEBI', '16467'],\n",
       "   ['CHEBI', '21235'],\n",
       "   ['CHEBI', '22616'],\n",
       "   ['CHEBI', '2643'],\n",
       "   ['CHEBI', '29016'],\n",
       "   ['CHEBI', '32681'],\n",
       "   ['CHEBI', '32682'],\n",
       "   ['CHEBI', '32683'],\n",
       "   ['CHEBI', '32695'],\n",
       "   ['CHEBI', '32696'],\n",
       "   ['CHEBI', '32697'],\n",
       "   ['CHEBI', '42927'],\n",
       "   ['CHEBI', '6185'],\n",
       "   ['KEGG_Drug', 'D02982'],\n",
       "   ['HMDB', 'HMDB00517'],\n",
       "   ['HMDB', 'HMDB62762'],\n",
       "   ['BioCyc', 'ARG'],\n",
       "   ['MetaNetX', 'MNXM70'],\n",
       "   ['inchikey', 'ODKSFYDXXFIFQN-BYPYZUCNSA-O'],\n",
       "   ['SEED', 'cpd00051'],\n",
       "   ['SEED', 'cpd19021']],\n",
       "  'neutral_formula': '',\n",
       "  'charge': 1,\n",
       "  'charged_formula': 'C6H15N4O2',\n",
       "  'neutral_mono_mass': 0.0,\n",
       "  'SMILES': '',\n",
       "  'inchi': ''}]"
      ]
     },
     "execution_count": 131,
     "metadata": {},
     "output_type": "execute_result"
    }
   ],
   "source": [
    "new_uni_model[0:10]"
   ]
  },
  {
   "cell_type": "code",
   "execution_count": 132,
   "metadata": {
    "scrolled": true
   },
   "outputs": [
    {
     "data": {
      "text/plain": [
       "15638"
      ]
     },
     "execution_count": 132,
     "metadata": {},
     "output_type": "execute_result"
    }
   ],
   "source": [
    "len(new_uni_model)"
   ]
  },
  {
   "cell_type": "code",
   "execution_count": 133,
   "metadata": {},
   "outputs": [],
   "source": [
    "with open ('../jms/data/staged/Bigg_FM_CG_updated0427.json', 'w') as f: # Formula, charge updated\n",
    "    json.dump(new_uni_model, f)"
   ]
  },
  {
   "cell_type": "code",
   "execution_count": 135,
   "metadata": {},
   "outputs": [],
   "source": [
    "pd.DataFrame(new_uni_model).to_csv(\"../jms/data/staged/CarveMe_assistedUpdate_bigg_universe_metabolites_updated0427.csv\")"
   ]
  },
  {
   "cell_type": "markdown",
   "metadata": {},
   "source": [
    "# Next step\n",
    "- May need to build a JMS-compatible universal model for Bigg (current version only have list of metabolites)\n",
    "- Yet, Bigg does not have pathway information. That is a big gap for any mummichog analysis"
   ]
  }
 ],
 "metadata": {
  "kernelspec": {
   "display_name": "Python 3 (ipykernel)",
   "language": "python",
   "name": "python3"
  },
  "language_info": {
   "codemirror_mode": {
    "name": "ipython",
    "version": 3
   },
   "file_extension": ".py",
   "mimetype": "text/x-python",
   "name": "python",
   "nbconvert_exporter": "python",
   "pygments_lexer": "ipython3",
   "version": "3.8.5"
  }
 },
 "nbformat": 4,
 "nbformat_minor": 4
}
