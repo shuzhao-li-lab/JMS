{
 "cells": [
  {
   "cell_type": "markdown",
   "metadata": {},
   "source": [
    "# JMS annotate\n",
    "\n",
    "SL 2022-02-14"
   ]
  },
  {
   "cell_type": "code",
   "execution_count": 1,
   "metadata": {},
   "outputs": [
    {
     "name": "stdout",
     "output_type": "stream",
     "text": [
      "Requirement already satisfied: asari-metabolomics in /opt/conda/lib/python3.7/site-packages (0.8.19)\n",
      "Requirement already satisfied: mass2chem in /opt/conda/lib/python3.7/site-packages (0.2.0)\n",
      "Requirement already satisfied: metDataModel in /opt/conda/lib/python3.7/site-packages (from asari-metabolomics) (0.4.12)\n",
      "Requirement already satisfied: pyopenms in /opt/conda/lib/python3.7/site-packages (from asari-metabolomics) (2.4.0)\n",
      "Requirement already satisfied: scipy in /opt/conda/lib/python3.7/site-packages (from asari-metabolomics) (1.3.1)\n",
      "Requirement already satisfied: xlsxwriter in /opt/conda/lib/python3.7/site-packages (from asari-metabolomics) (3.0.2)\n",
      "Requirement already satisfied: numpy in /opt/conda/lib/python3.7/site-packages (from asari-metabolomics) (1.17.2)\n",
      "Requirement already satisfied: matplotlib in /opt/conda/lib/python3.7/site-packages (from asari-metabolomics) (3.1.1)\n",
      "Requirement already satisfied: pyparsing!=2.0.4,!=2.1.2,!=2.1.6,>=2.0.1 in /opt/conda/lib/python3.7/site-packages (from matplotlib->asari-metabolomics) (2.4.2)\n",
      "Requirement already satisfied: python-dateutil>=2.1 in /opt/conda/lib/python3.7/site-packages (from matplotlib->asari-metabolomics) (2.8.0)\n",
      "Requirement already satisfied: cycler>=0.10 in /opt/conda/lib/python3.7/site-packages (from matplotlib->asari-metabolomics) (0.10.0)\n",
      "Requirement already satisfied: kiwisolver>=1.0.1 in /opt/conda/lib/python3.7/site-packages (from matplotlib->asari-metabolomics) (1.1.0)\n",
      "Requirement already satisfied: six>=1.5 in /opt/conda/lib/python3.7/site-packages (from python-dateutil>=2.1->matplotlib->asari-metabolomics) (1.12.0)\n",
      "Requirement already satisfied: setuptools in /opt/conda/lib/python3.7/site-packages (from kiwisolver>=1.0.1->matplotlib->asari-metabolomics) (41.0.1)\n"
     ]
    }
   ],
   "source": [
    "import sys\n",
    "\n",
    "!pip install asari-metabolomics mass2chem  "
   ]
  },
  {
   "cell_type": "code",
   "execution_count": 2,
   "metadata": {},
   "outputs": [],
   "source": [
    "sys.path.append('jms')"
   ]
  },
  {
   "cell_type": "code",
   "execution_count": 3,
   "metadata": {},
   "outputs": [],
   "source": [
    "from jms.dbStructures import knownCompoundDatabase, ExperimentalEcpdDatabase"
   ]
  },
  {
   "cell_type": "code",
   "execution_count": 4,
   "metadata": {},
   "outputs": [],
   "source": [
    "import json"
   ]
  },
  {
   "cell_type": "markdown",
   "metadata": {},
   "source": [
    "## Database data (HMDB)"
   ]
  },
  {
   "cell_type": "code",
   "execution_count": 5,
   "metadata": {},
   "outputs": [],
   "source": [
    "KCD = knownCompoundDatabase()\n"
   ]
  },
  {
   "cell_type": "code",
   "execution_count": 6,
   "metadata": {},
   "outputs": [],
   "source": [
    "list_compounds = json.load(open('jms/data/compounds/list_compounds_HMDB4.json'))\n"
   ]
  },
  {
   "cell_type": "code",
   "execution_count": 7,
   "metadata": {},
   "outputs": [],
   "source": [
    "KCD.mass_index_list_compounds(list_compounds)"
   ]
  },
  {
   "cell_type": "code",
   "execution_count": 8,
   "metadata": {},
   "outputs": [
    {
     "name": "stdout",
     "output_type": "stream",
     "text": [
      "{'primary_id': 'HMDB0042005', 'primary_db': 'HMDB', 'name': 'Quinaprilat', 'neutral_formula': 'C23H26N2O5', 'neutral_formula_mass': 410.184171952, 'SMILES': '[H][C@@](C)(N[C@@]([H])(CCC1=CC=CC=C1)C(O)=O)C(=O)N1CC2=CC=CC=C2C[C@@]1([H])C(O)=O', 'inchikey': 'FLSLEGPOVLMJMN-YSSFQJQWSA-N', 'other_ids': {'PubChem': '107994', 'KEGG': '', 'ChEBI': '140296'}}\n"
     ]
    }
   ],
   "source": [
    "\n",
    "print(list_compounds[2])"
   ]
  },
  {
   "cell_type": "code",
   "execution_count": 9,
   "metadata": {},
   "outputs": [
    {
     "name": "stdout",
     "output_type": "stream",
     "text": [
      "['__class__', '__delattr__', '__dict__', '__dir__', '__doc__', '__eq__', '__format__', '__ge__', '__getattribute__', '__gt__', '__hash__', '__init__', '__init_subclass__', '__le__', '__lt__', '__module__', '__ne__', '__new__', '__reduce__', '__reduce_ex__', '__repr__', '__setattr__', '__sizeof__', '__str__', '__subclasshook__', '__weakref__', 'build_emp_cpds_index', 'emp_cpds_trees', 'export_mass_indexed_compounds', 'export_search_emp_cpd_batch', 'mass_index_list_compounds', 'mass_indexed_compounds', 'search_emp_cpd_batch', 'search_emp_cpd_single', 'search_mz_batch', 'search_mz_single', 'short_report_emp_cpd']\n"
     ]
    }
   ],
   "source": [
    "print(dir(KCD))"
   ]
  },
  {
   "cell_type": "code",
   "execution_count": 10,
   "metadata": {},
   "outputs": [
    {
     "data": {
      "text/plain": [
       "[{'interim_id': 'C29H32ClN5O2_517.224453',\n",
       "  'neutral_formula': 'C29H32ClN5O2',\n",
       "  'neutral_formula_mass': 517.224453,\n",
       "  'compounds': [{'primary_id': 'HMDB0042003',\n",
       "    'primary_db': 'HMDB',\n",
       "    'name': 'Pyronaridine',\n",
       "    'neutral_formula': 'C29H32ClN5O2',\n",
       "    'neutral_formula_mass': 517.224453,\n",
       "    'SMILES': 'COC1=CC=C2NC3=C(C=CC(Cl)=C3)C(N=C3C=C(CN4CCCC4)C(=O)C(CN4CCCC4)=C3)=C2N1',\n",
       "    'inchikey': 'YFYLPWJKCSESGB-UHFFFAOYSA-N',\n",
       "    'other_ids': {'PubChem': '5485198', 'KEGG': '', 'ChEBI': ''}}]},\n",
       " {'interim_id': 'C10H9N_143.073499',\n",
       "  'neutral_formula': 'C10H9N',\n",
       "  'neutral_formula_mass': 143.073499293,\n",
       "  'compounds': [{'primary_id': 'HMDB0042004',\n",
       "    'primary_db': 'HMDB',\n",
       "    'name': 'Quinaldine',\n",
       "    'neutral_formula': 'C10H9N',\n",
       "    'neutral_formula_mass': 143.073499293,\n",
       "    'SMILES': 'CC1=NC2=CC=CC=C2C=C1',\n",
       "    'inchikey': 'SMUQFGGVLNAIOZ-UHFFFAOYSA-N',\n",
       "    'other_ids': {'PubChem': '7060', 'KEGG': '', 'ChEBI': '132813'}},\n",
       "   {'primary_id': 'HMDB0033115',\n",
       "    'primary_db': 'HMDB',\n",
       "    'name': '6-Methylquinoline',\n",
       "    'neutral_formula': 'C10H9N',\n",
       "    'neutral_formula_mass': 143.073499293,\n",
       "    'SMILES': 'CC1=CC2=C(C=C1)N=CC=C2',\n",
       "    'inchikey': 'LUYISICIYVKBTA-UHFFFAOYSA-N',\n",
       "    'other_ids': {'PubChem': '7059', 'KEGG': '', 'ChEBI': ''}},\n",
       "   {'primary_id': 'HMDB0041802',\n",
       "    'primary_db': 'HMDB',\n",
       "    'name': '2-Aminonaphthalene',\n",
       "    'neutral_formula': 'C10H9N',\n",
       "    'neutral_formula_mass': 143.073499293,\n",
       "    'SMILES': 'NC1=CC2=CC=CC=C2C=C1',\n",
       "    'inchikey': 'JBIJLHTVPXGSAM-UHFFFAOYSA-N',\n",
       "    'other_ids': {'PubChem': '7057', 'KEGG': 'C02227', 'ChEBI': '27878'}}]}]"
      ]
     },
     "execution_count": 10,
     "metadata": {},
     "output_type": "execute_result"
    }
   ],
   "source": [
    "list(KCD.mass_indexed_compounds.values())[:2]"
   ]
  },
  {
   "cell_type": "code",
   "execution_count": 11,
   "metadata": {},
   "outputs": [
    {
     "data": {
      "text/plain": [
       "{'interim_id': 'C45H54N4O8_778.394165',\n",
       " 'neutral_formula': 'C45H54N4O8',\n",
       " 'neutral_formula_mass': 778.394164724,\n",
       " 'compounds': [{'primary_id': 'HMDB0014505',\n",
       "   'primary_db': 'HMDB',\n",
       "   'name': 'Vinorelbine',\n",
       "   'neutral_formula': 'C45H54N4O8',\n",
       "   'neutral_formula_mass': 778.394164724,\n",
       "   'SMILES': '[H][C@@]12N(C)C3=CC(OC)=C(C=C3[C@@]11CCN3CC=C[C@@](CC)([C@@H](OC(C)=O)[C@@]2(O)C(=O)OC)[C@@]13[H])[C@]1(C[C@@]2([H])CN(CC(CC)=C2)CC2=C1NC1=CC=CC=C21)C(=O)OC',\n",
       "   'inchikey': 'GBABOYUKABKIAF-GHYRFKGUSA-N',\n",
       "   'other_ids': {'PubChem': '44424639', 'KEGG': '', 'ChEBI': '480999'}}]}"
      ]
     },
     "execution_count": 11,
     "metadata": {},
     "output_type": "execute_result"
    }
   ],
   "source": [
    "KCD.mass_indexed_compounds['C45H54N4O8_778.394165']"
   ]
  },
  {
   "cell_type": "code",
   "execution_count": 12,
   "metadata": {},
   "outputs": [],
   "source": [
    "KCD.build_emp_cpds_index()"
   ]
  },
  {
   "cell_type": "code",
   "execution_count": 13,
   "metadata": {},
   "outputs": [
    {
     "data": {
      "text/plain": [
       "[{'mz': 130.017306555,\n",
       "  'parent_epd_id': 'C4H3FN2O2_130.017856',\n",
       "  'ion_relation': 'M[1+]'}]"
      ]
     },
     "execution_count": 13,
     "metadata": {},
     "output_type": "execute_result"
    }
   ],
   "source": [
    "# query_mz, mode='pos', mz_tolerance_ppm=5\n",
    "KCD.search_mz_single(130.0172)"
   ]
  },
  {
   "cell_type": "code",
   "execution_count": 14,
   "metadata": {},
   "outputs": [
    {
     "data": {
      "text/plain": [
       "[{'mz': 130.017306555,\n",
       "  'parent_epd_id': 'C4H3FN2O2_130.017856',\n",
       "  'ion_relation': 'M[1+]'}]"
      ]
     },
     "execution_count": 14,
     "metadata": {},
     "output_type": "execute_result"
    }
   ],
   "source": [
    "KCD.emp_cpds_trees['pos'][13001]"
   ]
  },
  {
   "cell_type": "code",
   "execution_count": 15,
   "metadata": {},
   "outputs": [
    {
     "data": {
      "text/plain": [
       "[[],\n",
       " [{'mz': 130.017306555,\n",
       "   'parent_epd_id': 'C4H3FN2O2_130.017856',\n",
       "   'ion_relation': 'M[1+]'}]]"
      ]
     },
     "execution_count": 15,
     "metadata": {},
     "output_type": "execute_result"
    }
   ],
   "source": [
    "KCD.search_mz_batch([115.633, 130.0172])"
   ]
  },
  {
   "cell_type": "markdown",
   "metadata": {},
   "source": [
    "## Experimental data"
   ]
  },
  {
   "cell_type": "code",
   "execution_count": 16,
   "metadata": {},
   "outputs": [],
   "source": [
    "def read_table_to_peaks(infile, delimiter='\\t'):\n",
    "    '''\n",
    "    return list of peaks, e.g. [\n",
    "        {\n",
    "        'id_number': 555,\n",
    "        'mz': 133.0970, \n",
    "        'apex': 654, \n",
    "        'height': 14388.0, \n",
    "        'left_base': 648, \n",
    "        'right_base': 655, \n",
    "        }, ...\n",
    "    ]\n",
    "    '''\n",
    "    list_peaks = []\n",
    "    w = open(infile).readlines()\n",
    "    for line in w[1:]:\n",
    "        a = line.rstrip().split(delimiter)\n",
    "        list_peaks.append(\n",
    "            {'id_number': a[13], 'mz': float(a[2]), \n",
    "            'apex': float(a[3]), 'height': float(a[5]), \n",
    "            'cSelectivity': float(a[10]), 'goodness_fitting': float(a[11]), 'snr': float(a[12]), }\n",
    "        )\n",
    "\n",
    "    print(len(list_peaks))\n",
    "    return list_peaks\n"
   ]
  },
  {
   "cell_type": "code",
   "execution_count": 17,
   "metadata": {},
   "outputs": [
    {
     "name": "stdout",
     "output_type": "stream",
     "text": [
      "9786\n"
     ]
    },
    {
     "data": {
      "text/plain": [
       "{'id_number': 'F1',\n",
       " 'mz': 81.04470247776916,\n",
       " 'apex': 84.0,\n",
       " 'height': 172960.79114030077,\n",
       " 'cSelectivity': 1.0,\n",
       " 'goodness_fitting': 0.9466921897715592,\n",
       " 'snr': 35.0}"
      ]
     },
     "execution_count": 17,
     "metadata": {},
     "output_type": "execute_result"
    }
   ],
   "source": [
    "ipsc = read_table_to_peaks('pos_cmap_feature_table.csv', ',')\n",
    "ipsc[0]"
   ]
  },
  {
   "cell_type": "code",
   "execution_count": 18,
   "metadata": {},
   "outputs": [],
   "source": [
    "EED = ExperimentalEcpdDatabase()"
   ]
  },
  {
   "cell_type": "code",
   "execution_count": 19,
   "metadata": {},
   "outputs": [
    {
     "name": "stdout",
     "output_type": "stream",
     "text": [
      "\n",
      "\n",
      "Annotating empirical compounds on 9786 features/peaks, ...\n",
      "Round 1 - numbers of epds and included peaks:  (1613, 3668)\n",
      "Round 2 - numbers of epds and included peaks:  (1613, 4260)\n",
      "Round 3 - numbers of epds and included peaks:  (2181, 5480)\n"
     ]
    }
   ],
   "source": [
    "EED.build_from_list_peaks(ipsc)"
   ]
  },
  {
   "cell_type": "code",
   "execution_count": 20,
   "metadata": {},
   "outputs": [
    {
     "data": {
      "text/plain": [
       "{'interim_id': 12,\n",
       " 'neutral_formula_mass': None,\n",
       " 'neutral_formula': None,\n",
       " 'Database_referred': [],\n",
       " 'identity': [],\n",
       " 'MS1_pseudo_Spectra': [{'feature_id': 'F94',\n",
       "   'mz': 98.97531935309317,\n",
       "   'rtime': 700.0,\n",
       "   'charged_formula': '',\n",
       "   'ion_relation': 'anchor',\n",
       "   'parent_epd_id': 12},\n",
       "  {'feature_id': 'F8161',\n",
       "   'mz': 99.9786892845517,\n",
       "   'rtime': 701.0,\n",
       "   'charged_formula': '',\n",
       "   'ion_relation': '13C/12C',\n",
       "   'parent_epd_id': 12},\n",
       "  {'feature_id': 'F317',\n",
       "   'mz': 116.98587698692174,\n",
       "   'rtime': 700.0,\n",
       "   'charged_formula': '',\n",
       "   'ion_relation': 'anchor,+H2O',\n",
       "   'parent_epd_id': 12}],\n",
       " 'MS2_Spectra': []}"
      ]
     },
     "execution_count": 20,
     "metadata": {},
     "output_type": "execute_result"
    }
   ],
   "source": [
    "list(EED.dict_empCpds.values())[12]"
   ]
  },
  {
   "cell_type": "code",
   "execution_count": 21,
   "metadata": {},
   "outputs": [
    {
     "data": {
      "text/plain": [
       "[{'id_number': 'F723',\n",
       "  'mz': 143.12603442721115,\n",
       "  'apex': 28.0,\n",
       "  'height': 341842.15591380745,\n",
       "  'cSelectivity': 1.0,\n",
       "  'goodness_fitting': 0.9114621608245448,\n",
       "  'snr': 23.0},\n",
       " {'id_number': 'F724',\n",
       "  'mz': 143.12603442721115,\n",
       "  'apex': 34.0,\n",
       "  'height': 348133.74506984063,\n",
       "  'cSelectivity': 1.0,\n",
       "  'goodness_fitting': 0.8897818529939553,\n",
       "  'snr': 24.0},\n",
       " {'id_number': 'F725',\n",
       "  'mz': 143.12603442721115,\n",
       "  'apex': 387.0,\n",
       "  'height': 65955.56503863656,\n",
       "  'cSelectivity': 0.7613636363636364,\n",
       "  'goodness_fitting': 0.8434391059138034,\n",
       "  'snr': 4.0},\n",
       " {'id_number': 'F726',\n",
       "  'mz': 143.12603442721115,\n",
       "  'apex': 403.0,\n",
       "  'height': 75066.65470082065,\n",
       "  'cSelectivity': 0.8322147651006712,\n",
       "  'goodness_fitting': 0.9484010353768128,\n",
       "  'snr': 5.0},\n",
       " {'id_number': 'F727',\n",
       "  'mz': 143.12603442721115,\n",
       "  'apex': 115.0,\n",
       "  'height': 160672.45227231205,\n",
       "  'cSelectivity': 0.32786885245901637,\n",
       "  'goodness_fitting': 0.7581664034528794,\n",
       "  'snr': 11.0}]"
      ]
     },
     "execution_count": 21,
     "metadata": {},
     "output_type": "execute_result"
    }
   ],
   "source": [
    "EED.search_peaks_mz_single(143.1260)"
   ]
  },
  {
   "cell_type": "code",
   "execution_count": 22,
   "metadata": {},
   "outputs": [
    {
     "data": {
      "text/plain": [
       "[{'feature_id': 'F725',\n",
       "  'mz': 143.12603442721115,\n",
       "  'rtime': 387.0,\n",
       "  'charged_formula': '',\n",
       "  'ion_relation': 'M(13C),M(34S)',\n",
       "  'parent_epd_id': 112},\n",
       " {'feature_id': 'F726',\n",
       "  'mz': 143.12603442721115,\n",
       "  'rtime': 403.0,\n",
       "  'charged_formula': '',\n",
       "  'ion_relation': 'M(13C),M(34S)',\n",
       "  'parent_epd_id': 113}]"
      ]
     },
     "execution_count": 22,
     "metadata": {},
     "output_type": "execute_result"
    }
   ],
   "source": [
    "EED.search_empCpds_mz_single(143.1260)"
   ]
  },
  {
   "cell_type": "code",
   "execution_count": 23,
   "metadata": {},
   "outputs": [
    {
     "data": {
      "text/plain": [
       "[[{'id_number': 'F723',\n",
       "   'mz': 143.12603442721115,\n",
       "   'apex': 28.0,\n",
       "   'height': 341842.15591380745,\n",
       "   'cSelectivity': 1.0,\n",
       "   'goodness_fitting': 0.9114621608245448,\n",
       "   'snr': 23.0},\n",
       "  {'id_number': 'F724',\n",
       "   'mz': 143.12603442721115,\n",
       "   'apex': 34.0,\n",
       "   'height': 348133.74506984063,\n",
       "   'cSelectivity': 1.0,\n",
       "   'goodness_fitting': 0.8897818529939553,\n",
       "   'snr': 24.0},\n",
       "  {'id_number': 'F725',\n",
       "   'mz': 143.12603442721115,\n",
       "   'apex': 387.0,\n",
       "   'height': 65955.56503863656,\n",
       "   'cSelectivity': 0.7613636363636364,\n",
       "   'goodness_fitting': 0.8434391059138034,\n",
       "   'snr': 4.0},\n",
       "  {'id_number': 'F726',\n",
       "   'mz': 143.12603442721115,\n",
       "   'apex': 403.0,\n",
       "   'height': 75066.65470082065,\n",
       "   'cSelectivity': 0.8322147651006712,\n",
       "   'goodness_fitting': 0.9484010353768128,\n",
       "   'snr': 5.0},\n",
       "  {'id_number': 'F727',\n",
       "   'mz': 143.12603442721115,\n",
       "   'apex': 115.0,\n",
       "   'height': 160672.45227231205,\n",
       "   'cSelectivity': 0.32786885245901637,\n",
       "   'goodness_fitting': 0.7581664034528794,\n",
       "   'snr': 11.0}],\n",
       " [],\n",
       " [{'id_number': 'F1900',\n",
       "   'mz': 201.9941169158942,\n",
       "   'apex': 126.0,\n",
       "   'height': 129958.56041296644,\n",
       "   'cSelectivity': 0.36538461538461536,\n",
       "   'goodness_fitting': 0.6318569603288477,\n",
       "   'snr': 19.0}]]"
      ]
     },
     "execution_count": 23,
     "metadata": {},
     "output_type": "execute_result"
    }
   ],
   "source": [
    "EED.search_peaks_mz_batch([143.1260, 411.1841, 201.994])"
   ]
  },
  {
   "cell_type": "code",
   "execution_count": 24,
   "metadata": {},
   "outputs": [
    {
     "data": {
      "text/plain": [
       "[('M[1+]', []),\n",
       " ('M+H[1+]', []),\n",
       " ('M+Na[1+]', []),\n",
       " ('M+H2O+H[1+]', []),\n",
       " ('M(C13)[1+]', []),\n",
       " ('M(C13)+H[1+]', []),\n",
       " ('M+2H[2+]', []),\n",
       " ('M+3H[3+]', []),\n",
       " ('M(C13)+2H[2+]', []),\n",
       " ('M(C13)+3H[3+]', []),\n",
       " ('M+H+Na[2+]', []),\n",
       " ('M+K[1+]', []),\n",
       " ('M+NaCl[1+]', []),\n",
       " ('M+NH4[1+]', []),\n",
       " ('M-H2O+H[1+]', []),\n",
       " ('M-H4O2+H[1+]', []),\n",
       " ('M-CO+H[1+]', []),\n",
       " ('M-CO2+H[1+]', []),\n",
       " ('M-HCOOH+H[1+]', []),\n",
       " ('M+HCOONa[1+]', []),\n",
       " ('M-C3H4O2+H[1+]', []),\n",
       " ('M+HCOOK[1+]', [])]"
      ]
     },
     "execution_count": 24,
     "metadata": {},
     "output_type": "execute_result"
    }
   ],
   "source": [
    "EED.search_peaks_compound_single(list_compounds[199], mz_tolerance_ppm=5)"
   ]
  },
  {
   "cell_type": "code",
   "execution_count": 25,
   "metadata": {},
   "outputs": [
    {
     "data": {
      "text/plain": [
       "[('M[1+]', []),\n",
       " ('M+H[1+]', []),\n",
       " ('M+Na[1+]', []),\n",
       " ('M+H2O+H[1+]', []),\n",
       " ('M(C13)[1+]', []),\n",
       " ('M(C13)+H[1+]', []),\n",
       " ('M+2H[2+]', []),\n",
       " ('M+3H[3+]', []),\n",
       " ('M(C13)+2H[2+]', []),\n",
       " ('M(C13)+3H[3+]',\n",
       "  [{'id_number': 'F3270',\n",
       "    'mz': 296.9461017847061,\n",
       "    'apex': 370.0,\n",
       "    'height': 354415.6666666666,\n",
       "    'cSelectivity': 1.0,\n",
       "    'goodness_fitting': 0.7441239970931866,\n",
       "    'snr': 354415.0}]),\n",
       " ('M+H+Na[2+]',\n",
       "  [{'id_number': 'F4509',\n",
       "    'mz': 455.3928166802476,\n",
       "    'apex': 212.0,\n",
       "    'height': 2851107.61997203,\n",
       "    'cSelectivity': 1.0,\n",
       "    'goodness_fitting': 0.9094392761917989,\n",
       "    'snr': 2851107.0}]),\n",
       " ('M+K[1+]', []),\n",
       " ('M+NaCl[1+]', []),\n",
       " ('M+NH4[1+]', []),\n",
       " ('M-H2O+H[1+]', []),\n",
       " ('M-H4O2+H[1+]', []),\n",
       " ('M-CO+H[1+]', []),\n",
       " ('M-CO2+H[1+]', []),\n",
       " ('M-HCOOH+H[1+]', []),\n",
       " ('M+HCOONa[1+]', []),\n",
       " ('M-C3H4O2+H[1+]', []),\n",
       " ('M+HCOOK[1+]', [])]"
      ]
     },
     "execution_count": 25,
     "metadata": {},
     "output_type": "execute_result"
    }
   ],
   "source": [
    "EED.search_peaks_compound_single(list_compounds[199], mz_tolerance_ppm=50)"
   ]
  },
  {
   "cell_type": "markdown",
   "metadata": {},
   "source": [
    "## match emp Cpds "
   ]
  },
  {
   "cell_type": "code",
   "execution_count": 26,
   "metadata": {},
   "outputs": [
    {
     "data": {
      "text/plain": [
       "{'interim_id': 15,\n",
       " 'neutral_formula_mass': None,\n",
       " 'neutral_formula': None,\n",
       " 'Database_referred': [],\n",
       " 'identity': [],\n",
       " 'MS1_pseudo_Spectra': [{'feature_id': 'F117',\n",
       "   'mz': 100.11207049661286,\n",
       "   'rtime': 221.0,\n",
       "   'charged_formula': '',\n",
       "   'ion_relation': 'anchor',\n",
       "   'parent_epd_id': 15},\n",
       "  {'feature_id': 'F132',\n",
       "   'mz': 101.11543204162328,\n",
       "   'rtime': 221.0,\n",
       "   'charged_formula': '',\n",
       "   'ion_relation': '13C/12C',\n",
       "   'parent_epd_id': 15}],\n",
       " 'MS2_Spectra': []}"
      ]
     },
     "execution_count": 26,
     "metadata": {},
     "output_type": "execute_result"
    }
   ],
   "source": [
    "EED.dict_empCpds[15]"
   ]
  },
  {
   "cell_type": "code",
   "execution_count": 27,
   "metadata": {},
   "outputs": [
    {
     "data": {
      "text/plain": [
       "[('C6H14N_100.112624', 'M[1+]', 2), ('C6H13N_99.104799', 'M+H[1+]', 2)]"
      ]
     },
     "execution_count": 27,
     "metadata": {},
     "output_type": "execute_result"
    }
   ],
   "source": [
    "KCD.search_emp_cpd_single( EED.dict_empCpds[15] )"
   ]
  },
  {
   "cell_type": "code",
   "execution_count": 28,
   "metadata": {},
   "outputs": [
    {
     "data": {
      "text/plain": [
       "[[('C6H14N_100.112624', 'M[1+]', 2), ('C6H13N_99.104799', 'M+H[1+]', 2)],\n",
       " [('C4H8N2O_100.063663', 'M+H[1+]', 2),\n",
       "  ('C4H6N2_82.053098', 'M+H2O+H[1+]', 1)],\n",
       " [('C4H7NO2_101.047678', 'M+H[1+]', 2)],\n",
       " [('C4H7NO2_101.047678', 'M+H[1+]', 2)],\n",
       " []]"
      ]
     },
     "execution_count": 28,
     "metadata": {},
     "output_type": "execute_result"
    }
   ],
   "source": [
    "KCD.search_emp_cpd_batch( [EED.dict_empCpds[ii] for ii in range(15,20)] )"
   ]
  },
  {
   "cell_type": "code",
   "execution_count": 29,
   "metadata": {},
   "outputs": [],
   "source": [
    "search_result = EED.annotate_against_KCD(KCD)"
   ]
  },
  {
   "cell_type": "code",
   "execution_count": 30,
   "metadata": {},
   "outputs": [
    {
     "data": {
      "text/plain": [
       "[('C7H8N2O_136.063663', 'M+H[1+]', 2),\n",
       " ('C7H9N2O_137.071488', 'M[1+]', 2),\n",
       " ('C7H6N2_118.053098', 'M+H2O+H[1+]', 1)]"
      ]
     },
     "execution_count": 30,
     "metadata": {},
     "output_type": "execute_result"
    }
   ],
   "source": [
    "search_result[99]"
   ]
  },
  {
   "cell_type": "code",
   "execution_count": 31,
   "metadata": {},
   "outputs": [
    {
     "data": {
      "text/plain": [
       "{'id_number': 'F3',\n",
       " 'mz': 82.06515664524503,\n",
       " 'apex': 624.0,\n",
       " 'height': 31427.481827291795,\n",
       " 'cSelectivity': 0.14285714285714285,\n",
       " 'goodness_fitting': 0.741785986913415,\n",
       " 'snr': 19.0}"
      ]
     },
     "execution_count": 31,
     "metadata": {},
     "output_type": "execute_result"
    }
   ],
   "source": [
    "EED.list_peaks[2]"
   ]
  },
  {
   "cell_type": "code",
   "execution_count": 32,
   "metadata": {},
   "outputs": [
    {
     "data": {
      "text/plain": [
       "[('F4', 0), ('F9', 0), ('F5', 1)]"
      ]
     },
     "execution_count": 32,
     "metadata": {},
     "output_type": "execute_result"
    }
   ],
   "source": [
    "list(EED.peak_to_empCpd.items())[:3]"
   ]
  },
  {
   "cell_type": "code",
   "execution_count": 33,
   "metadata": {},
   "outputs": [
    {
     "name": "stdout",
     "output_type": "stream",
     "text": [
      "\n",
      "Annotation of 2181 Empirical compounds was written to test14.tsv.\n"
     ]
    }
   ],
   "source": [
    "EED.export_annotations(search_result, KCD, \"test14\")"
   ]
  },
  {
   "cell_type": "code",
   "execution_count": 35,
   "metadata": {},
   "outputs": [],
   "source": [
    "from jms.dbStructures import annotate_peaks_against_kcds"
   ]
  },
  {
   "cell_type": "code",
   "execution_count": 37,
   "metadata": {},
   "outputs": [
    {
     "name": "stdout",
     "output_type": "stream",
     "text": [
      "\n",
      "\n",
      "Annotating empirical compounds on 9786 features/peaks, ...\n",
      "Round 1 - numbers of epds and included peaks:  (1613, 3668)\n",
      "Round 2 - numbers of epds and included peaks:  (1613, 4260)\n",
      "Round 3 - numbers of epds and included peaks:  (2181, 5480)\n",
      "\n",
      "Annotation of 2181 Empirical compounds was written to jms_annotated_.tsv.\n"
     ]
    }
   ],
   "source": [
    "#\n",
    "# Test wrapper function. One could run this single wrapper function \n",
    "# right after getting the lists of peaks and compounds, and skip most steps above.\n",
    "#\n",
    "annotate_peaks_against_kcds(ipsc, list_compounds, \n",
    "                                export_file_name_prefix='jms_annotated_',\n",
    "                                mode='pos',  mz_tolerance_ppm=5)"
   ]
  },
  {
   "cell_type": "markdown",
   "metadata": {},
   "source": [
    "## Summary\n",
    "\n",
    "The JMS package deals with empCpd grouping in both DB derived and experiment derived data.\n",
    "\n",
    "We have implemented empCpd based matching. For expt data without empCpd matching, the search falls back to m/z based match.\n",
    "\n",
    "The wapper function `annotate_peaks_against_kcds` is one step to do all.\n",
    "\n",
    "Note the export `KCD.export_mass_indexed_compounds(export_file_name_prefix+\"KCD_mass_indexed_compounds.json\")` can be bulky."
   ]
  }
 ],
 "metadata": {
  "kernelspec": {
   "display_name": "Python 3",
   "language": "python",
   "name": "python3"
  },
  "language_info": {
   "codemirror_mode": {
    "name": "ipython",
    "version": 3
   },
   "file_extension": ".py",
   "mimetype": "text/x-python",
   "name": "python",
   "nbconvert_exporter": "python",
   "pygments_lexer": "ipython3",
   "version": "3.7.3"
  }
 },
 "nbformat": 4,
 "nbformat_minor": 2
}
