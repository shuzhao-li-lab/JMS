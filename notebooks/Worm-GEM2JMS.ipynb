{
 "cells": [
  {
   "cell_type": "markdown",
   "metadata": {},
   "source": [
    "# Porting genome scale metabolic models for metabolomics\n",
    "\n",
    "**Worm-GEM as default worm model, for better compatibility**\n",
    "https://github.com/SysBioChalmers/Worm-GEM\n",
    "\n",
    "**Use cobra to parse SBML models whereas applicable**\n",
    "\n",
    "Not all models comply with the formats in cobra. Models from USCD and Thiele labs should comply.\n",
    "\n",
    "**Base our code on metDataModel**\n",
    "\n",
    "Each model needs a list of Reactions, list of Pathways, and a list of Compounds.\n",
    "It's important to include with Compounds with all linked identifiers to other DBs (HMDB, PubChem, etc), and with formulae (usually charged form in these models) when available.\n",
    "We can alwasy update the data later. E.g. the neural formulae can be inferred from charged formula or retrieved from public metabolite database (e.g., HMDB) if linked.\n",
    "Save in Python pickle and in JSON.\n",
    "\n",
    "**No compartmentalization**\n",
    "- After decompartmentalization,\n",
    "  - transport reactions can be removed - they are identified by reactants and products being the same.\n",
    "  - redundant reactions can be merge - same reactions in diff compartments become one.\n",
    "\n",
    "Shuzhao Li, 2021-10-21|\n",
    "Minghao Gong, 2022-04-25"
   ]
  },
  {
   "cell_type": "code",
   "execution_count": 1,
   "metadata": {
    "scrolled": true
   },
   "outputs": [],
   "source": [
    "# !pip install cobra --user --ignore-installed ruamel.yaml\n",
    "# !pip install --upgrade metDataModel # https://github.com/shuzhao-li/metDataModel/ \n",
    "# !pip install --upgrade numpy pandas"
   ]
  },
  {
   "cell_type": "code",
   "execution_count": 2,
   "metadata": {},
   "outputs": [],
   "source": [
    "import cobra # https://cobrapy.readthedocs.io/en/latest/io.html#SBML\n",
    "from metDataModel.core import Compound, Reaction, Pathway, MetabolicModel\n",
    "import requests\n",
    "import sys\n",
    "\n",
    "sys.path.append(\"/Users/gongm/Documents/projects/mass2chem/\")\n",
    "sys.path.append(\"/Users/gongm/Documents/projects/JMS/JMS/JMS\")\n",
    "from mass2chem.formula import *\n",
    "from jms.formula import *\n",
    "from jms.utils.gems import *"
   ]
  },
  {
   "cell_type": "code",
   "execution_count": 3,
   "metadata": {},
   "outputs": [],
   "source": [
    "# download the most updated Worm-GEM.xml\n",
    "model_name = 'Worm-GEM'\n",
    "xml_url = f'https://github.com/SysBioChalmers/{model_name}/blob/main/model/{model_name}.xml'\n",
    "local_path = f'../testdata/{model_name}/'\n",
    "\n",
    "try:\n",
    "    os.mkdir(local_path)\n",
    "except:\n",
    "    None\n",
    "\n",
    "xml_file_name = f'{model_name}.xml'\n",
    "git_download_from_file(xml_url,local_path,xml_file_name)"
   ]
  },
  {
   "cell_type": "code",
   "execution_count": 4,
   "metadata": {
    "scrolled": true
   },
   "outputs": [
    {
     "name": "stderr",
     "output_type": "stream",
     "text": [
      "'' is not a valid SBML 'SId'.\n",
      "https://identifiers.org/taxonomy/ does not conform to 'http(s)://identifiers.org/collection/id' or'http(s)://identifiers.org/COLLECTION:id\n"
     ]
    },
    {
     "name": "stdout",
     "output_type": "stream",
     "text": [
      "Scaling...\n",
      " A: min|aij| =  1.000e+00  max|aij| =  1.000e+00  ratio =  1.000e+00\n",
      "Problem data seem to be well scaled\n"
     ]
    }
   ],
   "source": [
    "# Read the model via cobra\n",
    "xmlFile = os.path.join(local_path,xml_file_name)\n",
    "model = cobra.io.read_sbml_model(xmlFile)"
   ]
  },
  {
   "cell_type": "code",
   "execution_count": 5,
   "metadata": {
    "scrolled": true
   },
   "outputs": [
    {
     "data": {
      "text/html": [
       "\n",
       "        <table>\n",
       "            <tr>\n",
       "                <td><strong>Name</strong></td>\n",
       "                <td></td>\n",
       "            </tr><tr>\n",
       "                <td><strong>Memory address</strong></td>\n",
       "                <td>0x07f8f9588ef10</td>\n",
       "            </tr><tr>\n",
       "                <td><strong>Number of metabolites</strong></td>\n",
       "                <td>8150</td>\n",
       "            </tr><tr>\n",
       "                <td><strong>Number of reactions</strong></td>\n",
       "                <td>12187</td>\n",
       "            </tr><tr>\n",
       "                <td><strong>Number of groups</strong></td>\n",
       "                <td>150</td>\n",
       "            </tr><tr>\n",
       "                <td><strong>Objective expression</strong></td>\n",
       "                <td>1.0*MAR00021 - 1.0*MAR00021_reverse_97974</td>\n",
       "            </tr><tr>\n",
       "                <td><strong>Compartments</strong></td>\n",
       "                <td>Cytosol, Extracellular, Lysosome, Endoplasmic reticulum, Mitochondria, Peroxisome, Golgi apparatus, Nucleus, Inner mitochondria</td>\n",
       "            </tr>\n",
       "          </table>"
      ],
      "text/plain": [
       "<Model  at 0x7f8f9588ef10>"
      ]
     },
     "execution_count": 5,
     "metadata": {},
     "output_type": "execute_result"
    }
   ],
   "source": [
    "model"
   ]
  },
  {
   "cell_type": "code",
   "execution_count": 6,
   "metadata": {},
   "outputs": [
    {
     "data": {
      "text/html": [
       "\n",
       "        <table>\n",
       "            <tr>\n",
       "                <td><strong>Metabolite identifier</strong></td><td>MAM00616p</td>\n",
       "            </tr><tr>\n",
       "                <td><strong>Name</strong></td><td>25(R)THCA-CoA</td>\n",
       "            </tr><tr>\n",
       "                <td><strong>Memory address</strong></td>\n",
       "                <td>0x07f8f775c2ee0</td>\n",
       "            </tr><tr>\n",
       "                <td><strong>Formula</strong></td><td>C48H76N7O20P3S</td>\n",
       "            </tr><tr>\n",
       "                <td><strong>Compartment</strong></td><td>p</td>\n",
       "            </tr><tr>\n",
       "                <td><strong>In 3 reaction(s)</strong></td><td>\n",
       "                    MAR01625, MAR02285, MAR01632</td>\n",
       "            </tr>\n",
       "        </table>"
      ],
      "text/plain": [
       "<Metabolite MAM00616p at 0x7f8f775c2ee0>"
      ]
     },
     "execution_count": 6,
     "metadata": {},
     "output_type": "execute_result"
    }
   ],
   "source": [
    "# metabolite entries, readily convert to list of metabolites\n",
    "model.metabolites[990] "
   ]
  },
  {
   "cell_type": "code",
   "execution_count": 7,
   "metadata": {
    "scrolled": true
   },
   "outputs": [
    {
     "data": {
      "text/html": [
       "\n",
       "        <table>\n",
       "            <tr>\n",
       "                <td><strong>Reaction identifier</strong></td><td>MAR04122</td>\n",
       "            </tr><tr>\n",
       "                <td><strong>Name</strong></td><td></td>\n",
       "            </tr><tr>\n",
       "                <td><strong>Memory address</strong></td>\n",
       "                <td>0x07f8f48023ca0</td>\n",
       "            </tr><tr>\n",
       "                <td><strong>Stoichiometry</strong></td>\n",
       "                <td>\n",
       "                    <p style='text-align:right'>MAM02040c + 2.0 MAM02552c + MAM03108c --> 3.0 MAM02039c + 2.0 MAM02553c + MAM03109c</p>\n",
       "                    <p style='text-align:right'>H2O + 2.0 NAD+ + UDP-glucose --> 3.0 H+ + 2.0 NADH + UDP-glucuronate</p>\n",
       "                </td>\n",
       "            </tr><tr>\n",
       "                <td><strong>GPR</strong></td><td>sqv-4</td>\n",
       "            </tr><tr>\n",
       "                <td><strong>Lower bound</strong></td><td>0.0</td>\n",
       "            </tr><tr>\n",
       "                <td><strong>Upper bound</strong></td><td>1000.0</td>\n",
       "            </tr>\n",
       "        </table>\n",
       "        "
      ],
      "text/plain": [
       "<Reaction MAR04122 at 0x7f8f48023ca0>"
      ]
     },
     "execution_count": 7,
     "metadata": {},
     "output_type": "execute_result"
    }
   ],
   "source": [
    "# reaction entries, Readily convert to list of reactions\n",
    "model.reactions[33]"
   ]
  },
  {
   "cell_type": "markdown",
   "metadata": {},
   "source": [
    "# There are no group/pathway information in this "
   ]
  },
  {
   "cell_type": "markdown",
   "metadata": {},
   "source": [
    "## Port metabolite"
   ]
  },
  {
   "cell_type": "code",
   "execution_count": 8,
   "metadata": {
    "scrolled": true
   },
   "outputs": [],
   "source": [
    "def port_metabolite(M):\n",
    "    # convert cobra Metabolite to metDataModel Compound\n",
    "    Cpd = Compound()\n",
    "    Cpd.src_id = remove_compartment_by_substr(M.id,1)\n",
    "    Cpd.id = remove_compartment_by_substr(M.id,1)              # temporarily the same with the source id\n",
    "    Cpd.name = M.name\n",
    "    Cpd.charge = M.charge\n",
    "    Cpd.neutral_formula = adjust_charge_in_formula(M.formula,M.charge)\n",
    "    Cpd.neutral_mono_mass = neutral_formula2mass(Cpd.neutral_formula)\n",
    "    Cpd.charged_formula = M.formula\n",
    "    Cpd.db_ids = [[model_name,Cpd.src_id]] # using src_id to also reference Worm-GEM ID in db_ids field\n",
    "    for k,v in M.annotation.items():\n",
    "        if k != 'sbo':\n",
    "            if isinstance(v,list):\n",
    "                Cpd.db_ids.append([[k,x] for x in v])\n",
    "            else: \n",
    "                if \":\" in v:\n",
    "                    Cpd.db_ids.append([k,v.split(\":\")[1]])\n",
    "                else:\n",
    "                    Cpd.db_ids.append([k,v])\n",
    "    \n",
    "    inchi_list = [x[1].split('=')[1] for x in Cpd.db_ids if x[0] == 'inchi']\n",
    "    if len(inchi_list) ==1:\n",
    "        Cpd.inchi = inchi_list[0]\n",
    "    elif len(inchi_list) >1:\n",
    "        Cpd.inchi = inchi_list\n",
    "        \n",
    "    return Cpd"
   ]
  },
  {
   "cell_type": "code",
   "execution_count": 9,
   "metadata": {
    "scrolled": false
   },
   "outputs": [],
   "source": [
    "myCpds = []\n",
    "for i in range(len(model.metabolites)):\n",
    "    myCpds.append(port_metabolite(model.metabolites[i]))"
   ]
  },
  {
   "cell_type": "code",
   "execution_count": 10,
   "metadata": {},
   "outputs": [
    {
     "data": {
      "text/plain": [
       "8150"
      ]
     },
     "execution_count": 10,
     "metadata": {},
     "output_type": "execute_result"
    }
   ],
   "source": [
    "len(myCpds)"
   ]
  },
  {
   "cell_type": "code",
   "execution_count": 11,
   "metadata": {},
   "outputs": [],
   "source": [
    "# remove duplicated compounds\n",
    "myCpds = remove_duplicate_cpd(myCpds)"
   ]
  },
  {
   "cell_type": "code",
   "execution_count": 12,
   "metadata": {
    "scrolled": true
   },
   "outputs": [
    {
     "data": {
      "text/plain": [
       "{'internal_id': '',\n",
       " 'id': 'MAM00101',\n",
       " 'name': '(5Z,8Z,11Z)-eicosatrienoyl-CoA',\n",
       " 'db_ids': [['Worm-GEM', 'MAM00101']],\n",
       " 'neutral_formula': 'C41H68N7O17P3S',\n",
       " 'neutral_mono_mass': 1055.360526,\n",
       " 'charge': -4,\n",
       " 'charged_formula': 'C41H64N7O17P3S',\n",
       " 'SMILES': '',\n",
       " 'inchi': '',\n",
       " 'src_id': 'MAM00101'}"
      ]
     },
     "execution_count": 12,
     "metadata": {},
     "output_type": "execute_result"
    }
   ],
   "source": [
    "myCpds[100].__dict__"
   ]
  },
  {
   "cell_type": "code",
   "execution_count": 13,
   "metadata": {
    "scrolled": true
   },
   "outputs": [
    {
     "data": {
      "text/plain": [
       "4032"
      ]
     },
     "execution_count": 13,
     "metadata": {},
     "output_type": "execute_result"
    }
   ],
   "source": [
    "len(myCpds)"
   ]
  },
  {
   "cell_type": "code",
   "execution_count": 14,
   "metadata": {},
   "outputs": [],
   "source": [
    "fetch_MetabAtlas_GEM_identifiers(compound_list = myCpds,\n",
    "                                 modelName = model_name,\n",
    "                                 local_path = local_path,\n",
    "                                 metab_file_name = 'metabolites.tsv',\n",
    "                                 overwrite = True)"
   ]
  },
  {
   "cell_type": "code",
   "execution_count": 15,
   "metadata": {},
   "outputs": [
    {
     "data": {
      "text/plain": [
       "{'internal_id': '',\n",
       " 'id': 'MAM00101',\n",
       " 'name': '(5Z,8Z,11Z)-eicosatrienoyl-CoA',\n",
       " 'db_ids': [('HMR2', 'm00101c'),\n",
       "  ('LipidMaps', 'LMFA07050062'),\n",
       "  ('MetaNetX', 'MNXM47372'),\n",
       "  ('MetaNetX', 'MNXM488534'),\n",
       "  ('Recon3D', 'M00101')],\n",
       " 'neutral_formula': 'C41H68N7O17P3S',\n",
       " 'neutral_mono_mass': 1055.360526,\n",
       " 'charge': -4,\n",
       " 'charged_formula': 'C41H64N7O17P3S',\n",
       " 'SMILES': '',\n",
       " 'inchi': '',\n",
       " 'src_id': 'MAM00101'}"
      ]
     },
     "execution_count": 15,
     "metadata": {},
     "output_type": "execute_result"
    }
   ],
   "source": [
    "myCpds[100].__dict__"
   ]
  },
  {
   "cell_type": "markdown",
   "metadata": {},
   "source": [
    "## Port reactions"
   ]
  },
  {
   "cell_type": "code",
   "execution_count": 16,
   "metadata": {},
   "outputs": [
    {
     "data": {
      "text/plain": [
       "['MAR04002',\n",
       " ['MAM01285'],\n",
       " ['MAM01334', 'MAM01371'],\n",
       " ['F13E6.2', 'let-754', 'ZK673.2', 'F38B2.4', 'taf-9'],\n",
       " ['2.7.4.3']]"
      ]
     },
     "execution_count": 16,
     "metadata": {},
     "output_type": "execute_result"
    }
   ],
   "source": [
    "# port reactions, to include genes and enzymes\n",
    "def port_reaction(R):\n",
    "    new = Reaction()\n",
    "    new.id = R.id\n",
    "    new.reactants = [remove_compartment_by_substr(m.id,1) for m in R.reactants] # decompartmentalization\n",
    "    new.products = [remove_compartment_by_substr(m.id,1) for m in R.products]   # decompartmentalization\n",
    "    new.genes = [g.id for g in R.genes]\n",
    "    ecs = R.annotation.get('ec-code', [])\n",
    "    if isinstance(ecs, list):\n",
    "        new.enzymes = ecs\n",
    "    else:\n",
    "        new.enzymes = [ecs]       # this version of Worm-GEM may have it as string\n",
    "    return new\n",
    "\n",
    "test99 = port_reaction(model.reactions[199])\n",
    "[test99.id,\n",
    " test99.reactants,\n",
    " test99.products,\n",
    " test99.genes,\n",
    " test99.enzymes\n",
    "]"
   ]
  },
  {
   "cell_type": "code",
   "execution_count": 17,
   "metadata": {
    "scrolled": true
   },
   "outputs": [
    {
     "name": "stdout",
     "output_type": "stream",
     "text": [
      "12187\n"
     ]
    }
   ],
   "source": [
    "## Reactions to port\n",
    "myRxns = []\n",
    "for R in model.reactions:\n",
    "    myRxns.append( port_reaction(R) )\n",
    "    \n",
    "print(len(myRxns))"
   ]
  },
  {
   "cell_type": "code",
   "execution_count": 18,
   "metadata": {},
   "outputs": [],
   "source": [
    "# remove duplicated reactions after decompartmentalization\n",
    "myRxns = remove_duplicate_rxn(myRxns)"
   ]
  },
  {
   "cell_type": "code",
   "execution_count": 19,
   "metadata": {},
   "outputs": [
    {
     "data": {
      "text/plain": [
       "8047"
      ]
     },
     "execution_count": 19,
     "metadata": {},
     "output_type": "execute_result"
    }
   ],
   "source": [
    "len(myRxns)"
   ]
  },
  {
   "cell_type": "code",
   "execution_count": 20,
   "metadata": {
    "scrolled": false
   },
   "outputs": [
    {
     "data": {
      "text/plain": [
       "{'azimuth_id': '',\n",
       " 'id': 'MAR03905',\n",
       " 'source': [],\n",
       " 'version': '',\n",
       " 'status': '',\n",
       " 'reactants': ['MAM01796', 'MAM02552'],\n",
       " 'products': ['MAM01249', 'MAM02039', 'MAM02553'],\n",
       " 'enzymes': ['1.1.1.1', '1.1.1.71'],\n",
       " 'genes': ['adh-5', 'hphd-1'],\n",
       " 'pathways': [],\n",
       " 'ontologies': [],\n",
       " 'species': '',\n",
       " 'compartments': [],\n",
       " 'cell_types': [],\n",
       " 'tissues': []}"
      ]
     },
     "execution_count": 20,
     "metadata": {},
     "output_type": "execute_result"
    }
   ],
   "source": [
    "myRxns[0].__dict__"
   ]
  },
  {
   "cell_type": "markdown",
   "metadata": {},
   "source": [
    "## Port pathway"
   ]
  },
  {
   "cell_type": "code",
   "execution_count": 21,
   "metadata": {},
   "outputs": [
    {
     "data": {
      "text/plain": [
       "['group13',\n",
       " 'Ascorbate and aldarate metabolism',\n",
       " ['MAR06393', 'MAR06394', 'MAR06396', 'MAR06405', 'MAR08345']]"
      ]
     },
     "execution_count": 21,
     "metadata": {},
     "output_type": "execute_result"
    }
   ],
   "source": [
    "# pathways, using group as pathway. Other models may use subsystem etc.\n",
    "\n",
    "def port_pathway(P):\n",
    "    new = Pathway()\n",
    "    new.id = P.id\n",
    "    new.source = ['Worm-GEM v1.10.0',]\n",
    "    new.name = P.name\n",
    "    new.list_of_reactions = [x.id for x in P.members]\n",
    "    return new\n",
    "\n",
    "p = port_pathway(model.groups[12])\n",
    "\n",
    "[p.id, p.name, p.list_of_reactions[:5]]"
   ]
  },
  {
   "cell_type": "code",
   "execution_count": 22,
   "metadata": {},
   "outputs": [
    {
     "data": {
      "text/plain": [
       "150"
      ]
     },
     "execution_count": 22,
     "metadata": {},
     "output_type": "execute_result"
    }
   ],
   "source": [
    "## Pathways to port\n",
    "myPathways = []\n",
    "for P in model.groups:\n",
    "    myPathways.append(port_pathway(P))\n",
    "\n",
    "len(myPathways)"
   ]
  },
  {
   "cell_type": "code",
   "execution_count": 23,
   "metadata": {},
   "outputs": [],
   "source": [
    "# retain the valid reactions in list of pathway\n",
    "myPathways = retain_valid_Rxns_in_Pathways(myPathways,myRxns)"
   ]
  },
  {
   "cell_type": "code",
   "execution_count": 24,
   "metadata": {},
   "outputs": [
    {
     "data": {
      "text/plain": [
       "8047"
      ]
     },
     "execution_count": 24,
     "metadata": {},
     "output_type": "execute_result"
    }
   ],
   "source": [
    "# test if the length of unique reactions matched with the length of decompartmentalized reaction list \n",
    "test_list_Rxns = []\n",
    "for pathway in myPathways:\n",
    "    for y in pathway.list_of_reactions:\n",
    "        test_list_Rxns.append(y)\n",
    "\n",
    "len(set(test_list_Rxns))"
   ]
  },
  {
   "cell_type": "markdown",
   "metadata": {},
   "source": [
    "## Collected data; now output"
   ]
  },
  {
   "cell_type": "code",
   "execution_count": 32,
   "metadata": {},
   "outputs": [],
   "source": [
    "from datetime import datetime\n",
    "today =  str(datetime.today()).split(\" \")[0]"
   ]
  },
  {
   "cell_type": "code",
   "execution_count": 33,
   "metadata": {
    "scrolled": true
   },
   "outputs": [
    {
     "data": {
      "text/plain": [
       "'2022-04-25'"
      ]
     },
     "execution_count": 33,
     "metadata": {},
     "output_type": "execute_result"
    }
   ],
   "source": [
    "today"
   ]
  },
  {
   "cell_type": "code",
   "execution_count": 34,
   "metadata": {},
   "outputs": [],
   "source": [
    "note = f\"\"\"{model_name} compartmentalized, with genes and ECs.\"\"\"\n",
    "\n",
    "## metabolicModel to export\n",
    "MM = MetabolicModel()\n",
    "MM.id = f'az_{model_name}_{today}' #\n",
    "MM.meta_data = {\n",
    "            'species': model_name.split('-')[0],\n",
    "            'version': '',\n",
    "            'sources': [f'https://github.com/SysBioChalmers/{model_name}, retrieved {today}'], #\n",
    "            'status': '',\n",
    "            'last_update': today,  #\n",
    "            'note': note,\n",
    "        }\n",
    "MM.list_of_reactions = [R.serialize() for R in  myRxns]\n",
    "MM.list_of_compounds = [C.serialize() for C in myCpds]\n",
    "MM.list_of_pathways = [P.serialize() for P in myPathways]"
   ]
  },
  {
   "cell_type": "code",
   "execution_count": 35,
   "metadata": {
    "scrolled": true
   },
   "outputs": [
    {
     "data": {
      "text/plain": [
       "[[{'id': 'MAR03905',\n",
       "   'reactants': ['MAM01796', 'MAM02552'],\n",
       "   'products': ['MAM01249', 'MAM02039', 'MAM02553'],\n",
       "   'genes': ['adh-5', 'hphd-1'],\n",
       "   'enzymes': ['1.1.1.1', '1.1.1.71']},\n",
       "  {'id': 'MAR03907',\n",
       "   'reactants': ['MAM01796', 'MAM02554'],\n",
       "   'products': ['MAM01249', 'MAM02039', 'MAM02555'],\n",
       "   'genes': ['Y39G8B.1'],\n",
       "   'enzymes': ['1.1.1.2']}],\n",
       " [{'id': 'MAM00101',\n",
       "   'name': '(5Z,8Z,11Z)-eicosatrienoyl-CoA',\n",
       "   'identifiers': [('HMR2', 'm00101c'),\n",
       "    ('LipidMaps', 'LMFA07050062'),\n",
       "    ('MetaNetX', 'MNXM47372'),\n",
       "    ('MetaNetX', 'MNXM488534'),\n",
       "    ('Recon3D', 'M00101')],\n",
       "   'neutral_formula': 'C41H68N7O17P3S',\n",
       "   'charge': -4,\n",
       "   'charged_formula': 'C41H64N7O17P3S',\n",
       "   'neutral_mono_mass': 1055.360526,\n",
       "   'SMILES': '',\n",
       "   'inchi': ''},\n",
       "  {'id': 'MAM00102',\n",
       "   'name': '(5Z,8Z,11Z,14Z,17Z)-eicosapentaenoylcarnitine',\n",
       "   'identifiers': [('BiGG', 'tmndnccrn'),\n",
       "    ('HMR2', 'm00102c'),\n",
       "    ('MetaNetX', 'MNXM9158'),\n",
       "    ('Recon3D', 'tmndnccrn')],\n",
       "   'neutral_formula': 'C27H43NO4',\n",
       "   'charge': 0,\n",
       "   'charged_formula': 'C27H43NO4',\n",
       "   'neutral_mono_mass': 445.319209,\n",
       "   'SMILES': '',\n",
       "   'inchi': ''}],\n",
       " [{'id': 'group1',\n",
       "   'name': 'Acyl-CoA hydrolysis',\n",
       "   'list_of_reactions': ['MAR00154',\n",
       "    'MAR00189',\n",
       "    'MAR00193',\n",
       "    'MAR00197',\n",
       "    'MAR00201',\n",
       "    'MAR00206',\n",
       "    'MAR00210',\n",
       "    'MAR00214',\n",
       "    'MAR00223',\n",
       "    'MAR00230',\n",
       "    'MAR00234',\n",
       "    'MAR00238',\n",
       "    'MAR00242',\n",
       "    'MAR00246',\n",
       "    'MAR00250',\n",
       "    'MAR00256',\n",
       "    'MAR00260',\n",
       "    'MAR00264',\n",
       "    'MAR00268',\n",
       "    'MAR00272',\n",
       "    'MAR00276',\n",
       "    'MAR00280',\n",
       "    'MAR00284',\n",
       "    'MAR00290',\n",
       "    'MAR00294',\n",
       "    'MAR00298',\n",
       "    'MAR00302',\n",
       "    'MAR00306',\n",
       "    'MAR00310',\n",
       "    'MAR00314',\n",
       "    'MAR00320',\n",
       "    'MAR00324',\n",
       "    'MAR00328',\n",
       "    'MAR00332',\n",
       "    'MAR00338',\n",
       "    'MAR00342',\n",
       "    'MAR00346',\n",
       "    'MAR00350',\n",
       "    'MAR00354',\n",
       "    'MAR00358',\n",
       "    'MAR00362',\n",
       "    'MAR00366',\n",
       "    'MAR00370',\n",
       "    'MAR00374',\n",
       "    'MAR00378',\n",
       "    'MAR00382',\n",
       "    'MAR00386',\n",
       "    'MAR00390',\n",
       "    'MAR00394',\n",
       "    'MAR00398',\n",
       "    'MAR00402',\n",
       "    'MAR00406',\n",
       "    'MAR00410',\n",
       "    'MAR00414',\n",
       "    'MAR00418',\n",
       "    'MAR00422',\n",
       "    'MAR00426',\n",
       "    'MAR00430',\n",
       "    'MAR00434',\n",
       "    'MAR00438',\n",
       "    'MAR03009',\n",
       "    'MAR03475',\n",
       "    'MAR03476',\n",
       "    'MAR03477']},\n",
       "  {'id': 'group2',\n",
       "   'name': 'Acylglycerides metabolism',\n",
       "   'list_of_reactions': ['MAR00001',\n",
       "    'MAR00003',\n",
       "    'MAR00005',\n",
       "    'MAR00449',\n",
       "    'MAR00604',\n",
       "    'MAR00605',\n",
       "    'MAR00665',\n",
       "    'MAR00667',\n",
       "    'MAR00668',\n",
       "    'MAR00669',\n",
       "    'MAR00670',\n",
       "    'MAR00671',\n",
       "    'MAR00672',\n",
       "    'MAR00679',\n",
       "    'MAR00680',\n",
       "    'MAR00681',\n",
       "    'MAR00682',\n",
       "    'MAR00683',\n",
       "    'MAR00684',\n",
       "    'MAR07588']}]]"
      ]
     },
     "execution_count": 35,
     "metadata": {},
     "output_type": "execute_result"
    }
   ],
   "source": [
    "# check output\n",
    "[\n",
    "MM.list_of_reactions[:2],\n",
    "MM.list_of_compounds[100:102],\n",
    "MM.list_of_pathways[:2]\n",
    "]"
   ]
  },
  {
   "cell_type": "code",
   "execution_count": 36,
   "metadata": {},
   "outputs": [],
   "source": [
    "import pickle\n",
    "import os\n",
    "\n",
    "# Write pickle file\n",
    "export_pickle(os.path.join(local_path,f'{MM.id}.pickle'), MM)"
   ]
  },
  {
   "cell_type": "code",
   "execution_count": 37,
   "metadata": {},
   "outputs": [],
   "source": [
    "# Write json file\n",
    "export_json(os.path.join(local_path,f'{MM.id}.json'), MM)"
   ]
  },
  {
   "cell_type": "code",
   "execution_count": 38,
   "metadata": {},
   "outputs": [],
   "source": [
    "# Write dataframe \n",
    "import pandas as pd\n",
    "export_table(os.path.join(local_path,f'{MM.id}_list_of_compounds.csv'),MM, 'list_of_compounds')\n",
    "export_table(os.path.join(local_path,f'{MM.id}_list_of_reactions.csv'),MM, 'list_of_reactions')\n",
    "export_table(os.path.join(local_path,f'{MM.id}_list_of_pathways.csv'),MM, 'list_of_pathways')"
   ]
  },
  {
   "cell_type": "markdown",
   "metadata": {},
   "source": [
    "## Summary\n",
    "\n",
    "This ports reactions, pathways and compounds. Gene and enzyme information is now included. \n",
    "\n",
    "The exported pickle can be re-imported and uploaded to Database easily.\n",
    "\n",
    "This notebook, the pickle file and the JSON file go to GitHub repo (https://github.com/shuzhao-li/Azimuth)."
   ]
  }
 ],
 "metadata": {
  "kernelspec": {
   "display_name": "Python 3 (ipykernel)",
   "language": "python",
   "name": "python3"
  },
  "language_info": {
   "codemirror_mode": {
    "name": "ipython",
    "version": 3
   },
   "file_extension": ".py",
   "mimetype": "text/x-python",
   "name": "python",
   "nbconvert_exporter": "python",
   "pygments_lexer": "ipython3",
   "version": "3.8.5"
  }
 },
 "nbformat": 4,
 "nbformat_minor": 2
}
