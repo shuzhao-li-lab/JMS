{
 "cells": [
  {
   "cell_type": "markdown",
   "metadata": {},
   "source": [
    "# Porting genome scale metabolic models for metabolomics\n",
    "\n",
    "**mouse-GEM as default mouse model, for better compatibility**\n",
    "https://github.com/SysBioChalmers/Mouse-GEM\n",
    "\n",
    "**Use cobra to parse SBML models whereas applicable**\n",
    "\n",
    "Not all models comply with the formats in cobra. Models from USCD and Thiele labs should comply.\n",
    "\n",
    "**Base our code on metDataModel**\n",
    "\n",
    "Each model needs a list of Reactions, list of Pathways, and a list of Compounds.\n",
    "It's important to include with Compounds with all linked identifiers to other DBs (HMDB, PubChem, etc), and with formulae (usually charged form in these models) when available.\n",
    "We can alwasy update the data later. E.g. the neural formulae can be inferred from charged formula or retrieved from public metabolite database (e.g., HMDB) if linked.\n",
    "Save in Python pickle and in JSON.\n",
    "\n",
    "**No compartmentalization**\n",
    "- After decompartmentalization,\n",
    "  - transport reactions can be removed - they are identified by reactants and products being the same.\n",
    "  - redundant reactions can be merge - same reactions in diff compartments become one.\n",
    "\n",
    "Shuzhao Li, 2021-10-21|\n",
    "Minghao Gong, 2022-04-26"
   ]
  },
  {
   "cell_type": "code",
   "execution_count": 1,
   "metadata": {
    "scrolled": true
   },
   "outputs": [],
   "source": [
    "# !pip install cobra --user --ignore-installed ruamel.yaml\n",
    "# !pip install --upgrade metDataModel # https://github.com/shuzhao-li/metDataModel/ \n",
    "# !pip install --upgrade numpy pandas"
   ]
  },
  {
   "cell_type": "code",
   "execution_count": 2,
   "metadata": {},
   "outputs": [],
   "source": [
    "import cobra # https://cobrapy.readthedocs.io/en/latest/io.html#SBML\n",
    "from metDataModel.core import Compound, Reaction, Pathway, MetabolicModel\n",
    "import requests\n",
    "import sys\n",
    "\n",
    "sys.path.append(\"/Users/gongm/Documents/projects/mass2chem/\")\n",
    "sys.path.append(\"/Users/gongm/Documents/projects/JMS/JMS/JMS\")\n",
    "from mass2chem.formula import *\n",
    "from jms.formula import *\n",
    "from jms.utils.gems import *"
   ]
  },
  {
   "cell_type": "code",
   "execution_count": 3,
   "metadata": {},
   "outputs": [],
   "source": [
    "# download the most updated Mouse-GEM.xml\n",
    "model_name = 'Mouse-GEM'\n",
    "xml_url = f'https://github.com/SysBioChalmers/{model_name}/blob/main/model/{model_name}.xml'\n",
    "local_path = output_fdr = f'../testdata/{model_name}/'\n",
    "\n",
    "try:\n",
    "    os.mkdir(local_path)\n",
    "except:\n",
    "    None\n",
    "\n",
    "xml_file_name = f'{model_name}.xml'\n",
    "git_download_from_file(xml_url,local_path,xml_file_name)"
   ]
  },
  {
   "cell_type": "code",
   "execution_count": 4,
   "metadata": {},
   "outputs": [
    {
     "name": "stderr",
     "output_type": "stream",
     "text": [
      "https://identifiers.org/taxonomy/ does not conform to 'http(s)://identifiers.org/collection/id' or'http(s)://identifiers.org/COLLECTION:id\n"
     ]
    },
    {
     "name": "stdout",
     "output_type": "stream",
     "text": [
      "Scaling...\n",
      " A: min|aij| =  1.000e+00  max|aij| =  1.000e+00  ratio =  1.000e+00\n",
      "Problem data seem to be well scaled\n"
     ]
    }
   ],
   "source": [
    "# Read the model via cobra\n",
    "xmlFile = os.path.join(local_path,xml_file_name)\n",
    "model = cobra.io.read_sbml_model(xmlFile)"
   ]
  },
  {
   "cell_type": "code",
   "execution_count": 5,
   "metadata": {
    "scrolled": true
   },
   "outputs": [
    {
     "data": {
      "text/html": [
       "\n",
       "        <table>\n",
       "            <tr>\n",
       "                <td><strong>Name</strong></td>\n",
       "                <td>MouseGEM</td>\n",
       "            </tr><tr>\n",
       "                <td><strong>Memory address</strong></td>\n",
       "                <td>0x07f952ebc1820</td>\n",
       "            </tr><tr>\n",
       "                <td><strong>Number of metabolites</strong></td>\n",
       "                <td>8370</td>\n",
       "            </tr><tr>\n",
       "                <td><strong>Number of reactions</strong></td>\n",
       "                <td>13063</td>\n",
       "            </tr><tr>\n",
       "                <td><strong>Number of groups</strong></td>\n",
       "                <td>146</td>\n",
       "            </tr><tr>\n",
       "                <td><strong>Objective expression</strong></td>\n",
       "                <td>1.0*MAR00021 - 1.0*MAR00021_reverse_97974</td>\n",
       "            </tr><tr>\n",
       "                <td><strong>Compartments</strong></td>\n",
       "                <td>Cytosol, Extracellular, Lysosome, Endoplasmic reticulum, Mitochondria, Peroxisome, Golgi apparatus, Nucleus, Inner mitochondria</td>\n",
       "            </tr>\n",
       "          </table>"
      ],
      "text/plain": [
       "<Model MouseGEM at 0x7f952ebc1820>"
      ]
     },
     "execution_count": 5,
     "metadata": {},
     "output_type": "execute_result"
    }
   ],
   "source": [
    "model"
   ]
  },
  {
   "cell_type": "code",
   "execution_count": 6,
   "metadata": {},
   "outputs": [
    {
     "data": {
      "text/html": [
       "\n",
       "        <table>\n",
       "            <tr>\n",
       "                <td><strong>Metabolite identifier</strong></td><td>MAM00600c</td>\n",
       "            </tr><tr>\n",
       "                <td><strong>Name</strong></td><td>20-oxo-LTB4</td>\n",
       "            </tr><tr>\n",
       "                <td><strong>Memory address</strong></td>\n",
       "                <td>0x07f950b8a4580</td>\n",
       "            </tr><tr>\n",
       "                <td><strong>Formula</strong></td><td>C20H29O5</td>\n",
       "            </tr><tr>\n",
       "                <td><strong>Compartment</strong></td><td>c</td>\n",
       "            </tr><tr>\n",
       "                <td><strong>In 2 reaction(s)</strong></td><td>\n",
       "                    MAR01129, MAR01132</td>\n",
       "            </tr>\n",
       "        </table>"
      ],
      "text/plain": [
       "<Metabolite MAM00600c at 0x7f950b8a4580>"
      ]
     },
     "execution_count": 6,
     "metadata": {},
     "output_type": "execute_result"
    }
   ],
   "source": [
    "# metabolite entries, readily convert to list of metabolites\n",
    "model.metabolites[990] "
   ]
  },
  {
   "cell_type": "code",
   "execution_count": 7,
   "metadata": {
    "scrolled": true
   },
   "outputs": [
    {
     "data": {
      "text/html": [
       "\n",
       "        <table>\n",
       "            <tr>\n",
       "                <td><strong>Reaction identifier</strong></td><td>MAR08360</td>\n",
       "            </tr><tr>\n",
       "                <td><strong>Name</strong></td><td></td>\n",
       "            </tr><tr>\n",
       "                <td><strong>Memory address</strong></td>\n",
       "                <td>0x07f950d231b80</td>\n",
       "            </tr><tr>\n",
       "                <td><strong>Stoichiometry</strong></td>\n",
       "                <td>\n",
       "                    <p style='text-align:right'>MAM01796x + MAM02041x --> MAM01249x + 2.0 MAM02040x</p>\n",
       "                    <p style='text-align:right'>ethanol + H2O2 --> acetaldehyde + 2.0 H2O</p>\n",
       "                </td>\n",
       "            </tr><tr>\n",
       "                <td><strong>GPR</strong></td><td>Cat</td>\n",
       "            </tr><tr>\n",
       "                <td><strong>Lower bound</strong></td><td>0.0</td>\n",
       "            </tr><tr>\n",
       "                <td><strong>Upper bound</strong></td><td>1000.0</td>\n",
       "            </tr>\n",
       "        </table>\n",
       "        "
      ],
      "text/plain": [
       "<Reaction MAR08360 at 0x7f950d231b80>"
      ]
     },
     "execution_count": 7,
     "metadata": {},
     "output_type": "execute_result"
    }
   ],
   "source": [
    "# reaction entries, Readily convert to list of reactions\n",
    "model.reactions[33]"
   ]
  },
  {
   "cell_type": "code",
   "execution_count": 8,
   "metadata": {
    "scrolled": true
   },
   "outputs": [
    {
     "data": {
      "text/plain": [
       "{'_id': 'group12',\n",
       " 'name': 'Ascorbate and aldarate metabolism',\n",
       " 'notes': {},\n",
       " '_annotation': {'sbo': 'SBO:0000633'},\n",
       " '_members': [<Reaction MAR06393 at 0x7f94ede868e0>,\n",
       "  <Reaction MAR06394 at 0x7f94ede86b80>,\n",
       "  <Reaction MAR06396 at 0x7f94ede86f70>,\n",
       "  <Reaction MAR06405 at 0x7f94ede72400>,\n",
       "  <Reaction MAR08345 at 0x7f94ede86d60>,\n",
       "  <Reaction MAR08346 at 0x7f94ede86f10>,\n",
       "  <Reaction MAR08348 at 0x7f94ede864c0>,\n",
       "  <Reaction MAR08349 at 0x7f94ede726a0>,\n",
       "  <Reaction MAR08619 at 0x7f94ede86b50>,\n",
       "  <Reaction MAR08620 at 0x7f94ede86ca0>,\n",
       "  <Reaction MAR08621 at 0x7f94ede9bee0>,\n",
       "  <Reaction MAR08622 at 0x7f94ede9ba00>,\n",
       "  <Reaction MAR08623 at 0x7f94ede9bd90>,\n",
       "  <Reaction MAR08624 at 0x7f94ede9b9d0>,\n",
       "  <Reaction MAR08625 at 0x7f94ede9bd60>,\n",
       "  <Reaction MAR20008 at 0x7f94f1009be0>,\n",
       "  <Reaction MAR20009 at 0x7f94f1009bb0>],\n",
       " '_kind': 'partonomy',\n",
       " '_model': <Model MouseGEM at 0x7f952ebc1820>}"
      ]
     },
     "execution_count": 8,
     "metadata": {},
     "output_type": "execute_result"
    }
   ],
   "source": [
    "# groups are similar to pathways? Readily convert to list of pathway\n",
    "model.groups[11].__dict__"
   ]
  },
  {
   "cell_type": "markdown",
   "metadata": {},
   "source": [
    "## Port metabolite"
   ]
  },
  {
   "cell_type": "code",
   "execution_count": 9,
   "metadata": {
    "scrolled": true
   },
   "outputs": [],
   "source": [
    "def port_metabolite(M):\n",
    "    # convert cobra Metabolite to metDataModel Compound\n",
    "    Cpd = Compound()\n",
    "    Cpd.src_id = remove_compartment_by_substr(M.id,1)\n",
    "    Cpd.id = remove_compartment_by_substr(M.id,1)              # temporarily the same with the source id\n",
    "    Cpd.name = M.name\n",
    "    Cpd.charge = M.charge\n",
    "    Cpd.neutral_formula = adjust_charge_in_formula(M.formula,M.charge)\n",
    "    Cpd.neutral_mono_mass = neutral_formula2mass(Cpd.neutral_formula)\n",
    "    Cpd.charged_formula = M.formula\n",
    "    Cpd.db_ids = [[model_name,Cpd.src_id]] # using src_id to also reference mouseGEM ID in db_ids field\n",
    "    for k,v in M.annotation.items():\n",
    "        if k != 'sbo':\n",
    "            if isinstance(v,list):\n",
    "                Cpd.db_ids.append([[k,x] for x in v])\n",
    "            else: \n",
    "                if \":\" in v:\n",
    "                    Cpd.db_ids.append([k,v.split(\":\")[1]])\n",
    "                else:\n",
    "                    Cpd.db_ids.append([k,v])\n",
    "    \n",
    "    inchi_list = [x[1].split('=')[1] for x in Cpd.db_ids if x[0] == 'inchi']\n",
    "    if len(inchi_list) ==1:\n",
    "        Cpd.inchi = inchi_list[0]\n",
    "    elif len(inchi_list) >1:\n",
    "        Cpd.inchi = inchi_list\n",
    "        \n",
    "    return Cpd"
   ]
  },
  {
   "cell_type": "code",
   "execution_count": 10,
   "metadata": {
    "scrolled": false
   },
   "outputs": [],
   "source": [
    "myCpds = []\n",
    "for i in range(len(model.metabolites)):\n",
    "    myCpds.append(port_metabolite(model.metabolites[i]))"
   ]
  },
  {
   "cell_type": "code",
   "execution_count": 11,
   "metadata": {},
   "outputs": [
    {
     "data": {
      "text/plain": [
       "8370"
      ]
     },
     "execution_count": 11,
     "metadata": {},
     "output_type": "execute_result"
    }
   ],
   "source": [
    "len(myCpds)"
   ]
  },
  {
   "cell_type": "code",
   "execution_count": 12,
   "metadata": {},
   "outputs": [],
   "source": [
    "# remove duplicated compounds\n",
    "myCpds = remove_duplicate_cpd(myCpds)"
   ]
  },
  {
   "cell_type": "code",
   "execution_count": 13,
   "metadata": {
    "scrolled": true
   },
   "outputs": [
    {
     "data": {
      "text/plain": [
       "{'internal_id': '',\n",
       " 'id': 'MAM00051',\n",
       " 'name': '(2E)-hexadecenoyl-CoA',\n",
       " 'db_ids': [['Mouse-GEM', 'MAM00051'],\n",
       "  ['bigg.metabolite', 'hdd2coa'],\n",
       "  ['chebi', '28935'],\n",
       "  ['hmdb', 'HMDB06533'],\n",
       "  ['kegg.compound', 'C05272'],\n",
       "  ['lipidmaps', 'LMFA07050020'],\n",
       "  ['metanetx.chemical', 'MNXM581'],\n",
       "  ['pubchem.compound', '46173176'],\n",
       "  ['vmhmetabolite', 'hdd2coa']],\n",
       " 'neutral_formula': 'C37H64N7O17P3S',\n",
       " 'neutral_mono_mass': 1003.329226,\n",
       " 'charge': -4,\n",
       " 'charged_formula': 'C37H60N7O17P3S',\n",
       " 'SMILES': '',\n",
       " 'inchi': '',\n",
       " 'src_id': 'MAM00051'}"
      ]
     },
     "execution_count": 13,
     "metadata": {},
     "output_type": "execute_result"
    }
   ],
   "source": [
    "myCpds[50].__dict__"
   ]
  },
  {
   "cell_type": "code",
   "execution_count": 14,
   "metadata": {},
   "outputs": [
    {
     "data": {
      "text/plain": [
       "4113"
      ]
     },
     "execution_count": 14,
     "metadata": {},
     "output_type": "execute_result"
    }
   ],
   "source": [
    "len(myCpds)"
   ]
  },
  {
   "cell_type": "code",
   "execution_count": 15,
   "metadata": {
    "scrolled": true
   },
   "outputs": [],
   "source": [
    "fetch_MetabAtlas_GEM_identifiers(compound_list = myCpds,\n",
    "                                 modelName = model_name,\n",
    "                                 local_path = local_path,\n",
    "                                 metab_file_name = 'metabolites.tsv',\n",
    "                                 overwrite = True)"
   ]
  },
  {
   "cell_type": "code",
   "execution_count": 16,
   "metadata": {
    "scrolled": true
   },
   "outputs": [
    {
     "data": {
      "text/plain": [
       "{'internal_id': '',\n",
       " 'id': 'MAM00051',\n",
       " 'name': '(2E)-hexadecenoyl-CoA',\n",
       " 'db_ids': [('BiGG', 'hdd2coa'),\n",
       "  ('ChEBI', 'CHEBI:28935'),\n",
       "  ('HMDB', 'HMDB06533'),\n",
       "  ('HMR2', 'm00051m'),\n",
       "  ('HepatoNET1', 'HC01411'),\n",
       "  ('KEGG', 'C05272'),\n",
       "  ('LipidMaps', 'LMFA07050020'),\n",
       "  ('MetaNetX', 'MNXM581'),\n",
       "  ('PubChem', '46173176'),\n",
       "  ('Recon3D', 'hdd2coa')],\n",
       " 'neutral_formula': 'C37H64N7O17P3S',\n",
       " 'neutral_mono_mass': 1003.329226,\n",
       " 'charge': -4,\n",
       " 'charged_formula': 'C37H60N7O17P3S',\n",
       " 'SMILES': '',\n",
       " 'inchi': '',\n",
       " 'src_id': 'MAM00051'}"
      ]
     },
     "execution_count": 16,
     "metadata": {},
     "output_type": "execute_result"
    }
   ],
   "source": [
    "myCpds[50].__dict__"
   ]
  },
  {
   "cell_type": "markdown",
   "metadata": {},
   "source": [
    "## Port reactions"
   ]
  },
  {
   "cell_type": "code",
   "execution_count": 17,
   "metadata": {},
   "outputs": [
    {
     "data": {
      "text/plain": [
       "['MAR04565',\n",
       " ['MAM01939', 'MAM02884'],\n",
       " ['MAM01785', 'MAM01845'],\n",
       " ['Taldo1'],\n",
       " ['2.2.1.2']]"
      ]
     },
     "execution_count": 17,
     "metadata": {},
     "output_type": "execute_result"
    }
   ],
   "source": [
    "# port reactions, to include genes and enzymes\n",
    "def port_reaction(R):\n",
    "    new = Reaction()\n",
    "    new.id = R.id\n",
    "    new.reactants = [remove_compartment_by_substr(m.id,1) for m in R.reactants] # decompartmentalization\n",
    "    new.products = [remove_compartment_by_substr(m.id,1) for m in R.products]   # decompartmentalization\n",
    "    new.genes = [g.id for g in R.genes]\n",
    "    ecs = R.annotation.get('ec-code', [])\n",
    "    if isinstance(ecs, list):\n",
    "        new.enzymes = ecs\n",
    "    else:\n",
    "        new.enzymes = [ecs]       # this version of mouse-GEM may have it as string\n",
    "    return new\n",
    "\n",
    "test99 = port_reaction(model.reactions[199])\n",
    "[test99.id,\n",
    " test99.reactants,\n",
    " test99.products,\n",
    " test99.genes,\n",
    " test99.enzymes\n",
    "]"
   ]
  },
  {
   "cell_type": "code",
   "execution_count": 18,
   "metadata": {
    "scrolled": true
   },
   "outputs": [
    {
     "name": "stdout",
     "output_type": "stream",
     "text": [
      "13063\n"
     ]
    }
   ],
   "source": [
    "## Reactions to port\n",
    "myRxns = []\n",
    "for R in model.reactions:\n",
    "    myRxns.append( port_reaction(R) )\n",
    "    \n",
    "print(len(myRxns))"
   ]
  },
  {
   "cell_type": "code",
   "execution_count": 19,
   "metadata": {},
   "outputs": [],
   "source": [
    "# remove duplicated reactions after decompartmentalization\n",
    "myRxns = remove_duplicate_rxn(myRxns)"
   ]
  },
  {
   "cell_type": "code",
   "execution_count": 20,
   "metadata": {},
   "outputs": [
    {
     "data": {
      "text/plain": [
       "8867"
      ]
     },
     "execution_count": 20,
     "metadata": {},
     "output_type": "execute_result"
    }
   ],
   "source": [
    "len(myRxns)"
   ]
  },
  {
   "cell_type": "code",
   "execution_count": 21,
   "metadata": {},
   "outputs": [
    {
     "data": {
      "text/plain": [
       "{'azimuth_id': '',\n",
       " 'id': 'MAR03905',\n",
       " 'source': [],\n",
       " 'version': '',\n",
       " 'status': '',\n",
       " 'reactants': ['MAM01796', 'MAM02552'],\n",
       " 'products': ['MAM01249', 'MAM02039', 'MAM02553'],\n",
       " 'enzymes': ['1.1.1.1', '1.1.1.71'],\n",
       " 'genes': ['Adh7', 'Adhfe1', 'Adh1', 'Adh4', 'Adh5', 'Adh6b'],\n",
       " 'pathways': [],\n",
       " 'ontologies': [],\n",
       " 'species': '',\n",
       " 'compartments': [],\n",
       " 'cell_types': [],\n",
       " 'tissues': []}"
      ]
     },
     "execution_count": 21,
     "metadata": {},
     "output_type": "execute_result"
    }
   ],
   "source": [
    "myRxns[0].__dict__"
   ]
  },
  {
   "cell_type": "markdown",
   "metadata": {},
   "source": [
    "## Port pathway"
   ]
  },
  {
   "cell_type": "code",
   "execution_count": 22,
   "metadata": {},
   "outputs": [
    {
     "data": {
      "text/plain": [
       "['group13',\n",
       " 'Beta oxidation of branched-chain fatty acids (mitochondrial)',\n",
       " ['MAR03522', 'MAR03523', 'MAR03524', 'MAR03525', 'MAR03526']]"
      ]
     },
     "execution_count": 22,
     "metadata": {},
     "output_type": "execute_result"
    }
   ],
   "source": [
    "# pathways, using group as pathway. Other models may use subsystem etc.\n",
    "\n",
    "def port_pathway(P):\n",
    "    new = Pathway()\n",
    "    new.id = P.id\n",
    "    new.source = ['mouse-GEM v1.10.0',]\n",
    "    new.name = P.name\n",
    "    new.list_of_reactions = [x.id for x in P.members]\n",
    "    return new\n",
    "\n",
    "p = port_pathway(model.groups[12])\n",
    "\n",
    "[p.id, p.name, p.list_of_reactions[:5]]"
   ]
  },
  {
   "cell_type": "code",
   "execution_count": 23,
   "metadata": {},
   "outputs": [
    {
     "data": {
      "text/plain": [
       "146"
      ]
     },
     "execution_count": 23,
     "metadata": {},
     "output_type": "execute_result"
    }
   ],
   "source": [
    "## Pathways to port\n",
    "myPathways = []\n",
    "for P in model.groups:\n",
    "    myPathways.append(port_pathway(P))\n",
    "\n",
    "len(myPathways)"
   ]
  },
  {
   "cell_type": "code",
   "execution_count": 24,
   "metadata": {},
   "outputs": [],
   "source": [
    "# retain the valid reactions in list of pathway\n",
    "myPathways = retain_valid_Rxns_in_Pathways(myPathways,myRxns)"
   ]
  },
  {
   "cell_type": "code",
   "execution_count": 25,
   "metadata": {},
   "outputs": [
    {
     "data": {
      "text/plain": [
       "8867"
      ]
     },
     "execution_count": 25,
     "metadata": {},
     "output_type": "execute_result"
    }
   ],
   "source": [
    "# test if the length of unique reactions matched with the length of decompartmentalized reaction list \n",
    "test_list_Rxns = []\n",
    "for pathway in myPathways:\n",
    "    for y in pathway.list_of_reactions:\n",
    "        test_list_Rxns.append(y)\n",
    "\n",
    "len(set(test_list_Rxns))"
   ]
  },
  {
   "cell_type": "markdown",
   "metadata": {},
   "source": [
    "## Collected data; now output"
   ]
  },
  {
   "cell_type": "code",
   "execution_count": 26,
   "metadata": {},
   "outputs": [],
   "source": [
    "from datetime import datetime\n",
    "today =  str(datetime.today()).split(\" \")[0]"
   ]
  },
  {
   "cell_type": "code",
   "execution_count": 27,
   "metadata": {
    "scrolled": true
   },
   "outputs": [
    {
     "data": {
      "text/plain": [
       "'2022-04-26'"
      ]
     },
     "execution_count": 27,
     "metadata": {},
     "output_type": "execute_result"
    }
   ],
   "source": [
    "today"
   ]
  },
  {
   "cell_type": "code",
   "execution_count": 28,
   "metadata": {},
   "outputs": [],
   "source": [
    "note = \"\"\"Mouse-GEM compartmentalized, with genes and ECs.\"\"\"\n",
    "\n",
    "## metabolicModel to export\n",
    "MM = MetabolicModel()\n",
    "MM.id = f'az_{model_name}_{today}' #\n",
    "MM.meta_data = {\n",
    "            'species': model_name.split('-')[0],\n",
    "            'version': '',\n",
    "            'sources': [f'https://github.com/SysBioChalmers/{model_name}, retrieved {today}'], #\n",
    "            'status': '',\n",
    "            'last_update': today,  #\n",
    "            'note': note,\n",
    "        }\n",
    "MM.list_of_pathways = [P.serialize() for P in myPathways]\n",
    "MM.list_of_reactions = [R.serialize() for R in  myRxns]\n",
    "MM.list_of_compounds = [C.serialize() for C in myCpds]"
   ]
  },
  {
   "cell_type": "code",
   "execution_count": 29,
   "metadata": {
    "scrolled": true
   },
   "outputs": [
    {
     "data": {
      "text/plain": [
       "[{'id': 'group3',\n",
       "  'name': 'Alanine, aspartate and glutamate metabolism',\n",
       "  'list_of_reactions': ['MAR03802',\n",
       "   'MAR03804',\n",
       "   'MAR03811',\n",
       "   'MAR03813',\n",
       "   'MAR03822',\n",
       "   'MAR03827',\n",
       "   'MAR03829',\n",
       "   'MAR03831',\n",
       "   'MAR03862',\n",
       "   'MAR03865',\n",
       "   'MAR03870',\n",
       "   'MAR03873',\n",
       "   'MAR08654',\n",
       "   'MAR03890',\n",
       "   'MAR03892',\n",
       "   'MAR09802',\n",
       "   'MAR03899',\n",
       "   'MAR03903',\n",
       "   'MAR04109',\n",
       "   'MAR04114',\n",
       "   'MAR04115',\n",
       "   'MAR04118',\n",
       "   'MAR04172',\n",
       "   'MAR04196',\n",
       "   'MAR04197',\n",
       "   'MAR04287',\n",
       "   'MAR04690',\n",
       "   'MAR04693',\n",
       "   'MAR06780',\n",
       "   'MAR06968',\n",
       "   'MAR06969',\n",
       "   'MAR06970',\n",
       "   'MAR06971',\n",
       "   'MAR06972',\n",
       "   'MAR07641',\n",
       "   'MAR07642',\n",
       "   'MAR08626',\n",
       "   'MAR08628',\n",
       "   'MAR04285',\n",
       "   'MAR11565']},\n",
       " [{'id': 'MAR03905',\n",
       "   'reactants': ['MAM01796', 'MAM02552'],\n",
       "   'products': ['MAM01249', 'MAM02039', 'MAM02553'],\n",
       "   'genes': ['Adh7', 'Adhfe1', 'Adh1', 'Adh4', 'Adh5', 'Adh6b'],\n",
       "   'enzymes': ['1.1.1.1', '1.1.1.71']},\n",
       "  {'id': 'MAR03907',\n",
       "   'reactants': ['MAM01796', 'MAM02554'],\n",
       "   'products': ['MAM01249', 'MAM02039', 'MAM02555'],\n",
       "   'genes': ['Akr1a1'],\n",
       "   'enzymes': ['1.1.1.2']}],\n",
       " [{'id': 'MAM00101',\n",
       "   'name': '(5Z,8Z,11Z)-eicosatrienoyl-CoA',\n",
       "   'identifiers': [('HMR2', 'm00101c'),\n",
       "    ('LipidMaps', 'LMFA07050062'),\n",
       "    ('MetaNetX', 'MNXM47372'),\n",
       "    ('MetaNetX', 'MNXM488534'),\n",
       "    ('Recon3D', 'M00101')],\n",
       "   'neutral_formula': 'C41H68N7O17P3S',\n",
       "   'charge': -4,\n",
       "   'charged_formula': 'C41H64N7O17P3S',\n",
       "   'neutral_mono_mass': 1055.360526,\n",
       "   'SMILES': '',\n",
       "   'inchi': ''},\n",
       "  {'id': 'MAM00102',\n",
       "   'name': '(5Z,8Z,11Z,14Z,17Z)-eicosapentaenoylcarnitine',\n",
       "   'identifiers': [('BiGG', 'tmndnccrn'),\n",
       "    ('HMR2', 'm00102c'),\n",
       "    ('MetaNetX', 'MNXM9158'),\n",
       "    ('Recon3D', 'tmndnccrn')],\n",
       "   'neutral_formula': 'C27H43NO4',\n",
       "   'charge': 0,\n",
       "   'charged_formula': 'C27H43NO4',\n",
       "   'neutral_mono_mass': 445.319209,\n",
       "   'SMILES': '',\n",
       "   'inchi': ''}]]"
      ]
     },
     "execution_count": 29,
     "metadata": {},
     "output_type": "execute_result"
    }
   ],
   "source": [
    "# check output\n",
    "[\n",
    "MM.list_of_pathways[2],\n",
    "MM.list_of_reactions[:2],\n",
    "MM.list_of_compounds[100:102],\n",
    "]"
   ]
  },
  {
   "cell_type": "code",
   "execution_count": 30,
   "metadata": {},
   "outputs": [],
   "source": [
    "import pickle\n",
    "import os\n",
    "\n",
    "# Write pickle file\n",
    "export_pickle(os.path.join(output_fdr,f'{MM.id}.pickle'), MM)"
   ]
  },
  {
   "cell_type": "code",
   "execution_count": 31,
   "metadata": {},
   "outputs": [],
   "source": [
    "# Write json file\n",
    "export_json(os.path.join(output_fdr,f'{MM.id}.json'), MM)"
   ]
  },
  {
   "cell_type": "code",
   "execution_count": 32,
   "metadata": {},
   "outputs": [],
   "source": [
    "# Write dataframe \n",
    "import pandas as pd\n",
    "export_table(os.path.join(output_fdr,f'{MM.id}_list_of_compounds.csv'),MM, 'list_of_compounds')\n",
    "export_table(os.path.join(output_fdr,f'{MM.id}_list_of_reactions.csv'),MM, 'list_of_reactions')\n",
    "export_table(os.path.join(output_fdr,f'{MM.id}_list_of_pathways.csv'),MM, 'list_of_pathways')"
   ]
  },
  {
   "cell_type": "markdown",
   "metadata": {},
   "source": [
    "## Summary\n",
    "\n",
    "This ports reactions, pathways and compounds. Gene and enzyme information is now included. \n",
    "\n",
    "The exported pickle can be re-imported and uploaded to Database easily.\n",
    "\n",
    "This notebook, the pickle file and the JSON file go to GitHub repo (https://github.com/shuzhao-li/Azimuth)."
   ]
  }
 ],
 "metadata": {
  "kernelspec": {
   "display_name": "Python 3 (ipykernel)",
   "language": "python",
   "name": "python3"
  },
  "language_info": {
   "codemirror_mode": {
    "name": "ipython",
    "version": 3
   },
   "file_extension": ".py",
   "mimetype": "text/x-python",
   "name": "python",
   "nbconvert_exporter": "python",
   "pygments_lexer": "ipython3",
   "version": "3.8.5"
  }
 },
 "nbformat": 4,
 "nbformat_minor": 2
}
