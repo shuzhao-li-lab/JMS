{
 "cells": [
  {
   "cell_type": "code",
   "execution_count": 1,
   "metadata": {},
   "outputs": [],
   "source": [
    "# !pip install pyyaml"
   ]
  },
  {
   "cell_type": "code",
   "execution_count": 1,
   "metadata": {},
   "outputs": [],
   "source": [
    "import sys\n",
    "sys.path.append(\"/Users/gongm/Documents/projects/JMS/JMS/JMS/\")"
   ]
  },
  {
   "cell_type": "code",
   "execution_count": 2,
   "metadata": {},
   "outputs": [],
   "source": [
    "import pandas as pd\n",
    "from jms.utils import Tabular2Json"
   ]
  },
  {
   "cell_type": "code",
   "execution_count": 3,
   "metadata": {},
   "outputs": [],
   "source": [
    "import yaml"
   ]
  },
  {
   "cell_type": "code",
   "execution_count": 4,
   "metadata": {},
   "outputs": [],
   "source": [
    "metadata = Tabular2Json.read_metadata_file('../testdata/Conversion_of_tabulated_custom_library_to_JMS_JSON/authentic_std_metadata.yaml')"
   ]
  },
  {
   "cell_type": "code",
   "execution_count": 5,
   "metadata": {
    "scrolled": true
   },
   "outputs": [
    {
     "data": {
      "text/plain": [
       "{'ion_relationship': '[M+H]+',\n",
       " 'mode': 'HILICpos',\n",
       " 'description': 'HILICpos authentic standard library from Shujian and Minghao',\n",
       " 'curator': 'Shujian Zheng|Minghao Gong',\n",
       " 'method': '5 min method',\n",
       " 'notes': {'initiation': {'curator': 'MG',\n",
       "   'date': '',\n",
       "   'note': '5 min method, the library was created and combined by Minghao Gong and Shujian Zheng'}},\n",
       " 'version': '0.1',\n",
       " 'label': 'combn_1strnd'}"
      ]
     },
     "execution_count": 5,
     "metadata": {},
     "output_type": "execute_result"
    }
   ],
   "source": [
    "metadata"
   ]
  },
  {
   "cell_type": "markdown",
   "metadata": {},
   "source": [
    "## fix the long-formatted tabular data structure"
   ]
  },
  {
   "cell_type": "code",
   "execution_count": 7,
   "metadata": {},
   "outputs": [],
   "source": [
    "import pandas as pd\n",
    "from metDataModel.core import EmpiricalCompound"
   ]
  },
  {
   "cell_type": "code",
   "execution_count": 8,
   "metadata": {},
   "outputs": [
    {
     "data": {
      "text/html": [
       "<div>\n",
       "<style scoped>\n",
       "    .dataframe tbody tr th:only-of-type {\n",
       "        vertical-align: middle;\n",
       "    }\n",
       "\n",
       "    .dataframe tbody tr th {\n",
       "        vertical-align: top;\n",
       "    }\n",
       "\n",
       "    .dataframe thead th {\n",
       "        text-align: right;\n",
       "    }\n",
       "</style>\n",
       "<table border=\"1\" class=\"dataframe\">\n",
       "  <thead>\n",
       "    <tr style=\"text-align: right;\">\n",
       "      <th></th>\n",
       "      <th>mz</th>\n",
       "      <th>rt</th>\n",
       "      <th>identifier</th>\n",
       "      <th>name</th>\n",
       "      <th>Formula</th>\n",
       "      <th>adduct</th>\n",
       "    </tr>\n",
       "  </thead>\n",
       "  <tbody>\n",
       "    <tr>\n",
       "      <th>10</th>\n",
       "      <td>130.0498696</td>\n",
       "      <td>231.24</td>\n",
       "      <td>HMDB0000805, HMDB0000267</td>\n",
       "      <td>D-Pyroglutamic acid, L-Pyroglutamic acid</td>\n",
       "      <td>C5H7NO3, C5H7NO3</td>\n",
       "      <td>[M+H]+</td>\n",
       "    </tr>\n",
       "    <tr>\n",
       "      <th>11</th>\n",
       "      <td>130.0862551</td>\n",
       "      <td>127.38</td>\n",
       "      <td>HMDB0000716</td>\n",
       "      <td>L(-)-Pipecolinic acid</td>\n",
       "      <td>C6H11NO2</td>\n",
       "      <td>[M+H]+</td>\n",
       "    </tr>\n",
       "    <tr>\n",
       "      <th>12</th>\n",
       "      <td>130.0862551</td>\n",
       "      <td>230.16</td>\n",
       "      <td>HMDB0000716</td>\n",
       "      <td>L(-)-Pipecolinic acid</td>\n",
       "      <td>C6H11NO2</td>\n",
       "      <td>[M+H]+</td>\n",
       "    </tr>\n",
       "    <tr>\n",
       "      <th>13</th>\n",
       "      <td>132.0655197</td>\n",
       "      <td>154.14</td>\n",
       "      <td>HMDB0060460, HMDB0000725</td>\n",
       "      <td>cis-4-Hydroxy-D-proline, L-Hydroxyproline</td>\n",
       "      <td>C5H9NO3, C5H9NO3</td>\n",
       "      <td>[M+H]+</td>\n",
       "    </tr>\n",
       "    <tr>\n",
       "      <th>14</th>\n",
       "      <td>132.0655197</td>\n",
       "      <td>219.3</td>\n",
       "      <td>HMDB0060460, HMDB0000725</td>\n",
       "      <td>cis-4-Hydroxy-D-proline, L-Hydroxyproline</td>\n",
       "      <td>C5H9NO3, C5H9NO3</td>\n",
       "      <td>[M+H]+</td>\n",
       "    </tr>\n",
       "    <tr>\n",
       "      <th>15</th>\n",
       "      <td>132.076753</td>\n",
       "      <td>157.14</td>\n",
       "      <td>HMDB0000064</td>\n",
       "      <td>Creatine anhydrous</td>\n",
       "      <td>C4H9N3O2</td>\n",
       "      <td>[M+H]+</td>\n",
       "    </tr>\n",
       "    <tr>\n",
       "      <th>16</th>\n",
       "      <td>132.076753</td>\n",
       "      <td>165.78</td>\n",
       "      <td>HMDB0000064</td>\n",
       "      <td>Creatine anhydrous</td>\n",
       "      <td>C4H9N3O2</td>\n",
       "      <td>[M+H]+</td>\n",
       "    </tr>\n",
       "    <tr>\n",
       "      <th>17</th>\n",
       "      <td>132.1019052</td>\n",
       "      <td>117.72</td>\n",
       "      <td>HMDB0000172, HMDB0001645, HMDB0000687</td>\n",
       "      <td>L-Isoleucine, L-Norleucine, L-Leucine</td>\n",
       "      <td>C6H13NO2, C6H13NO2, C6H13NO2</td>\n",
       "      <td>[M+H]+</td>\n",
       "    </tr>\n",
       "    <tr>\n",
       "      <th>18</th>\n",
       "      <td>132.1019052</td>\n",
       "      <td>122.64</td>\n",
       "      <td>HMDB0000172, HMDB0001645, HMDB0000687</td>\n",
       "      <td>L-Isoleucine, L-Norleucine, L-Leucine</td>\n",
       "      <td>C6H13NO2, C6H13NO2, C6H13NO2</td>\n",
       "      <td>[M+H]+</td>\n",
       "    </tr>\n",
       "    <tr>\n",
       "      <th>19</th>\n",
       "      <td>134.0447842</td>\n",
       "      <td>193.86</td>\n",
       "      <td>HMDB0000191, HMDB0006483</td>\n",
       "      <td>L-Aspartic acid, D-Aspartic acid</td>\n",
       "      <td>C4H7NO4, C4H7NO4</td>\n",
       "      <td>[M+H]+</td>\n",
       "    </tr>\n",
       "    <tr>\n",
       "      <th>20</th>\n",
       "      <td>137.0457873</td>\n",
       "      <td>72.66</td>\n",
       "      <td>HMDB0014581</td>\n",
       "      <td>Allopurinol</td>\n",
       "      <td>C5H4N4O</td>\n",
       "      <td>[M+H]+</td>\n",
       "    </tr>\n",
       "  </tbody>\n",
       "</table>\n",
       "</div>"
      ],
      "text/plain": [
       "             mz      rt                             identifier  \\\n",
       "10  130.0498696  231.24               HMDB0000805, HMDB0000267   \n",
       "11  130.0862551  127.38                            HMDB0000716   \n",
       "12  130.0862551  230.16                            HMDB0000716   \n",
       "13  132.0655197  154.14               HMDB0060460, HMDB0000725   \n",
       "14  132.0655197   219.3               HMDB0060460, HMDB0000725   \n",
       "15   132.076753  157.14                            HMDB0000064   \n",
       "16   132.076753  165.78                            HMDB0000064   \n",
       "17  132.1019052  117.72  HMDB0000172, HMDB0001645, HMDB0000687   \n",
       "18  132.1019052  122.64  HMDB0000172, HMDB0001645, HMDB0000687   \n",
       "19  134.0447842  193.86               HMDB0000191, HMDB0006483   \n",
       "20  137.0457873   72.66                            HMDB0014581   \n",
       "\n",
       "                                         name                       Formula  \\\n",
       "10   D-Pyroglutamic acid, L-Pyroglutamic acid              C5H7NO3, C5H7NO3   \n",
       "11                      L(-)-Pipecolinic acid                      C6H11NO2   \n",
       "12                      L(-)-Pipecolinic acid                      C6H11NO2   \n",
       "13  cis-4-Hydroxy-D-proline, L-Hydroxyproline              C5H9NO3, C5H9NO3   \n",
       "14  cis-4-Hydroxy-D-proline, L-Hydroxyproline              C5H9NO3, C5H9NO3   \n",
       "15                         Creatine anhydrous                      C4H9N3O2   \n",
       "16                         Creatine anhydrous                      C4H9N3O2   \n",
       "17      L-Isoleucine, L-Norleucine, L-Leucine  C6H13NO2, C6H13NO2, C6H13NO2   \n",
       "18      L-Isoleucine, L-Norleucine, L-Leucine  C6H13NO2, C6H13NO2, C6H13NO2   \n",
       "19           L-Aspartic acid, D-Aspartic acid              C4H7NO4, C4H7NO4   \n",
       "20                                Allopurinol                       C5H4N4O   \n",
       "\n",
       "    adduct  \n",
       "10  [M+H]+  \n",
       "11  [M+H]+  \n",
       "12  [M+H]+  \n",
       "13  [M+H]+  \n",
       "14  [M+H]+  \n",
       "15  [M+H]+  \n",
       "16  [M+H]+  \n",
       "17  [M+H]+  \n",
       "18  [M+H]+  \n",
       "19  [M+H]+  \n",
       "20  [M+H]+  "
      ]
     },
     "execution_count": 8,
     "metadata": {},
     "output_type": "execute_result"
    }
   ],
   "source": [
    "# visualize the table\n",
    "input_file_path = \"../testdata/Conversion_of_tabulated_custom_library_to_JMS_JSON/rt-long-formatted.csv\"\n",
    "long_formatted_df = pd.read_csv(input_file_path, dtype=str)\n",
    "long_formatted_df[10:21]"
   ]
  },
  {
   "cell_type": "code",
   "execution_count": 12,
   "metadata": {
    "scrolled": true
   },
   "outputs": [],
   "source": [
    "long_formatted_json = Tabular2Json.libTab2EpdJson(input_file_path,', ',metadata,RT_long_format = True)"
   ]
  },
  {
   "cell_type": "code",
   "execution_count": 13,
   "metadata": {},
   "outputs": [],
   "source": [
    "output_file_path = \"../testdata/Conversion_of_tabulated_custom_library_to_JMS_JSON/test_long_formatted.json\"\n",
    "Tabular2Json.write_json(long_formatted_json,output_file_path)"
   ]
  },
  {
   "cell_type": "markdown",
   "metadata": {},
   "source": [
    "-----"
   ]
  },
  {
   "cell_type": "code",
   "execution_count": 14,
   "metadata": {
    "scrolled": true
   },
   "outputs": [],
   "source": [
    "short_formatted_json = Tabular2Json.libTab2EpdJson(\"../testdata/Conversion_of_tabulated_custom_library_to_JMS_JSON/rt-short-formmated.csv\",'/',metadata,RT_long_format = False)"
   ]
  },
  {
   "cell_type": "code",
   "execution_count": 15,
   "metadata": {},
   "outputs": [],
   "source": [
    "output_file_path = \"../testdata/Conversion_of_tabulated_custom_library_to_JMS_JSON/test_short_formatted.json\"\n",
    "Tabular2Json.write_json(long_formatted_json,output_file_path)"
   ]
  },
  {
   "cell_type": "markdown",
   "metadata": {},
   "source": [
    "----"
   ]
  }
 ],
 "metadata": {
  "kernelspec": {
   "display_name": "Python 3 (ipykernel)",
   "language": "python",
   "name": "python3"
  },
  "language_info": {
   "codemirror_mode": {
    "name": "ipython",
    "version": 3
   },
   "file_extension": ".py",
   "mimetype": "text/x-python",
   "name": "python",
   "nbconvert_exporter": "python",
   "pygments_lexer": "ipython3",
   "version": "3.8.5"
  }
 },
 "nbformat": 4,
 "nbformat_minor": 4
}
