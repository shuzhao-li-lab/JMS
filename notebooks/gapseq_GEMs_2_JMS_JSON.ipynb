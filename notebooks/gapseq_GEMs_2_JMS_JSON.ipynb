{
 "cells": [
  {
   "cell_type": "markdown",
   "metadata": {},
   "source": [
    "# Porting genome scale metabolic models for metabolomics\n",
    "- from gapSeq\n",
    "\n",
    "Minghao Gong, 2022-08-02"
   ]
  },
  {
   "cell_type": "code",
   "execution_count": 246,
   "metadata": {
    "scrolled": true
   },
   "outputs": [],
   "source": [
    "# !pip install cobra --user --ignore-installed ruamel.yaml\n",
    "# !pip install --upgrade metDataModel # https://github.com/shuzhao-li/metDataModel/ \n",
    "# !pip install --upgrade numpy pandas"
   ]
  },
  {
   "cell_type": "code",
   "execution_count": 247,
   "metadata": {},
   "outputs": [],
   "source": [
    "import cobra # https://cobrapy.readthedocs.io/en/latest/io.html#SBML\n",
    "from metDataModel.core import Compound, Reaction, Pathway, MetabolicModel\n",
    "import requests\n",
    "import sys\n",
    "import re\n",
    "\n",
    "sys.path.append(\"/Users/gongm/Documents/projects/mass2chem/\")\n",
    "sys.path.append(\"/Users/gongm/Documents/projects/JMS/JMS/JMS\")\n",
    "from mass2chem.formula import *\n",
    "from jms.formula import *\n",
    "from jms.utils.gems import *\n",
    "from jms.utils.git_download import *"
   ]
  },
  {
   "cell_type": "code",
   "execution_count": 248,
   "metadata": {},
   "outputs": [],
   "source": [
    "# Somehow the function was not corrected in jms.utils.gems\n",
    "# I use this function cover the bugged one.\n",
    "def neutral_formula2mass(neutral_formula):\n",
    "    '''\n",
    "    Convert neutral formula to mass but removing characters (e.g., X, R) typical in GEM but not ready for metabolomics application\n",
    "    '''\n",
    "    formula_dict = parse_chemformula_dict(neutral_formula)\n",
    "    if (\"R\" not in formula_dict) & (\"X\" not in formula_dict) & (\"Z\" not in formula_dict) & (len(formula_dict) != 0) :\n",
    "        mono_mass = calculate_mass(formula_dict,6)\n",
    "    else:\n",
    "        mono_mass = float(0)\n",
    "    return(mono_mass)"
   ]
  },
  {
   "cell_type": "code",
   "execution_count": 249,
   "metadata": {},
   "outputs": [],
   "source": [
    "# download the most updated Rat-GEM.xml\n",
    "model_name = 'epi_CA7-draft-gapseq'\n",
    "file_name = 'epi_CA7-draft.xml'\n",
    "local_path = output_fdr = '../epi_benchmark/draft/'"
   ]
  },
  {
   "cell_type": "code",
   "execution_count": 250,
   "metadata": {
    "scrolled": false
   },
   "outputs": [],
   "source": [
    "# Read the model via cobra\n",
    "model = cobra.io.read_sbml_model(os.path.join(local_path,file_name))"
   ]
  },
  {
   "cell_type": "code",
   "execution_count": 251,
   "metadata": {
    "scrolled": true
   },
   "outputs": [
    {
     "data": {
      "text/html": [
       "\n",
       "        <table>\n",
       "            <tr>\n",
       "                <td><strong>Name</strong></td>\n",
       "                <td>epi_CA7</td>\n",
       "            </tr><tr>\n",
       "                <td><strong>Memory address</strong></td>\n",
       "                <td>0x07fb66dc4c670</td>\n",
       "            </tr><tr>\n",
       "                <td><strong>Number of metabolites</strong></td>\n",
       "                <td>1776</td>\n",
       "            </tr><tr>\n",
       "                <td><strong>Number of reactions</strong></td>\n",
       "                <td>2042</td>\n",
       "            </tr><tr>\n",
       "                <td><strong>Number of groups</strong></td>\n",
       "                <td>1099</td>\n",
       "            </tr><tr>\n",
       "                <td><strong>Objective expression</strong></td>\n",
       "                <td>1.0*bio1 - 1.0*bio1_reverse_b18f7</td>\n",
       "            </tr><tr>\n",
       "                <td><strong>Compartments</strong></td>\n",
       "                <td>c0, e0, p0</td>\n",
       "            </tr>\n",
       "          </table>"
      ],
      "text/plain": [
       "<Model epi_CA7 at 0x7fb66dc4c670>"
      ]
     },
     "execution_count": 251,
     "metadata": {},
     "output_type": "execute_result"
    }
   ],
   "source": [
    "model"
   ]
  },
  {
   "cell_type": "code",
   "execution_count": 252,
   "metadata": {
    "scrolled": false
   },
   "outputs": [
    {
     "data": {
      "text/plain": [
       "{'_id': 'rxn00120_c0',\n",
       " 'name': 'UTP phosphohydrolase',\n",
       " 'notes': {},\n",
       " '_annotation': {'sbo': ['SBO:0000167', 'SBO:0000176'],\n",
       "  'ec-code': '3.6.1.15',\n",
       "  'seed.reaction': ['rxn00120'],\n",
       "  'kegg.reaction': 'R00159',\n",
       "  'bigg.reaction': ['NDP8ex', 'NTP7'],\n",
       "  'biocyc': 'META:RXN-12196',\n",
       "  'metanetx.reaction': 'MNXR101933'},\n",
       " '_gene_reaction_rule': '',\n",
       " 'subsystem': '',\n",
       " '_genes': set(),\n",
       " '_metabolites': {<Metabolite cpd00001_c0 at 0x7fb663b9b6d0>: -1.0,\n",
       "  <Metabolite cpd00062_c0 at 0x7fb66d89cd00>: -1.0,\n",
       "  <Metabolite cpd00009_c0 at 0x7fb665136d60>: 1.0,\n",
       "  <Metabolite cpd00067_c0 at 0x7fb665136d00>: 1.0,\n",
       "  <Metabolite cpd00014_c0 at 0x7fb663b199d0>: 1.0},\n",
       " '_model': <Model epi_CA7 at 0x7fb66dc4c670>,\n",
       " '_lower_bound': 0.0,\n",
       " '_upper_bound': 1000.0}"
      ]
     },
     "execution_count": 252,
     "metadata": {},
     "output_type": "execute_result"
    }
   ],
   "source": [
    "# reaction entries, Readily convert to list of reactions\n",
    "model.reactions[33].__dict__"
   ]
  },
  {
   "cell_type": "code",
   "execution_count": 253,
   "metadata": {
    "scrolled": false
   },
   "outputs": [
    {
     "data": {
      "text/plain": [
       "<Group subsys_12DICHLORETHDEG_PWY at 0x7fb67104c9a0>"
      ]
     },
     "execution_count": 253,
     "metadata": {},
     "output_type": "execute_result"
    }
   ],
   "source": [
    "model.groups[0]"
   ]
  },
  {
   "cell_type": "code",
   "execution_count": 254,
   "metadata": {
    "scrolled": true
   },
   "outputs": [
    {
     "data": {
      "text/plain": [
       "{'_id': 'cpd00041_c0',\n",
       " 'name': 'L-Aspartate-c0',\n",
       " 'notes': {},\n",
       " '_annotation': {'sbo': 'SBO:0000247',\n",
       "  'metanetx.chemical': 'MNXM42',\n",
       "  'inchikey': 'CKLJMWTZIZZHCS-REOHCLBHSA-M',\n",
       "  'seed.compound': 'cpd00041',\n",
       "  'hmdb': ['HMDB00191', 'HMDB62186', 'HMDB62501'],\n",
       "  'reactome': ['R-ALL-113553', 'R-ALL-29448'],\n",
       "  'kegg.compound': ['C00049', 'C16433'],\n",
       "  'chebi': ['CHEBI:132943',\n",
       "   'CHEBI:17053',\n",
       "   'CHEBI:21247',\n",
       "   'CHEBI:40853',\n",
       "   'CHEBI:40900',\n",
       "   'CHEBI:40913',\n",
       "   'CHEBI:40942',\n",
       "   'CHEBI:6193',\n",
       "   'CHEBI:22660',\n",
       "   'CHEBI:29991',\n",
       "   'CHEBI:13085',\n",
       "   'CHEBI:21244',\n",
       "   'CHEBI:29993',\n",
       "   'CHEBI:29995',\n",
       "   'CHEBI:35391',\n",
       "   'CHEBI:22659',\n",
       "   'CHEBI:29992'],\n",
       "  'bigg.metabolite': 'asp__L',\n",
       "  'biocyc': 'META:L-ASPARTATE'},\n",
       " '_model': <Model epi_CA7 at 0x7fb66dc4c670>,\n",
       " '_reaction': {<Reaction bio1 at 0x7fb670def700>,\n",
       "  <Reaction rxn00260_c0 at 0x7fb66593f9a0>,\n",
       "  <Reaction rxn00337_c0 at 0x7fb66595cca0>,\n",
       "  <Reaction rxn00346_c0 at 0x7fb665961a30>,\n",
       "  <Reaction rxn00347_c0 at 0x7fb66594f910>,\n",
       "  <Reaction rxn00838_c0 at 0x7fb66b8efd00>,\n",
       "  <Reaction rxn01018_c0 at 0x7fb66b933d60>,\n",
       "  <Reaction rxn01270_c0 at 0x7fb66b960e50>,\n",
       "  <Reaction rxn01434_c0 at 0x7fb67029f4f0>,\n",
       "  <Reaction rxn03147_c0 at 0x7fb67055cf70>,\n",
       "  <Reaction rxn05152_c0 at 0x7fb67064bee0>,\n",
       "  <Reaction rxn05217_c0 at 0x7fb670687fa0>,\n",
       "  <Reaction rxn06936_c0 at 0x7fb6707fab50>,\n",
       "  <Reaction rxn12633_c0 at 0x7fb670b64790>,\n",
       "  <Reaction rxn12637_c0 at 0x7fb670b64d60>},\n",
       " 'formula': 'C4H6NO4',\n",
       " 'compartment': 'c0',\n",
       " 'charge': -1,\n",
       " '_bound': 0.0}"
      ]
     },
     "execution_count": 254,
     "metadata": {},
     "output_type": "execute_result"
    }
   ],
   "source": [
    "model.metabolites[100].__dict__"
   ]
  },
  {
   "cell_type": "markdown",
   "metadata": {},
   "source": [
    "## Port metabolite"
   ]
  },
  {
   "cell_type": "code",
   "execution_count": 255,
   "metadata": {
    "scrolled": true
   },
   "outputs": [],
   "source": [
    "def port_metabolite(M, annotation_as_dict = True):\n",
    "    '''\n",
    "    convert cobra Metabolite to metDataModel Compound\n",
    "    Annotation needs to be converted to dictionary structure rather than list of tuples for mummichog\n",
    "    '''\n",
    "    Cpd = Compound()\n",
    "    Cpd.src_id = remove_compartment_by_split(M.id,'_')\n",
    "    Cpd.id = remove_compartment_by_split(M.id,'_')              # temporarily the same with the source id\n",
    "    Cpd.name = M.name.rsplit('-',1)[0]\n",
    "    Cpd.charge = M.charge\n",
    "    Cpd.neutral_formula = adjust_charge_in_formula(M.formula,M.charge)\n",
    "    Cpd.neutral_mono_mass = neutral_formula2mass(Cpd.neutral_formula)\n",
    "    Cpd.charged_formula = M.formula\n",
    "    \n",
    "    if annotation_as_dict == True:\n",
    "        Cpd.db_ids = {}\n",
    "        Cpd.db_ids[model_name] = Cpd.src_id\n",
    "    else:\n",
    "        Cpd.db_ids = [[model_name,Cpd.src_id]] # using src_id to also reference Rat-GEM ID in db_ids field\n",
    "    for k,v in M.annotation.items():\n",
    "        if k not in ['sbo','hmdb','kegg.compound']:\n",
    "            if annotation_as_dict == True:\n",
    "                Cpd.db_ids[k] = v\n",
    "            else:\n",
    "                if isinstance(v,list):\n",
    "                    Cpd.db_ids.append([[k,x] for x in v])\n",
    "                else: \n",
    "                    if \":\" in v:\n",
    "                        Cpd.db_ids.append([k,v.split(\":\")[1]])\n",
    "                    else:\n",
    "                        Cpd.db_ids.append([k,v])\n",
    "                \n",
    "    return Cpd\n",
    "    Cpd.db_ids = listOfTuple2dict(tuple([tuple(x) for x in Cpd.db_ids]))\n",
    "    \n",
    "    inchi_list = [x[1].split('=')[1] for x in Cpd.db_ids if x[0] == 'inchi']\n",
    "    if len(inchi_list) ==1:\n",
    "        Cpd.inchi = inchi_list[0]\n",
    "    elif len(inchi_list) >1:\n",
    "        Cpd.inchi = inchi_list\n",
    "        \n",
    "    return Cpd"
   ]
  },
  {
   "cell_type": "code",
   "execution_count": 256,
   "metadata": {
    "scrolled": true
   },
   "outputs": [],
   "source": [
    "myCpds = []\n",
    "for i in range(len(model.metabolites)):\n",
    "    myCpds.append(port_metabolite(model.metabolites[i]))"
   ]
  },
  {
   "cell_type": "code",
   "execution_count": 257,
   "metadata": {},
   "outputs": [
    {
     "data": {
      "text/plain": [
       "{'epi_CA7-draft-gapseq': 'cpd00001',\n",
       " 'metanetx.chemical': 'MNXM2',\n",
       " 'inchikey': 'XLYOFNOQVPJJNP-UHFFFAOYSA-N',\n",
       " 'seed.compound': 'cpd00001',\n",
       " 'reactome': ['R-ALL-109276',\n",
       "  'R-ALL-113518',\n",
       "  'R-ALL-113519',\n",
       "  'R-ALL-113521',\n",
       "  'R-ALL-141343',\n",
       "  'R-ALL-1605715',\n",
       "  'R-ALL-189422',\n",
       "  'R-ALL-2022884',\n",
       "  'R-ALL-29356',\n",
       "  'R-ALL-351603',\n",
       "  'R-ALL-5278291',\n",
       "  'R-ALL-5668574',\n",
       "  'R-ALL-5693747',\n",
       "  'R-ALL-8851517'],\n",
       " 'chebi': 'CHEBI:15377',\n",
       " 'bigg.metabolite': 'h2o',\n",
       " 'biocyc': 'META:WATER'}"
      ]
     },
     "execution_count": 257,
     "metadata": {},
     "output_type": "execute_result"
    }
   ],
   "source": [
    "myCpds[0].db_ids"
   ]
  },
  {
   "cell_type": "code",
   "execution_count": 258,
   "metadata": {
    "scrolled": true
   },
   "outputs": [
    {
     "data": {
      "text/plain": [
       "1776"
      ]
     },
     "execution_count": 258,
     "metadata": {},
     "output_type": "execute_result"
    }
   ],
   "source": [
    "len(myCpds)"
   ]
  },
  {
   "cell_type": "code",
   "execution_count": 259,
   "metadata": {},
   "outputs": [],
   "source": [
    "# remove duplicated compounds\n",
    "myCpds = remove_duplicate_cpd(myCpds)"
   ]
  },
  {
   "cell_type": "code",
   "execution_count": 260,
   "metadata": {},
   "outputs": [
    {
     "data": {
      "text/plain": [
       "1596"
      ]
     },
     "execution_count": 260,
     "metadata": {},
     "output_type": "execute_result"
    }
   ],
   "source": [
    "len(myCpds)"
   ]
  },
  {
   "cell_type": "code",
   "execution_count": 261,
   "metadata": {
    "scrolled": true
   },
   "outputs": [
    {
     "data": {
      "text/plain": [
       "{'internal_id': '',\n",
       " 'id': 'cpd00041',\n",
       " 'name': 'L-Aspartate',\n",
       " 'db_ids': {'epi_CA7-draft-gapseq': 'cpd00041',\n",
       "  'metanetx.chemical': 'MNXM42',\n",
       "  'inchikey': 'CKLJMWTZIZZHCS-REOHCLBHSA-M',\n",
       "  'seed.compound': 'cpd00041',\n",
       "  'reactome': ['R-ALL-113553', 'R-ALL-29448'],\n",
       "  'chebi': ['CHEBI:132943',\n",
       "   'CHEBI:17053',\n",
       "   'CHEBI:21247',\n",
       "   'CHEBI:40853',\n",
       "   'CHEBI:40900',\n",
       "   'CHEBI:40913',\n",
       "   'CHEBI:40942',\n",
       "   'CHEBI:6193',\n",
       "   'CHEBI:22660',\n",
       "   'CHEBI:29991',\n",
       "   'CHEBI:13085',\n",
       "   'CHEBI:21244',\n",
       "   'CHEBI:29993',\n",
       "   'CHEBI:29995',\n",
       "   'CHEBI:35391',\n",
       "   'CHEBI:22659',\n",
       "   'CHEBI:29992'],\n",
       "  'bigg.metabolite': 'asp__L',\n",
       "  'biocyc': 'META:L-ASPARTATE'},\n",
       " 'neutral_formula': 'C4H7NO4',\n",
       " 'neutral_mono_mass': 133.037507,\n",
       " 'charge': -1,\n",
       " 'charged_formula': 'C4H6NO4',\n",
       " 'SMILES': '',\n",
       " 'inchi': '',\n",
       " 'src_id': 'cpd00041'}"
      ]
     },
     "execution_count": 261,
     "metadata": {},
     "output_type": "execute_result"
    }
   ],
   "source": [
    "myCpds[100].__dict__"
   ]
  },
  {
   "cell_type": "markdown",
   "metadata": {},
   "source": [
    "## Port reactions"
   ]
  },
  {
   "cell_type": "code",
   "execution_count": 262,
   "metadata": {
    "scrolled": true
   },
   "outputs": [
    {
     "data": {
      "text/plain": [
       "['gp_epi_CA7orNODE_2_length_232376_cov_418_830916_14225_12885',\n",
       " 'gp_epi_CA7orNODE_5_length_168302_cov_485_831577_1217_6',\n",
       " 'gp_epi_CA7orNODE_10_length_76182_cov_521_448065_23711_20556',\n",
       " 'gp_epi_CA7orNODE_3_length_217361_cov_479_217393_60644_62014']"
      ]
     },
     "execution_count": 262,
     "metadata": {},
     "output_type": "execute_result"
    }
   ],
   "source": [
    "[x.id for x in model.reactions[190].genes]"
   ]
  },
  {
   "cell_type": "code",
   "execution_count": 263,
   "metadata": {},
   "outputs": [],
   "source": [
    "# port reactions, to include genes and enzymes\n",
    "def port_reaction(R):\n",
    "    new = Reaction()\n",
    "    new.id = remove_compartment_by_split(R.id,'_')\n",
    "    new.reactants = [remove_compartment_by_split(x.id,'_') for x in R.reactants]\n",
    "    new.products = [remove_compartment_by_split(x.id,'_') for x in R.products]\n",
    "    new.genes = [g.id for g in R.genes]\n",
    "    new.enzymes = R.annotation.get('ec-code', [])\n",
    "    if 'EX_' not in new.id:\n",
    "        return new\n",
    "test99 = port_reaction(model.reactions[250])"
   ]
  },
  {
   "cell_type": "code",
   "execution_count": 264,
   "metadata": {},
   "outputs": [
    {
     "data": {
      "text/plain": [
       "{'_id': 'rxn00780_c0',\n",
       " 'name': 'ATP:D-glyceraldehyde 3-phosphotransferase',\n",
       " 'notes': {},\n",
       " '_annotation': {'sbo': ['SBO:0000167', 'SBO:0000176'],\n",
       "  'ec-code': '2.7.1.28',\n",
       "  'seed.reaction': ['rxn00780'],\n",
       "  'kegg.reaction': 'R01059',\n",
       "  'bigg.reaction': 'TRIOK',\n",
       "  'biocyc': 'META:TRIOKINASE-RXN',\n",
       "  'metanetx.reaction': 'MNXR104940'},\n",
       " '_gene_reaction_rule': 'gp_epi_CA7orNODE_1_length_636563_cov_463_302643_562348_560801',\n",
       " 'subsystem': '',\n",
       " '_genes': {<Gene gp_epi_CA7orNODE_1_length_636563_cov_463_302643_562348_560801 at 0x7fb6658a91f0>},\n",
       " '_metabolites': {<Metabolite cpd00002_c0 at 0x7fb670225970>: -1.0,\n",
       "  <Metabolite cpd00448_c0 at 0x7fb663b1fd60>: -1.0,\n",
       "  <Metabolite cpd00067_c0 at 0x7fb665136d00>: 1.0,\n",
       "  <Metabolite cpd00008_c0 at 0x7fb66a4b7f40>: 1.0,\n",
       "  <Metabolite cpd00102_c0 at 0x7fb672055250>: 1.0},\n",
       " '_model': <Model epi_CA7 at 0x7fb66dc4c670>,\n",
       " '_lower_bound': 0.0,\n",
       " '_upper_bound': 1000.0}"
      ]
     },
     "execution_count": 264,
     "metadata": {},
     "output_type": "execute_result"
    }
   ],
   "source": [
    "model.reactions[250].__dict__"
   ]
  },
  {
   "cell_type": "code",
   "execution_count": 265,
   "metadata": {
    "scrolled": true
   },
   "outputs": [
    {
     "name": "stdout",
     "output_type": "stream",
     "text": [
      "1878\n"
     ]
    }
   ],
   "source": [
    "## Reactions to port\n",
    "myRxns = []\n",
    "for R in model.reactions:\n",
    "    temp_rxn = port_reaction(R) \n",
    "    if temp_rxn:\n",
    "        myRxns.append(temp_rxn)\n",
    "\n",
    "print(len(myRxns))"
   ]
  },
  {
   "cell_type": "code",
   "execution_count": 266,
   "metadata": {
    "scrolled": true
   },
   "outputs": [],
   "source": [
    "myRxns = remove_duplicate_rxn(myRxns)"
   ]
  },
  {
   "cell_type": "code",
   "execution_count": 267,
   "metadata": {},
   "outputs": [
    {
     "name": "stdout",
     "output_type": "stream",
     "text": [
      "1742\n"
     ]
    }
   ],
   "source": [
    "print(len(myRxns))"
   ]
  },
  {
   "cell_type": "code",
   "execution_count": 268,
   "metadata": {
    "scrolled": true
   },
   "outputs": [
    {
     "data": {
      "text/plain": [
       "{'azimuth_id': '',\n",
       " 'id': 'rxn00006',\n",
       " 'source': [],\n",
       " 'version': '',\n",
       " 'status': '',\n",
       " 'reactants': ['cpd00025'],\n",
       " 'products': ['cpd00001', 'cpd00007'],\n",
       " 'enzymes': ['1.11.1.6', '1.11.1.21'],\n",
       " 'genes': ['gp_epi_CA7orNODE_11_length_75003_cov_361_376185_10292_11803'],\n",
       " 'pathways': [],\n",
       " 'ontologies': [],\n",
       " 'species': '',\n",
       " 'compartments': [],\n",
       " 'cell_types': [],\n",
       " 'tissues': []}"
      ]
     },
     "execution_count": 268,
     "metadata": {},
     "output_type": "execute_result"
    }
   ],
   "source": [
    "myRxns[2].__dict__"
   ]
  },
  {
   "cell_type": "markdown",
   "metadata": {},
   "source": [
    "# Port pathway"
   ]
  },
  {
   "cell_type": "code",
   "execution_count": 269,
   "metadata": {},
   "outputs": [
    {
     "data": {
      "text/plain": [
       "['subsys_ALKANEMONOX_PWY', 'ALKANEMONOX-PWY', ['rxn03975']]"
      ]
     },
     "execution_count": 269,
     "metadata": {},
     "output_type": "execute_result"
    }
   ],
   "source": [
    "# pathways, using group as pathway. Other models may use subsystem etc.\n",
    "\n",
    "def port_pathway(P):\n",
    "    new = Pathway()\n",
    "    new.id = P.id\n",
    "    new.source = ['gapseq',]\n",
    "    new.name = P.name\n",
    "    new.list_of_reactions = [remove_compartment_by_split(x.id,'_') for x in P.members]\n",
    "    return new\n",
    "\n",
    "p = port_pathway(model.groups[12])\n",
    "\n",
    "[p.id, p.name, p.list_of_reactions[:5]]"
   ]
  },
  {
   "cell_type": "code",
   "execution_count": 270,
   "metadata": {},
   "outputs": [
    {
     "data": {
      "text/plain": [
       "1099"
      ]
     },
     "execution_count": 270,
     "metadata": {},
     "output_type": "execute_result"
    }
   ],
   "source": [
    "## Pathways to port\n",
    "myPathways = []\n",
    "for P in model.groups:\n",
    "    myPathways.append(port_pathway(P))\n",
    "\n",
    "len(myPathways)"
   ]
  },
  {
   "cell_type": "markdown",
   "metadata": {},
   "source": [
    "## Collected data; now output"
   ]
  },
  {
   "cell_type": "code",
   "execution_count": 271,
   "metadata": {},
   "outputs": [],
   "source": [
    "from datetime import datetime\n",
    "today =  str(datetime.today()).split(\" \")[0]"
   ]
  },
  {
   "cell_type": "code",
   "execution_count": 272,
   "metadata": {
    "scrolled": true
   },
   "outputs": [
    {
     "data": {
      "text/plain": [
       "'2022-08-04'"
      ]
     },
     "execution_count": 272,
     "metadata": {},
     "output_type": "execute_result"
    }
   ],
   "source": [
    "today"
   ]
  },
  {
   "cell_type": "code",
   "execution_count": 273,
   "metadata": {},
   "outputs": [],
   "source": [
    "note = \"\"\"gapseq decompartmentalized, with genes and ECs.\"\"\"\n",
    "\n",
    "## metabolicModel to export\n",
    "MM = MetabolicModel()\n",
    "MM.id = f'az_{model_name}_{today}' #\n",
    "MM.meta_data = {\n",
    "            'species': model_name.split('-')[0],\n",
    "            'version': '',\n",
    "            'sources': [f'gapseq, retrieved {today}'], #\n",
    "            'status': '',\n",
    "            'last_update': today,  #\n",
    "            'note': note,\n",
    "        }\n",
    "\n",
    "MM.list_of_reactions = [R.__dict__ for R in  myRxns] # since metDatamodel Don't have reaction name yet. I add here.\n",
    "MM.list_of_compounds = [C.serialize() for C in myCpds]\n",
    "MM.list_of_pathways = [C.serialize() for C in myPathways]"
   ]
  },
  {
   "cell_type": "code",
   "execution_count": 274,
   "metadata": {
    "scrolled": true
   },
   "outputs": [
    {
     "data": {
      "text/plain": [
       "[{'id': 'subsys_1CMET2_PWY',\n",
       "  'name': '1CMET2-PWY',\n",
       "  'list_of_reactions': ['rxn00684',\n",
       "   'rxn00686',\n",
       "   'rxn00692',\n",
       "   'rxn00693',\n",
       "   'rxn00907',\n",
       "   'rxn00910',\n",
       "   'rxn01211',\n",
       "   'rxn01520',\n",
       "   'rxn01601',\n",
       "   'rxn01602',\n",
       "   'rxn01653',\n",
       "   'rxn04954',\n",
       "   'rxn11007',\n",
       "   'rxn12649',\n",
       "   'rxn14120',\n",
       "   'rxn15964',\n",
       "   'rxn16206']},\n",
       " [{'azimuth_id': '',\n",
       "   'id': 'rxn00001',\n",
       "   'source': [],\n",
       "   'version': '',\n",
       "   'status': '',\n",
       "   'reactants': ['cpd00001', 'cpd00012'],\n",
       "   'products': ['cpd00009', 'cpd00067'],\n",
       "   'enzymes': '3.6.1.1',\n",
       "   'genes': ['gp_epi_CA7orNODE_12_length_74194_cov_378_988963_58423_59349'],\n",
       "   'pathways': [],\n",
       "   'ontologies': [],\n",
       "   'species': '',\n",
       "   'compartments': [],\n",
       "   'cell_types': [],\n",
       "   'tissues': []},\n",
       "  {'azimuth_id': '',\n",
       "   'id': 'rxn00003',\n",
       "   'source': [],\n",
       "   'version': '',\n",
       "   'status': '',\n",
       "   'reactants': ['cpd00011', 'cpd00668'],\n",
       "   'products': ['cpd00067', 'cpd00020'],\n",
       "   'enzymes': ['2.2.1.6', '4.1.3.18'],\n",
       "   'genes': ['gp_epi_CA7orNODE_1_length_636563_cov_463_302643_351717_350098',\n",
       "    'gp_epi_CA7orNODE_14_length_56683_cov_401_399569_47415_49073',\n",
       "    'gp_epi_CA7orNODE_1_length_636563_cov_463_302643_310529_308907'],\n",
       "   'pathways': [],\n",
       "   'ontologies': [],\n",
       "   'species': '',\n",
       "   'compartments': [],\n",
       "   'cell_types': [],\n",
       "   'tissues': []}],\n",
       " [{'id': 'cpd00041',\n",
       "   'name': 'L-Aspartate',\n",
       "   'identifiers': {'epi_CA7-draft-gapseq': 'cpd00041',\n",
       "    'metanetx.chemical': 'MNXM42',\n",
       "    'inchikey': 'CKLJMWTZIZZHCS-REOHCLBHSA-M',\n",
       "    'seed.compound': 'cpd00041',\n",
       "    'reactome': ['R-ALL-113553', 'R-ALL-29448'],\n",
       "    'chebi': ['CHEBI:132943',\n",
       "     'CHEBI:17053',\n",
       "     'CHEBI:21247',\n",
       "     'CHEBI:40853',\n",
       "     'CHEBI:40900',\n",
       "     'CHEBI:40913',\n",
       "     'CHEBI:40942',\n",
       "     'CHEBI:6193',\n",
       "     'CHEBI:22660',\n",
       "     'CHEBI:29991',\n",
       "     'CHEBI:13085',\n",
       "     'CHEBI:21244',\n",
       "     'CHEBI:29993',\n",
       "     'CHEBI:29995',\n",
       "     'CHEBI:35391',\n",
       "     'CHEBI:22659',\n",
       "     'CHEBI:29992'],\n",
       "    'bigg.metabolite': 'asp__L',\n",
       "    'biocyc': 'META:L-ASPARTATE'},\n",
       "   'neutral_formula': 'C4H7NO4',\n",
       "   'charge': -1,\n",
       "   'charged_formula': 'C4H6NO4',\n",
       "   'neutral_mono_mass': 133.037507,\n",
       "   'SMILES': '',\n",
       "   'inchi': ''},\n",
       "  {'id': 'cpd00035',\n",
       "   'name': 'L-Alanine',\n",
       "   'identifiers': {'epi_CA7-draft-gapseq': 'cpd00035',\n",
       "    'metanetx.chemical': 'MNXM32',\n",
       "    'inchikey': 'QNAYBMKLOCPYGJ-REOHCLBHSA-N',\n",
       "    'seed.compound': 'cpd00035',\n",
       "    'reactome': ['R-ALL-29432',\n",
       "     'R-ALL-352036',\n",
       "     'R-ALL-379697',\n",
       "     'R-ALL-389664'],\n",
       "    'chebi': ['CHEBI:16449',\n",
       "     'CHEBI:13748',\n",
       "     'CHEBI:22277',\n",
       "     'CHEBI:2539',\n",
       "     'CHEBI:16977',\n",
       "     'CHEBI:13069',\n",
       "     'CHEBI:21216',\n",
       "     'CHEBI:40734',\n",
       "     'CHEBI:40735',\n",
       "     'CHEBI:46308',\n",
       "     'CHEBI:6171',\n",
       "     'CHEBI:32431',\n",
       "     'CHEBI:32432',\n",
       "     'CHEBI:32439',\n",
       "     'CHEBI:32440',\n",
       "     'CHEBI:57972',\n",
       "     'CHEBI:66916',\n",
       "     'CHEBI:76050'],\n",
       "    'bigg.metabolite': 'ala__L',\n",
       "    'biocyc': 'META:L-ALPHA-ALANINE'},\n",
       "   'neutral_formula': 'C3H7NO2',\n",
       "   'charge': 0,\n",
       "   'charged_formula': 'C3H7NO2',\n",
       "   'neutral_mono_mass': 89.047678,\n",
       "   'SMILES': '',\n",
       "   'inchi': ''}]]"
      ]
     },
     "execution_count": 274,
     "metadata": {},
     "output_type": "execute_result"
    }
   ],
   "source": [
    "# check output\n",
    "[\n",
    "MM.list_of_pathways[2],\n",
    "MM.list_of_reactions[:2],\n",
    "MM.list_of_compounds[100:102],\n",
    "]"
   ]
  },
  {
   "cell_type": "code",
   "execution_count": 275,
   "metadata": {},
   "outputs": [],
   "source": [
    "import pickle\n",
    "import os\n",
    "\n",
    "# Write pickle file\n",
    "export_pickle(os.path.join(output_fdr,f'{MM.id}.pickle'), MM)"
   ]
  },
  {
   "cell_type": "code",
   "execution_count": 276,
   "metadata": {},
   "outputs": [],
   "source": [
    "# Write json file\n",
    "export_json(os.path.join(output_fdr,f'{MM.id}.json'), MM)"
   ]
  },
  {
   "cell_type": "code",
   "execution_count": 277,
   "metadata": {},
   "outputs": [],
   "source": [
    "# Write dataframe \n",
    "import pandas as pd\n",
    "export_table(os.path.join(output_fdr,f'{MM.id}_list_of_compounds.csv'),MM, 'list_of_compounds')\n",
    "export_table(os.path.join(output_fdr,f'{MM.id}_list_of_reactions.csv'),MM, 'list_of_reactions')\n",
    "export_table(os.path.join(output_fdr,f'{MM.id}_list_of_pathways.csv'),MM, 'list_of_pathways')"
   ]
  },
  {
   "cell_type": "markdown",
   "metadata": {},
   "source": [
    "## Summary\n",
    "\n",
    "This ports reactions, pathways and compounds. Gene and enzyme information is now included. \n",
    "\n",
    "The exported pickle can be re-imported and uploaded to Database easily.\n",
    "\n",
    "This notebook, the pickle file and the JSON file go to GitHub repo (https://github.com/shuzhao-li/Azimuth)."
   ]
  }
 ],
 "metadata": {
  "kernelspec": {
   "display_name": "Python 3 (ipykernel)",
   "language": "python",
   "name": "python3"
  },
  "language_info": {
   "codemirror_mode": {
    "name": "ipython",
    "version": 3
   },
   "file_extension": ".py",
   "mimetype": "text/x-python",
   "name": "python",
   "nbconvert_exporter": "python",
   "pygments_lexer": "ipython3",
   "version": "3.8.5"
  },
  "metadata": {
   "interpreter": {
    "hash": "aee8b7b246df8f9039afb4144a1f6fd8d2ca17a180786b69acc140d282b71a49"
   }
  }
 },
 "nbformat": 4,
 "nbformat_minor": 2
}
