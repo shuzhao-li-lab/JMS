{
 "cells": [
  {
   "cell_type": "code",
   "execution_count": 4,
   "metadata": {
    "scrolled": true
   },
   "outputs": [],
   "source": [
    "# !pip install --upgrade metDataModel # https://github.com/shuzhao-li/metDataModel/ \n",
    "# !pip install -r ./requirements.txt --upgrade"
   ]
  },
  {
   "cell_type": "code",
   "execution_count": 5,
   "metadata": {},
   "outputs": [],
   "source": [
    "import cobra # https://cobrapy.readthedocs.io/en/latest/io.html#SBML\n",
    "from metDataModel.core import Compound, Reaction, Pathway, MetabolicModel\n",
    "import sys\n",
    "import re\n",
    "\n",
    "sys.path.append(\"/Users/gongm/Documents/projects/mass2chem/\")\n",
    "sys.path.append(\"/Users/gongm/Documents/projects/JMS/JMS/JMS\")\n",
    "from mass2chem.formula import *\n",
    "from jms.formula import *\n",
    "from jms.utils.gems import *\n",
    "from jms.utils.git_download import *\n",
    "import pandas as pd\n",
    "import pickle\n",
    "import os\n",
    "\n",
    "from datetime import datetime"
   ]
  },
  {
   "cell_type": "markdown",
   "metadata": {},
   "source": [
    "# Functions"
   ]
  },
  {
   "cell_type": "code",
   "execution_count": 6,
   "metadata": {},
   "outputs": [],
   "source": [
    "# Somehow the function was not corrected in jms.utils.gems\n",
    "# I use this function cover the bugged one.\n",
    "def neutral_formula2mass(neutral_formula):\n",
    "    '''\n",
    "    Convert neutral formula to mass but removing characters (e.g., X, R) typical in GEM but not ready for metabolomics application\n",
    "    '''\n",
    "    formula_dict = parse_chemformula_dict(neutral_formula)\n",
    "    if (\"R\" not in formula_dict) & (\"X\" not in formula_dict) & (\"Z\" not in formula_dict) & (len(formula_dict) != 0) :\n",
    "        mono_mass = calculate_mass(formula_dict,6)\n",
    "    else:\n",
    "        mono_mass = float(0)\n",
    "    return(mono_mass)"
   ]
  },
  {
   "attachments": {},
   "cell_type": "markdown",
   "metadata": {},
   "source": [
    "#### Port metabolite"
   ]
  },
  {
   "cell_type": "code",
   "execution_count": 7,
   "metadata": {
    "scrolled": true
   },
   "outputs": [],
   "source": [
    "def port_metabolite(M, annotation_as_dict = True):\n",
    "    '''\n",
    "    convert cobra Metabolite to metDataModel Compound\n",
    "    Annotation needs to be converted to dictionary structure rather than list of tuples for mummichog\n",
    "    '''\n",
    "    Cpd = Compound()\n",
    "    Cpd.src_id = remove_compartment_by_split(M.id,'_')\n",
    "    Cpd.id = remove_compartment_by_split(M.id,'_')              # temporarily the same with the source id\n",
    "    Cpd.name = M.name.rsplit('-',1)[0]\n",
    "    Cpd.charge = M.charge\n",
    "    Cpd.neutral_formula = adjust_charge_in_formula(M.formula,M.charge)\n",
    "    try:\n",
    "        Cpd.neutral_mono_mass = neutral_formula2mass(Cpd.neutral_formula)\n",
    "    except:\n",
    "        Cpd.neutral_mono_mass = 0\n",
    "    Cpd.charged_formula = M.formula\n",
    "    \n",
    "    if annotation_as_dict == True:\n",
    "        Cpd.db_ids = {}\n",
    "        Cpd.db_ids[strain_name] = Cpd.src_id\n",
    "    else:\n",
    "        Cpd.db_ids = [[strain_name,Cpd.src_id]] # using src_id to also reference Rat-GEM ID in db_ids field\n",
    "    for k,v in M.annotation.items():\n",
    "        if k not in ['sbo','hmdb','kegg.compound']:\n",
    "            if annotation_as_dict == True:\n",
    "                Cpd.db_ids[k] = v\n",
    "            else:\n",
    "                if isinstance(v,list):\n",
    "                    Cpd.db_ids.append([[k,x] for x in v])\n",
    "                else: \n",
    "                    if \":\" in v:\n",
    "                        Cpd.db_ids.append([k,v.split(\":\")[1]])\n",
    "                    else:\n",
    "                        Cpd.db_ids.append([k,v])\n",
    "                \n",
    "    return Cpd\n",
    "    Cpd.db_ids = listOfTuple2dict(tuple([tuple(x) for x in Cpd.db_ids]))\n",
    "    \n",
    "    inchi_list = [x[1].split('=')[1] for x in Cpd.db_ids if x[0] == 'inchi']\n",
    "    if len(inchi_list) ==1:\n",
    "        Cpd.inchi = inchi_list[0]\n",
    "    elif len(inchi_list) >1:\n",
    "        Cpd.inchi = inchi_list\n",
    "        \n",
    "    return Cpd"
   ]
  },
  {
   "attachments": {},
   "cell_type": "markdown",
   "metadata": {},
   "source": [
    "#### Port reactions"
   ]
  },
  {
   "cell_type": "code",
   "execution_count": 8,
   "metadata": {},
   "outputs": [],
   "source": [
    "# port reactions, to include genes and enzymes\n",
    "def port_reaction(R):\n",
    "    new = Reaction()\n",
    "    new.id = remove_compartment_by_split(R.id,'_')\n",
    "    new.reactants = [remove_compartment_by_split(x.id,'_') for x in R.reactants]\n",
    "    new.products = [remove_compartment_by_split(x.id,'_') for x in R.products]\n",
    "    new.genes = [g.id for g in R.genes]\n",
    "    new.enzymes = R.annotation.get('ec-code', [])\n",
    "    if 'EX_' not in new.id:\n",
    "        return new"
   ]
  },
  {
   "cell_type": "markdown",
   "metadata": {},
   "source": [
    "#### Port pathway"
   ]
  },
  {
   "cell_type": "code",
   "execution_count": 9,
   "metadata": {},
   "outputs": [],
   "source": [
    "# pathways, using group as pathway. Other models may use subsystem etc.\n",
    "\n",
    "def port_pathway(P):\n",
    "    new = Pathway()\n",
    "    new.id = P.id\n",
    "    new.source = ['gapseq',]\n",
    "    new.name = P.name\n",
    "    new.list_of_reactions = [remove_compartment_by_split(x.id,'_') for x in P.members]\n",
    "    return new\n"
   ]
  },
  {
   "cell_type": "markdown",
   "metadata": {},
   "source": [
    "#### Wrapper to export metabolic_model"
   ]
  },
  {
   "cell_type": "code",
   "execution_count": 10,
   "metadata": {},
   "outputs": [],
   "source": [
    "def export_metabolic_model(local_path, file_name, output_fdr, stain_name):\n",
    "    \n",
    "    today =  str(datetime.today()).split(\" \")[0]\n",
    "    print(today)\n",
    "    # Read the model via cobra\n",
    "    model = cobra.io.read_sbml_model(os.path.join(local_path,file_name))\n",
    "    \n",
    "    # Extract metabolites\n",
    "    myCpds = []\n",
    "    for i in range(len(model.metabolites)):\n",
    "        myCpds.append(port_metabolite(model.metabolites[i]))\n",
    "    print(f\"{len(myCpds)} compounds in the model {stain_name}\")\n",
    "    myCpds = remove_duplicate_cpd(myCpds) # remove duplicated compounds\n",
    "    print(f\"{len(myCpds)} deduplicated compounds in the model {stain_name}\")\n",
    "    \n",
    "    # Extract reactions\n",
    "    myRxns = []\n",
    "    for R in model.reactions:\n",
    "        temp_rxn = port_reaction(R) \n",
    "        if temp_rxn:\n",
    "            myRxns.append(temp_rxn)\n",
    "    print(f\"{len(myRxns)} reactions in the model {stain_name}\")\n",
    "    myRxns = remove_duplicate_rxn(myRxns)\n",
    "    print(f\"{len(myRxns)} deduplicated reactions in the model {stain_name}\")\n",
    "\n",
    "    # Extract pathways\n",
    "    myPathways = []\n",
    "    for P in model.groups:\n",
    "        myPathways.append(port_pathway(P))\n",
    "    print(f\"{len(myPathways)} subsystems in the model {stain_name}\")\n",
    "\n",
    "    # Create MetabolicModel object\n",
    "    MM = MetabolicModel()\n",
    "    MM.id = f'az_gapseq_{stain_name}_{today}' #\n",
    "    MM.meta_data = {\n",
    "                'strains': strain_name.split('-')[0],\n",
    "                'version': '',\n",
    "                'sources': [f'gapseq, retrieved {today}'], #\n",
    "                'status': '',\n",
    "                'last_update': today,  #\n",
    "                'note': \"gapseq decompartmentalized, with genes and ECs.\",\n",
    "            }\n",
    "\n",
    "    MM.list_of_reactions = [R.__dict__ for R in  myRxns]\n",
    "    MM.list_of_compounds = [C.serialize() for C in myCpds]\n",
    "    MM.list_of_pathways = [C.serialize() for C in myPathways]\n",
    "    # print( MM.list_of_pathways)\n",
    "\n",
    "    # Export files\n",
    "    export_pickle(os.path.join(output_fdr,f'{MM.id}.pickle'), MM)\n",
    "    export_json(os.path.join(output_fdr,f'{MM.id}.json'), MM)\n",
    "    export_table(os.path.join(output_fdr,f'{MM.id}_list_of_compounds.csv'), MM, 'list_of_compounds')\n",
    "    export_table(os.path.join(output_fdr,f'{MM.id}_list_of_reactions.csv'), MM, 'list_of_reactions')\n",
    "    export_table(os.path.join(output_fdr,f'{MM.id}_list_of_pathways.csv'), MM, 'list_of_pathways')\n",
    "    print(\"export metabolic model {stain_name} successfully\")"
   ]
  },
  {
   "cell_type": "markdown",
   "metadata": {},
   "source": [
    "--------"
   ]
  },
  {
   "cell_type": "markdown",
   "metadata": {},
   "source": [
    "--------"
   ]
  },
  {
   "cell_type": "markdown",
   "metadata": {},
   "source": [
    "--------"
   ]
  },
  {
   "cell_type": "code",
   "execution_count": 11,
   "metadata": {},
   "outputs": [
    {
     "name": "stderr",
     "output_type": "stream",
     "text": [
      "'S_aureus-c8_0032-D06' is not a valid SBML 'SId'.\n"
     ]
    },
    {
     "name": "stdout",
     "output_type": "stream",
     "text": [
      "2023-04-05\n",
      "1893 compounds in the model S_aureus-c8_0032-D06\n",
      "1698 deduplicated compounds in the model S_aureus-c8_0032-D06\n",
      "2124 reactions in the model S_aureus-c8_0032-D06\n",
      "1981 deduplicated reactions in the model S_aureus-c8_0032-D06\n",
      "1158 subsystems in the model S_aureus-c8_0032-D06\n",
      "export metabolic model {stain_name} successfully\n",
      "2023-04-05\n"
     ]
    },
    {
     "name": "stderr",
     "output_type": "stream",
     "text": [
      "'S_epidermidis-c4_0019-C07' is not a valid SBML 'SId'.\n"
     ]
    },
    {
     "name": "stdout",
     "output_type": "stream",
     "text": [
      "1825 compounds in the model S_epidermidis-c4_0019-C07\n",
      "1635 deduplicated compounds in the model S_epidermidis-c4_0019-C07\n",
      "2037 reactions in the model S_epidermidis-c4_0019-C07\n",
      "1886 deduplicated reactions in the model S_epidermidis-c4_0019-C07\n",
      "1134 subsystems in the model S_epidermidis-c4_0019-C07\n",
      "export metabolic model {stain_name} successfully\n",
      "2023-04-05\n"
     ]
    },
    {
     "name": "stderr",
     "output_type": "stream",
     "text": [
      "'S_hominis-c47_0028-H01' is not a valid SBML 'SId'.\n"
     ]
    },
    {
     "name": "stdout",
     "output_type": "stream",
     "text": [
      "1756 compounds in the model S_hominis-c47_0028-H01\n",
      "1563 deduplicated compounds in the model S_hominis-c47_0028-H01\n",
      "1958 reactions in the model S_hominis-c47_0028-H01\n",
      "1803 deduplicated reactions in the model S_hominis-c47_0028-H01\n",
      "1091 subsystems in the model S_hominis-c47_0028-H01\n",
      "export metabolic model {stain_name} successfully\n",
      "2023-04-05\n"
     ]
    },
    {
     "name": "stderr",
     "output_type": "stream",
     "text": [
      "'S_hominis-c26_0018-C08' is not a valid SBML 'SId'.\n"
     ]
    },
    {
     "name": "stdout",
     "output_type": "stream",
     "text": [
      "1774 compounds in the model S_hominis-c26_0018-C08\n",
      "1580 deduplicated compounds in the model S_hominis-c26_0018-C08\n",
      "1977 reactions in the model S_hominis-c26_0018-C08\n",
      "1828 deduplicated reactions in the model S_hominis-c26_0018-C08\n",
      "1102 subsystems in the model S_hominis-c26_0018-C08\n",
      "export metabolic model {stain_name} successfully\n",
      "2023-04-05\n"
     ]
    },
    {
     "name": "stderr",
     "output_type": "stream",
     "text": [
      "'S_hominis-c7_0021-G04' is not a valid SBML 'SId'.\n"
     ]
    },
    {
     "name": "stdout",
     "output_type": "stream",
     "text": [
      "1782 compounds in the model S_hominis-c7_0021-G04\n",
      "1590 deduplicated compounds in the model S_hominis-c7_0021-G04\n",
      "1991 reactions in the model S_hominis-c7_0021-G04\n",
      "1838 deduplicated reactions in the model S_hominis-c7_0021-G04\n",
      "1108 subsystems in the model S_hominis-c7_0021-G04\n",
      "export metabolic model {stain_name} successfully\n",
      "2023-04-05\n"
     ]
    },
    {
     "name": "stderr",
     "output_type": "stream",
     "text": [
      "'S_hominis-c44_004-C01' is not a valid SBML 'SId'.\n"
     ]
    },
    {
     "name": "stdout",
     "output_type": "stream",
     "text": [
      "1738 compounds in the model S_hominis-c44_004-C01\n",
      "1552 deduplicated compounds in the model S_hominis-c44_004-C01\n",
      "1950 reactions in the model S_hominis-c44_004-C01\n",
      "1812 deduplicated reactions in the model S_hominis-c44_004-C01\n",
      "1103 subsystems in the model S_hominis-c44_004-C01\n",
      "export metabolic model {stain_name} successfully\n",
      "2023-04-05\n"
     ]
    },
    {
     "name": "stderr",
     "output_type": "stream",
     "text": [
      "'S_capitis-c21_016-A08' is not a valid SBML 'SId'.\n"
     ]
    },
    {
     "name": "stdout",
     "output_type": "stream",
     "text": [
      "1798 compounds in the model S_capitis-c21_016-A08\n",
      "1602 deduplicated compounds in the model S_capitis-c21_016-A08\n",
      "2014 reactions in the model S_capitis-c21_016-A08\n",
      "1852 deduplicated reactions in the model S_capitis-c21_016-A08\n",
      "1118 subsystems in the model S_capitis-c21_016-A08\n",
      "export metabolic model {stain_name} successfully\n",
      "2023-04-05\n"
     ]
    },
    {
     "name": "stderr",
     "output_type": "stream",
     "text": [
      "'S_hominis-c33_0034-B09' is not a valid SBML 'SId'.\n"
     ]
    },
    {
     "name": "stdout",
     "output_type": "stream",
     "text": [
      "1750 compounds in the model S_hominis-c33_0034-B09\n",
      "1564 deduplicated compounds in the model S_hominis-c33_0034-B09\n",
      "1955 reactions in the model S_hominis-c33_0034-B09\n",
      "1808 deduplicated reactions in the model S_hominis-c33_0034-B09\n",
      "1105 subsystems in the model S_hominis-c33_0034-B09\n",
      "export metabolic model {stain_name} successfully\n",
      "2023-04-05\n"
     ]
    },
    {
     "name": "stderr",
     "output_type": "stream",
     "text": [
      "'S_capitis-c8_0030-C01' is not a valid SBML 'SId'.\n"
     ]
    },
    {
     "name": "stdout",
     "output_type": "stream",
     "text": [
      "1800 compounds in the model S_capitis-c8_0030-C01\n",
      "1603 deduplicated compounds in the model S_capitis-c8_0030-C01\n",
      "2008 reactions in the model S_capitis-c8_0030-C01\n",
      "1850 deduplicated reactions in the model S_capitis-c8_0030-C01\n",
      "1114 subsystems in the model S_capitis-c8_0030-C01\n",
      "export metabolic model {stain_name} successfully\n",
      "2023-04-05\n"
     ]
    },
    {
     "name": "stderr",
     "output_type": "stream",
     "text": [
      "'S_capitis-c44_0021-H01' is not a valid SBML 'SId'.\n"
     ]
    },
    {
     "name": "stdout",
     "output_type": "stream",
     "text": [
      "1810 compounds in the model S_capitis-c44_0021-H01\n",
      "1617 deduplicated compounds in the model S_capitis-c44_0021-H01\n",
      "2017 reactions in the model S_capitis-c44_0021-H01\n",
      "1868 deduplicated reactions in the model S_capitis-c44_0021-H01\n",
      "1120 subsystems in the model S_capitis-c44_0021-H01\n",
      "export metabolic model {stain_name} successfully\n",
      "2023-04-05\n"
     ]
    },
    {
     "name": "stderr",
     "output_type": "stream",
     "text": [
      "'S_haemolyticus-c3_0017-D02' is not a valid SBML 'SId'.\n"
     ]
    },
    {
     "name": "stdout",
     "output_type": "stream",
     "text": [
      "1810 compounds in the model S_haemolyticus-c3_0017-D02\n",
      "1617 deduplicated compounds in the model S_haemolyticus-c3_0017-D02\n",
      "2008 reactions in the model S_haemolyticus-c3_0017-D02\n",
      "1857 deduplicated reactions in the model S_haemolyticus-c3_0017-D02\n",
      "1122 subsystems in the model S_haemolyticus-c3_0017-D02\n",
      "export metabolic model {stain_name} successfully\n",
      "2023-04-05\n"
     ]
    },
    {
     "name": "stderr",
     "output_type": "stream",
     "text": [
      "'S_haemolyticus-c2_0029-F01' is not a valid SBML 'SId'.\n"
     ]
    },
    {
     "name": "stdout",
     "output_type": "stream",
     "text": [
      "1827 compounds in the model S_haemolyticus-c2_0029-F01\n",
      "1631 deduplicated compounds in the model S_haemolyticus-c2_0029-F01\n",
      "2030 reactions in the model S_haemolyticus-c2_0029-F01\n",
      "1883 deduplicated reactions in the model S_haemolyticus-c2_0029-F01\n",
      "1119 subsystems in the model S_haemolyticus-c2_0029-F01\n",
      "export metabolic model {stain_name} successfully\n",
      "2023-04-05\n"
     ]
    },
    {
     "name": "stderr",
     "output_type": "stream",
     "text": [
      "'S_hominis-c3_0034-E01' is not a valid SBML 'SId'.\n"
     ]
    },
    {
     "name": "stdout",
     "output_type": "stream",
     "text": [
      "1757 compounds in the model S_hominis-c3_0034-E01\n",
      "1570 deduplicated compounds in the model S_hominis-c3_0034-E01\n",
      "1961 reactions in the model S_hominis-c3_0034-E01\n",
      "1812 deduplicated reactions in the model S_hominis-c3_0034-E01\n",
      "1106 subsystems in the model S_hominis-c3_0034-E01\n",
      "export metabolic model {stain_name} successfully\n",
      "2023-04-05\n"
     ]
    },
    {
     "name": "stderr",
     "output_type": "stream",
     "text": [
      "'S_epidermidis-c12_0018-F07' is not a valid SBML 'SId'.\n"
     ]
    },
    {
     "name": "stdout",
     "output_type": "stream",
     "text": [
      "1820 compounds in the model S_epidermidis-c12_0018-F07\n",
      "1626 deduplicated compounds in the model S_epidermidis-c12_0018-F07\n",
      "2023 reactions in the model S_epidermidis-c12_0018-F07\n",
      "1871 deduplicated reactions in the model S_epidermidis-c12_0018-F07\n",
      "1129 subsystems in the model S_epidermidis-c12_0018-F07\n"
     ]
    },
    {
     "name": "stderr",
     "output_type": "stream",
     "text": [
      "'S_epidermidis-c21_0027-D09' is not a valid SBML 'SId'.\n"
     ]
    },
    {
     "name": "stdout",
     "output_type": "stream",
     "text": [
      "export metabolic model {stain_name} successfully\n",
      "2023-04-05\n",
      "1813 compounds in the model S_epidermidis-c21_0027-D09\n",
      "1618 deduplicated compounds in the model S_epidermidis-c21_0027-D09\n",
      "2008 reactions in the model S_epidermidis-c21_0027-D09\n",
      "1857 deduplicated reactions in the model S_epidermidis-c21_0027-D09\n",
      "1132 subsystems in the model S_epidermidis-c21_0027-D09\n",
      "export metabolic model {stain_name} successfully\n",
      "2023-04-05\n"
     ]
    },
    {
     "name": "stderr",
     "output_type": "stream",
     "text": [
      "'S_lugdunensis-c6_0007-B02' is not a valid SBML 'SId'.\n"
     ]
    },
    {
     "name": "stdout",
     "output_type": "stream",
     "text": [
      "1773 compounds in the model S_lugdunensis-c6_0007-B02\n",
      "1569 deduplicated compounds in the model S_lugdunensis-c6_0007-B02\n",
      "1994 reactions in the model S_lugdunensis-c6_0007-B02\n",
      "1835 deduplicated reactions in the model S_lugdunensis-c6_0007-B02\n",
      "1113 subsystems in the model S_lugdunensis-c6_0007-B02\n",
      "export metabolic model {stain_name} successfully\n",
      "2023-04-05\n"
     ]
    },
    {
     "name": "stderr",
     "output_type": "stream",
     "text": [
      "'S_epidermidis-c26_0020-A04' is not a valid SBML 'SId'.\n"
     ]
    },
    {
     "name": "stdout",
     "output_type": "stream",
     "text": [
      "1810 compounds in the model S_epidermidis-c26_0020-A04\n",
      "1618 deduplicated compounds in the model S_epidermidis-c26_0020-A04\n",
      "2032 reactions in the model S_epidermidis-c26_0020-A04\n",
      "1876 deduplicated reactions in the model S_epidermidis-c26_0020-A04\n",
      "1123 subsystems in the model S_epidermidis-c26_0020-A04\n",
      "export metabolic model {stain_name} successfully\n",
      "2023-04-05\n"
     ]
    },
    {
     "name": "stderr",
     "output_type": "stream",
     "text": [
      "'S_lugdunensis-c3_0001-A02' is not a valid SBML 'SId'.\n"
     ]
    },
    {
     "name": "stdout",
     "output_type": "stream",
     "text": [
      "1768 compounds in the model S_lugdunensis-c3_0001-A02\n",
      "1567 deduplicated compounds in the model S_lugdunensis-c3_0001-A02\n",
      "1997 reactions in the model S_lugdunensis-c3_0001-A02\n",
      "1835 deduplicated reactions in the model S_lugdunensis-c3_0001-A02\n",
      "1112 subsystems in the model S_lugdunensis-c3_0001-A02\n",
      "export metabolic model {stain_name} successfully\n",
      "2023-04-05\n"
     ]
    },
    {
     "name": "stderr",
     "output_type": "stream",
     "text": [
      "'S_epidermidis-c38_014-B03' is not a valid SBML 'SId'.\n"
     ]
    },
    {
     "name": "stdout",
     "output_type": "stream",
     "text": [
      "1830 compounds in the model S_epidermidis-c38_014-B03\n",
      "1635 deduplicated compounds in the model S_epidermidis-c38_014-B03\n",
      "2031 reactions in the model S_epidermidis-c38_014-B03\n",
      "1877 deduplicated reactions in the model S_epidermidis-c38_014-B03\n",
      "1129 subsystems in the model S_epidermidis-c38_014-B03\n",
      "export metabolic model {stain_name} successfully\n",
      "2023-04-05\n"
     ]
    },
    {
     "name": "stderr",
     "output_type": "stream",
     "text": [
      "'S_hominis-c8_0006-F08' is not a valid SBML 'SId'.\n"
     ]
    },
    {
     "name": "stdout",
     "output_type": "stream",
     "text": [
      "1776 compounds in the model S_hominis-c8_0006-F08\n",
      "1585 deduplicated compounds in the model S_hominis-c8_0006-F08\n",
      "1980 reactions in the model S_hominis-c8_0006-F08\n",
      "1823 deduplicated reactions in the model S_hominis-c8_0006-F08\n",
      "1099 subsystems in the model S_hominis-c8_0006-F08\n",
      "export metabolic model {stain_name} successfully\n",
      "2023-04-05\n"
     ]
    },
    {
     "name": "stderr",
     "output_type": "stream",
     "text": [
      "'S_capitis-c2_002-B02' is not a valid SBML 'SId'.\n"
     ]
    },
    {
     "name": "stdout",
     "output_type": "stream",
     "text": [
      "1809 compounds in the model S_capitis-c2_002-B02\n",
      "1611 deduplicated compounds in the model S_capitis-c2_002-B02\n",
      "2003 reactions in the model S_capitis-c2_002-B02\n",
      "1849 deduplicated reactions in the model S_capitis-c2_002-B02\n",
      "1116 subsystems in the model S_capitis-c2_002-B02\n",
      "export metabolic model {stain_name} successfully\n",
      "2023-04-05\n"
     ]
    },
    {
     "name": "stderr",
     "output_type": "stream",
     "text": [
      "'S_capitis-c41_0033-A01' is not a valid SBML 'SId'.\n"
     ]
    },
    {
     "name": "stdout",
     "output_type": "stream",
     "text": [
      "1783 compounds in the model S_capitis-c41_0033-A01\n",
      "1591 deduplicated compounds in the model S_capitis-c41_0033-A01\n",
      "2003 reactions in the model S_capitis-c41_0033-A01\n",
      "1847 deduplicated reactions in the model S_capitis-c41_0033-A01\n",
      "1120 subsystems in the model S_capitis-c41_0033-A01\n",
      "export metabolic model {stain_name} successfully\n",
      "2023-04-05\n"
     ]
    },
    {
     "name": "stderr",
     "output_type": "stream",
     "text": [
      "'S_haemolyticus-c5_0007-B04' is not a valid SBML 'SId'.\n"
     ]
    },
    {
     "name": "stdout",
     "output_type": "stream",
     "text": [
      "1842 compounds in the model S_haemolyticus-c5_0007-B04\n",
      "1641 deduplicated compounds in the model S_haemolyticus-c5_0007-B04\n",
      "2045 reactions in the model S_haemolyticus-c5_0007-B04\n",
      "1885 deduplicated reactions in the model S_haemolyticus-c5_0007-B04\n",
      "1126 subsystems in the model S_haemolyticus-c5_0007-B04\n",
      "export metabolic model {stain_name} successfully\n",
      "2023-04-05\n"
     ]
    },
    {
     "name": "stderr",
     "output_type": "stream",
     "text": [
      "'S_capitis-c16_0018-G05' is not a valid SBML 'SId'.\n"
     ]
    },
    {
     "name": "stdout",
     "output_type": "stream",
     "text": [
      "1798 compounds in the model S_capitis-c16_0018-G05\n",
      "1602 deduplicated compounds in the model S_capitis-c16_0018-G05\n",
      "2006 reactions in the model S_capitis-c16_0018-G05\n",
      "1850 deduplicated reactions in the model S_capitis-c16_0018-G05\n",
      "1118 subsystems in the model S_capitis-c16_0018-G05\n",
      "export metabolic model {stain_name} successfully\n",
      "2023-04-05\n"
     ]
    },
    {
     "name": "stderr",
     "output_type": "stream",
     "text": [
      "'S_hominis-c48_0003-G09' is not a valid SBML 'SId'.\n"
     ]
    },
    {
     "name": "stdout",
     "output_type": "stream",
     "text": [
      "1758 compounds in the model S_hominis-c48_0003-G09\n",
      "1567 deduplicated compounds in the model S_hominis-c48_0003-G09\n",
      "1956 reactions in the model S_hominis-c48_0003-G09\n",
      "1804 deduplicated reactions in the model S_hominis-c48_0003-G09\n",
      "1099 subsystems in the model S_hominis-c48_0003-G09\n",
      "export metabolic model {stain_name} successfully\n",
      "2023-04-05\n"
     ]
    },
    {
     "name": "stderr",
     "output_type": "stream",
     "text": [
      "'S_lugdunensis-c2_0001-A01' is not a valid SBML 'SId'.\n"
     ]
    },
    {
     "name": "stdout",
     "output_type": "stream",
     "text": [
      "1768 compounds in the model S_lugdunensis-c2_0001-A01\n",
      "1565 deduplicated compounds in the model S_lugdunensis-c2_0001-A01\n",
      "1993 reactions in the model S_lugdunensis-c2_0001-A01\n",
      "1832 deduplicated reactions in the model S_lugdunensis-c2_0001-A01\n",
      "1115 subsystems in the model S_lugdunensis-c2_0001-A01\n"
     ]
    },
    {
     "name": "stderr",
     "output_type": "stream",
     "text": [
      "'S_hominis-c37_0028-H03' is not a valid SBML 'SId'.\n"
     ]
    },
    {
     "name": "stdout",
     "output_type": "stream",
     "text": [
      "export metabolic model {stain_name} successfully\n",
      "2023-04-05\n",
      "1758 compounds in the model S_hominis-c37_0028-H03\n",
      "1569 deduplicated compounds in the model S_hominis-c37_0028-H03\n",
      "1948 reactions in the model S_hominis-c37_0028-H03\n",
      "1805 deduplicated reactions in the model S_hominis-c37_0028-H03\n",
      "1098 subsystems in the model S_hominis-c37_0028-H03\n",
      "export metabolic model {stain_name} successfully\n",
      "2023-04-05\n"
     ]
    },
    {
     "name": "stderr",
     "output_type": "stream",
     "text": [
      "'S_hominis-c4_0022-H04' is not a valid SBML 'SId'.\n"
     ]
    },
    {
     "name": "stdout",
     "output_type": "stream",
     "text": [
      "1770 compounds in the model S_hominis-c4_0022-H04\n",
      "1579 deduplicated compounds in the model S_hominis-c4_0022-H04\n",
      "1978 reactions in the model S_hominis-c4_0022-H04\n",
      "1832 deduplicated reactions in the model S_hominis-c4_0022-H04\n",
      "1102 subsystems in the model S_hominis-c4_0022-H04\n",
      "export metabolic model {stain_name} successfully\n",
      "2023-04-05\n"
     ]
    },
    {
     "name": "stderr",
     "output_type": "stream",
     "text": [
      "'S_haemolyticus-c6_0019-G02' is not a valid SBML 'SId'.\n"
     ]
    },
    {
     "name": "stdout",
     "output_type": "stream",
     "text": [
      "1842 compounds in the model S_haemolyticus-c6_0019-G02\n",
      "1645 deduplicated compounds in the model S_haemolyticus-c6_0019-G02\n",
      "2036 reactions in the model S_haemolyticus-c6_0019-G02\n",
      "1887 deduplicated reactions in the model S_haemolyticus-c6_0019-G02\n",
      "1131 subsystems in the model S_haemolyticus-c6_0019-G02\n",
      "export metabolic model {stain_name} successfully\n",
      "2023-04-05\n"
     ]
    },
    {
     "name": "stderr",
     "output_type": "stream",
     "text": [
      "'S_hominis-c36_0027-G04' is not a valid SBML 'SId'.\n"
     ]
    },
    {
     "name": "stdout",
     "output_type": "stream",
     "text": [
      "1749 compounds in the model S_hominis-c36_0027-G04\n",
      "1563 deduplicated compounds in the model S_hominis-c36_0027-G04\n",
      "1952 reactions in the model S_hominis-c36_0027-G04\n",
      "1808 deduplicated reactions in the model S_hominis-c36_0027-G04\n",
      "1103 subsystems in the model S_hominis-c36_0027-G04\n",
      "export metabolic model {stain_name} successfully\n",
      "2023-04-05\n"
     ]
    },
    {
     "name": "stderr",
     "output_type": "stream",
     "text": [
      "'S_hominis-c25_0034-B06' is not a valid SBML 'SId'.\n"
     ]
    },
    {
     "name": "stdout",
     "output_type": "stream",
     "text": [
      "1773 compounds in the model S_hominis-c25_0034-B06\n",
      "1581 deduplicated compounds in the model S_hominis-c25_0034-B06\n",
      "1971 reactions in the model S_hominis-c25_0034-B06\n",
      "1822 deduplicated reactions in the model S_hominis-c25_0034-B06\n",
      "1104 subsystems in the model S_hominis-c25_0034-B06\n",
      "export metabolic model {stain_name} successfully\n",
      "2023-04-05\n"
     ]
    },
    {
     "name": "stderr",
     "output_type": "stream",
     "text": [
      "'S_capitis-c15_0027-C09' is not a valid SBML 'SId'.\n"
     ]
    },
    {
     "name": "stdout",
     "output_type": "stream",
     "text": [
      "1794 compounds in the model S_capitis-c15_0027-C09\n",
      "1598 deduplicated compounds in the model S_capitis-c15_0027-C09\n",
      "2011 reactions in the model S_capitis-c15_0027-C09\n",
      "1850 deduplicated reactions in the model S_capitis-c15_0027-C09\n",
      "1115 subsystems in the model S_capitis-c15_0027-C09\n"
     ]
    },
    {
     "name": "stderr",
     "output_type": "stream",
     "text": [
      "'S_epidermidis-c28_014-D07' is not a valid SBML 'SId'.\n"
     ]
    },
    {
     "name": "stdout",
     "output_type": "stream",
     "text": [
      "export metabolic model {stain_name} successfully\n",
      "2023-04-05\n",
      "1796 compounds in the model S_epidermidis-c28_014-D07\n",
      "1604 deduplicated compounds in the model S_epidermidis-c28_014-D07\n",
      "2013 reactions in the model S_epidermidis-c28_014-D07\n",
      "1864 deduplicated reactions in the model S_epidermidis-c28_014-D07\n",
      "1122 subsystems in the model S_epidermidis-c28_014-D07\n",
      "export metabolic model {stain_name} successfully\n",
      "2023-04-05\n"
     ]
    },
    {
     "name": "stderr",
     "output_type": "stream",
     "text": [
      "'S_epidermidis-c48_0005-C04' is not a valid SBML 'SId'.\n"
     ]
    },
    {
     "name": "stdout",
     "output_type": "stream",
     "text": [
      "1807 compounds in the model S_epidermidis-c48_0005-C04\n",
      "1614 deduplicated compounds in the model S_epidermidis-c48_0005-C04\n",
      "2016 reactions in the model S_epidermidis-c48_0005-C04\n",
      "1862 deduplicated reactions in the model S_epidermidis-c48_0005-C04\n",
      "1126 subsystems in the model S_epidermidis-c48_0005-C04\n",
      "export metabolic model {stain_name} successfully\n",
      "2023-04-05\n"
     ]
    },
    {
     "name": "stderr",
     "output_type": "stream",
     "text": [
      "'S_lugdunensis-c4_0009-A03' is not a valid SBML 'SId'.\n"
     ]
    },
    {
     "name": "stdout",
     "output_type": "stream",
     "text": [
      "1777 compounds in the model S_lugdunensis-c4_0009-A03\n",
      "1575 deduplicated compounds in the model S_lugdunensis-c4_0009-A03\n",
      "2006 reactions in the model S_lugdunensis-c4_0009-A03\n",
      "1846 deduplicated reactions in the model S_lugdunensis-c4_0009-A03\n",
      "1115 subsystems in the model S_lugdunensis-c4_0009-A03\n",
      "export metabolic model {stain_name} successfully\n",
      "2023-04-05\n"
     ]
    },
    {
     "name": "stderr",
     "output_type": "stream",
     "text": [
      "'S_epidermidis-c33_0005-F12' is not a valid SBML 'SId'.\n"
     ]
    },
    {
     "name": "stdout",
     "output_type": "stream",
     "text": [
      "1820 compounds in the model S_epidermidis-c33_0005-F12\n",
      "1626 deduplicated compounds in the model S_epidermidis-c33_0005-F12\n",
      "2036 reactions in the model S_epidermidis-c33_0005-F12\n",
      "1879 deduplicated reactions in the model S_epidermidis-c33_0005-F12\n",
      "1124 subsystems in the model S_epidermidis-c33_0005-F12\n"
     ]
    },
    {
     "name": "stderr",
     "output_type": "stream",
     "text": [
      "'S_epidermidis-c19_0027-A06' is not a valid SBML 'SId'.\n"
     ]
    },
    {
     "name": "stdout",
     "output_type": "stream",
     "text": [
      "export metabolic model {stain_name} successfully\n",
      "2023-04-05\n",
      "1812 compounds in the model S_epidermidis-c19_0027-A06\n",
      "1618 deduplicated compounds in the model S_epidermidis-c19_0027-A06\n",
      "2008 reactions in the model S_epidermidis-c19_0027-A06\n",
      "1856 deduplicated reactions in the model S_epidermidis-c19_0027-A06\n",
      "1132 subsystems in the model S_epidermidis-c19_0027-A06\n",
      "export metabolic model {stain_name} successfully\n",
      "2023-04-05\n"
     ]
    },
    {
     "name": "stderr",
     "output_type": "stream",
     "text": [
      "'S_hominis-c13_004-E01' is not a valid SBML 'SId'.\n"
     ]
    },
    {
     "name": "stdout",
     "output_type": "stream",
     "text": [
      "1768 compounds in the model S_hominis-c13_004-E01\n",
      "1575 deduplicated compounds in the model S_hominis-c13_004-E01\n",
      "1976 reactions in the model S_hominis-c13_004-E01\n",
      "1824 deduplicated reactions in the model S_hominis-c13_004-E01\n",
      "1095 subsystems in the model S_hominis-c13_004-E01\n",
      "export metabolic model {stain_name} successfully\n",
      "2023-04-05\n"
     ]
    },
    {
     "name": "stderr",
     "output_type": "stream",
     "text": [
      "'S_capitis-c38_0027-F02' is not a valid SBML 'SId'.\n"
     ]
    },
    {
     "name": "stdout",
     "output_type": "stream",
     "text": [
      "1776 compounds in the model S_capitis-c38_0027-F02\n",
      "1585 deduplicated compounds in the model S_capitis-c38_0027-F02\n",
      "2011 reactions in the model S_capitis-c38_0027-F02\n",
      "1857 deduplicated reactions in the model S_capitis-c38_0027-F02\n",
      "1122 subsystems in the model S_capitis-c38_0027-F02\n",
      "export metabolic model {stain_name} successfully\n",
      "2023-04-05\n"
     ]
    },
    {
     "name": "stderr",
     "output_type": "stream",
     "text": [
      "'S_hominis-c14_0034-D01' is not a valid SBML 'SId'.\n"
     ]
    },
    {
     "name": "stdout",
     "output_type": "stream",
     "text": [
      "1768 compounds in the model S_hominis-c14_0034-D01\n",
      "1577 deduplicated compounds in the model S_hominis-c14_0034-D01\n",
      "1965 reactions in the model S_hominis-c14_0034-D01\n",
      "1816 deduplicated reactions in the model S_hominis-c14_0034-D01\n",
      "1111 subsystems in the model S_hominis-c14_0034-D01\n"
     ]
    },
    {
     "name": "stderr",
     "output_type": "stream",
     "text": [
      "'S_epidermidis-c34_0021-A06' is not a valid SBML 'SId'.\n"
     ]
    },
    {
     "name": "stdout",
     "output_type": "stream",
     "text": [
      "export metabolic model {stain_name} successfully\n",
      "2023-04-05\n",
      "1822 compounds in the model S_epidermidis-c34_0021-A06\n",
      "1628 deduplicated compounds in the model S_epidermidis-c34_0021-A06\n",
      "2018 reactions in the model S_epidermidis-c34_0021-A06\n",
      "1868 deduplicated reactions in the model S_epidermidis-c34_0021-A06\n",
      "1123 subsystems in the model S_epidermidis-c34_0021-A06\n"
     ]
    },
    {
     "name": "stderr",
     "output_type": "stream",
     "text": [
      "'S_haemolyticus-c4_0007-A04' is not a valid SBML 'SId'.\n"
     ]
    },
    {
     "name": "stdout",
     "output_type": "stream",
     "text": [
      "export metabolic model {stain_name} successfully\n",
      "2023-04-05\n",
      "1830 compounds in the model S_haemolyticus-c4_0007-A04\n",
      "1629 deduplicated compounds in the model S_haemolyticus-c4_0007-A04\n",
      "2039 reactions in the model S_haemolyticus-c4_0007-A04\n",
      "1879 deduplicated reactions in the model S_haemolyticus-c4_0007-A04\n",
      "1120 subsystems in the model S_haemolyticus-c4_0007-A04\n",
      "export metabolic model {stain_name} successfully\n",
      "2023-04-05\n"
     ]
    },
    {
     "name": "stderr",
     "output_type": "stream",
     "text": [
      "'S_epidermidis-c3_0003-A11' is not a valid SBML 'SId'.\n"
     ]
    },
    {
     "name": "stdout",
     "output_type": "stream",
     "text": [
      "1799 compounds in the model S_epidermidis-c3_0003-A11\n",
      "1605 deduplicated compounds in the model S_epidermidis-c3_0003-A11\n",
      "1997 reactions in the model S_epidermidis-c3_0003-A11\n",
      "1842 deduplicated reactions in the model S_epidermidis-c3_0003-A11\n",
      "1103 subsystems in the model S_epidermidis-c3_0003-A11\n",
      "export metabolic model {stain_name} successfully\n",
      "2023-04-05\n"
     ]
    },
    {
     "name": "stderr",
     "output_type": "stream",
     "text": [
      "'S_hominis-c50_0017-A04' is not a valid SBML 'SId'.\n"
     ]
    },
    {
     "name": "stdout",
     "output_type": "stream",
     "text": [
      "1782 compounds in the model S_hominis-c50_0017-A04\n",
      "1589 deduplicated compounds in the model S_hominis-c50_0017-A04\n",
      "1991 reactions in the model S_hominis-c50_0017-A04\n",
      "1836 deduplicated reactions in the model S_hominis-c50_0017-A04\n",
      "1103 subsystems in the model S_hominis-c50_0017-A04\n"
     ]
    },
    {
     "name": "stderr",
     "output_type": "stream",
     "text": [
      "'S_capitis-c46_0031-E01' is not a valid SBML 'SId'.\n"
     ]
    },
    {
     "name": "stdout",
     "output_type": "stream",
     "text": [
      "export metabolic model {stain_name} successfully\n",
      "2023-04-05\n",
      "1801 compounds in the model S_capitis-c46_0031-E01\n",
      "1609 deduplicated compounds in the model S_capitis-c46_0031-E01\n",
      "2023 reactions in the model S_capitis-c46_0031-E01\n",
      "1873 deduplicated reactions in the model S_capitis-c46_0031-E01\n",
      "1120 subsystems in the model S_capitis-c46_0031-E01\n"
     ]
    },
    {
     "name": "stderr",
     "output_type": "stream",
     "text": [
      "'S_epidermidis-c29_0021-A08' is not a valid SBML 'SId'.\n"
     ]
    },
    {
     "name": "stdout",
     "output_type": "stream",
     "text": [
      "export metabolic model {stain_name} successfully\n",
      "2023-04-05\n",
      "1831 compounds in the model S_epidermidis-c29_0021-A08\n",
      "1636 deduplicated compounds in the model S_epidermidis-c29_0021-A08\n",
      "2049 reactions in the model S_epidermidis-c29_0021-A08\n",
      "1889 deduplicated reactions in the model S_epidermidis-c29_0021-A08\n",
      "1131 subsystems in the model S_epidermidis-c29_0021-A08\n"
     ]
    },
    {
     "name": "stderr",
     "output_type": "stream",
     "text": [
      "'S_capitis-c39_0019-A01' is not a valid SBML 'SId'.\n"
     ]
    },
    {
     "name": "stdout",
     "output_type": "stream",
     "text": [
      "export metabolic model {stain_name} successfully\n",
      "2023-04-05\n",
      "1807 compounds in the model S_capitis-c39_0019-A01\n",
      "1614 deduplicated compounds in the model S_capitis-c39_0019-A01\n",
      "2025 reactions in the model S_capitis-c39_0019-A01\n",
      "1868 deduplicated reactions in the model S_capitis-c39_0019-A01\n",
      "1123 subsystems in the model S_capitis-c39_0019-A01\n",
      "export metabolic model {stain_name} successfully\n",
      "2023-04-05\n"
     ]
    },
    {
     "name": "stderr",
     "output_type": "stream",
     "text": [
      "'S_haemolyticus-c9_0022-E04' is not a valid SBML 'SId'.\n"
     ]
    },
    {
     "name": "stdout",
     "output_type": "stream",
     "text": [
      "1819 compounds in the model S_haemolyticus-c9_0022-E04\n",
      "1625 deduplicated compounds in the model S_haemolyticus-c9_0022-E04\n",
      "2027 reactions in the model S_haemolyticus-c9_0022-E04\n",
      "1877 deduplicated reactions in the model S_haemolyticus-c9_0022-E04\n",
      "1124 subsystems in the model S_haemolyticus-c9_0022-E04\n",
      "export metabolic model {stain_name} successfully\n",
      "2023-04-05\n"
     ]
    },
    {
     "name": "stderr",
     "output_type": "stream",
     "text": [
      "'S_lugdunensis-c9_0034-F01' is not a valid SBML 'SId'.\n"
     ]
    },
    {
     "name": "stdout",
     "output_type": "stream",
     "text": [
      "1765 compounds in the model S_lugdunensis-c9_0034-F01\n",
      "1563 deduplicated compounds in the model S_lugdunensis-c9_0034-F01\n",
      "1998 reactions in the model S_lugdunensis-c9_0034-F01\n",
      "1834 deduplicated reactions in the model S_lugdunensis-c9_0034-F01\n",
      "1115 subsystems in the model S_lugdunensis-c9_0034-F01\n",
      "export metabolic model {stain_name} successfully\n",
      "2023-04-05\n"
     ]
    },
    {
     "name": "stderr",
     "output_type": "stream",
     "text": [
      "'S_epidermidis-c32_0018-C09' is not a valid SBML 'SId'.\n"
     ]
    },
    {
     "name": "stdout",
     "output_type": "stream",
     "text": [
      "1822 compounds in the model S_epidermidis-c32_0018-C09\n",
      "1627 deduplicated compounds in the model S_epidermidis-c32_0018-C09\n",
      "2034 reactions in the model S_epidermidis-c32_0018-C09\n",
      "1873 deduplicated reactions in the model S_epidermidis-c32_0018-C09\n",
      "1124 subsystems in the model S_epidermidis-c32_0018-C09\n",
      "export metabolic model {stain_name} successfully\n",
      "2023-04-05\n"
     ]
    },
    {
     "name": "stderr",
     "output_type": "stream",
     "text": [
      "'S_epidermidis-c31_0018-C01' is not a valid SBML 'SId'.\n"
     ]
    },
    {
     "name": "stdout",
     "output_type": "stream",
     "text": [
      "1824 compounds in the model S_epidermidis-c31_0018-C01\n",
      "1630 deduplicated compounds in the model S_epidermidis-c31_0018-C01\n",
      "2030 reactions in the model S_epidermidis-c31_0018-C01\n",
      "1875 deduplicated reactions in the model S_epidermidis-c31_0018-C01\n",
      "1137 subsystems in the model S_epidermidis-c31_0018-C01\n"
     ]
    },
    {
     "name": "stderr",
     "output_type": "stream",
     "text": [
      "'S_epidermidis-c6_0017-A03' is not a valid SBML 'SId'.\n"
     ]
    },
    {
     "name": "stdout",
     "output_type": "stream",
     "text": [
      "export metabolic model {stain_name} successfully\n",
      "2023-04-05\n",
      "1817 compounds in the model S_epidermidis-c6_0017-A03\n",
      "1626 deduplicated compounds in the model S_epidermidis-c6_0017-A03\n",
      "2031 reactions in the model S_epidermidis-c6_0017-A03\n",
      "1875 deduplicated reactions in the model S_epidermidis-c6_0017-A03\n",
      "1132 subsystems in the model S_epidermidis-c6_0017-A03\n"
     ]
    },
    {
     "name": "stderr",
     "output_type": "stream",
     "text": [
      "'S_capitis-c14_0023-F05' is not a valid SBML 'SId'.\n"
     ]
    },
    {
     "name": "stdout",
     "output_type": "stream",
     "text": [
      "export metabolic model {stain_name} successfully\n",
      "2023-04-05\n",
      "1800 compounds in the model S_capitis-c14_0023-F05\n",
      "1604 deduplicated compounds in the model S_capitis-c14_0023-F05\n",
      "2019 reactions in the model S_capitis-c14_0023-F05\n",
      "1856 deduplicated reactions in the model S_capitis-c14_0023-F05\n",
      "1118 subsystems in the model S_capitis-c14_0023-F05\n",
      "export metabolic model {stain_name} successfully\n",
      "2023-04-05\n"
     ]
    },
    {
     "name": "stderr",
     "output_type": "stream",
     "text": [
      "'S_hominis-c12_0008-B05' is not a valid SBML 'SId'.\n"
     ]
    },
    {
     "name": "stdout",
     "output_type": "stream",
     "text": [
      "1759 compounds in the model S_hominis-c12_0008-B05\n",
      "1568 deduplicated compounds in the model S_hominis-c12_0008-B05\n",
      "1974 reactions in the model S_hominis-c12_0008-B05\n",
      "1819 deduplicated reactions in the model S_hominis-c12_0008-B05\n",
      "1094 subsystems in the model S_hominis-c12_0008-B05\n",
      "export metabolic model {stain_name} successfully\n",
      "2023-04-05\n"
     ]
    },
    {
     "name": "stderr",
     "output_type": "stream",
     "text": [
      "'S_epidermidis-c44_0028-D01' is not a valid SBML 'SId'.\n"
     ]
    },
    {
     "name": "stdout",
     "output_type": "stream",
     "text": [
      "1826 compounds in the model S_epidermidis-c44_0028-D01\n",
      "1633 deduplicated compounds in the model S_epidermidis-c44_0028-D01\n",
      "2027 reactions in the model S_epidermidis-c44_0028-D01\n",
      "1876 deduplicated reactions in the model S_epidermidis-c44_0028-D01\n",
      "1131 subsystems in the model S_epidermidis-c44_0028-D01\n",
      "export metabolic model {stain_name} successfully\n",
      "2023-04-05\n"
     ]
    },
    {
     "name": "stderr",
     "output_type": "stream",
     "text": [
      "'S_epidermidis-c2_0023-F08' is not a valid SBML 'SId'.\n"
     ]
    },
    {
     "name": "stdout",
     "output_type": "stream",
     "text": [
      "1816 compounds in the model S_epidermidis-c2_0023-F08\n",
      "1625 deduplicated compounds in the model S_epidermidis-c2_0023-F08\n",
      "2019 reactions in the model S_epidermidis-c2_0023-F08\n",
      "1867 deduplicated reactions in the model S_epidermidis-c2_0023-F08\n",
      "1123 subsystems in the model S_epidermidis-c2_0023-F08\n",
      "export metabolic model {stain_name} successfully\n",
      "2023-04-05\n"
     ]
    },
    {
     "name": "stderr",
     "output_type": "stream",
     "text": [
      "'S_capitis-c1_0032-H01' is not a valid SBML 'SId'.\n"
     ]
    },
    {
     "name": "stdout",
     "output_type": "stream",
     "text": [
      "1802 compounds in the model S_capitis-c1_0032-H01\n",
      "1605 deduplicated compounds in the model S_capitis-c1_0032-H01\n",
      "2014 reactions in the model S_capitis-c1_0032-H01\n",
      "1852 deduplicated reactions in the model S_capitis-c1_0032-H01\n",
      "1120 subsystems in the model S_capitis-c1_0032-H01\n"
     ]
    },
    {
     "name": "stderr",
     "output_type": "stream",
     "text": [
      "'S_hominis-c42_0003-G08' is not a valid SBML 'SId'.\n"
     ]
    },
    {
     "name": "stdout",
     "output_type": "stream",
     "text": [
      "export metabolic model {stain_name} successfully\n",
      "2023-04-05\n",
      "1743 compounds in the model S_hominis-c42_0003-G08\n",
      "1553 deduplicated compounds in the model S_hominis-c42_0003-G08\n",
      "1971 reactions in the model S_hominis-c42_0003-G08\n",
      "1816 deduplicated reactions in the model S_hominis-c42_0003-G08\n",
      "1104 subsystems in the model S_hominis-c42_0003-G08\n",
      "export metabolic model {stain_name} successfully\n",
      "2023-04-05\n"
     ]
    },
    {
     "name": "stderr",
     "output_type": "stream",
     "text": [
      "'S_aureus-c9_0029-F10' is not a valid SBML 'SId'.\n"
     ]
    },
    {
     "name": "stdout",
     "output_type": "stream",
     "text": [
      "1880 compounds in the model S_aureus-c9_0029-F10\n",
      "1685 deduplicated compounds in the model S_aureus-c9_0029-F10\n",
      "2113 reactions in the model S_aureus-c9_0029-F10\n",
      "1966 deduplicated reactions in the model S_aureus-c9_0029-F10\n",
      "1154 subsystems in the model S_aureus-c9_0029-F10\n",
      "export metabolic model {stain_name} successfully\n",
      "2023-04-05\n"
     ]
    },
    {
     "name": "stderr",
     "output_type": "stream",
     "text": [
      "'S_capitis-c40_0033-D01' is not a valid SBML 'SId'.\n"
     ]
    },
    {
     "name": "stdout",
     "output_type": "stream",
     "text": [
      "1767 compounds in the model S_capitis-c40_0033-D01\n",
      "1577 deduplicated compounds in the model S_capitis-c40_0033-D01\n",
      "2003 reactions in the model S_capitis-c40_0033-D01\n",
      "1842 deduplicated reactions in the model S_capitis-c40_0033-D01\n",
      "1125 subsystems in the model S_capitis-c40_0033-D01\n",
      "export metabolic model {stain_name} successfully\n",
      "2023-04-05\n"
     ]
    },
    {
     "name": "stderr",
     "output_type": "stream",
     "text": [
      "'S_capitis-c17_0025-C01' is not a valid SBML 'SId'.\n"
     ]
    },
    {
     "name": "stdout",
     "output_type": "stream",
     "text": [
      "1792 compounds in the model S_capitis-c17_0025-C01\n",
      "1597 deduplicated compounds in the model S_capitis-c17_0025-C01\n",
      "1995 reactions in the model S_capitis-c17_0025-C01\n",
      "1840 deduplicated reactions in the model S_capitis-c17_0025-C01\n",
      "1118 subsystems in the model S_capitis-c17_0025-C01\n",
      "export metabolic model {stain_name} successfully\n",
      "2023-04-05\n"
     ]
    },
    {
     "name": "stderr",
     "output_type": "stream",
     "text": [
      "'S_hominis-c35_0027-H01' is not a valid SBML 'SId'.\n"
     ]
    },
    {
     "name": "stdout",
     "output_type": "stream",
     "text": [
      "1781 compounds in the model S_hominis-c35_0027-H01\n",
      "1592 deduplicated compounds in the model S_hominis-c35_0027-H01\n",
      "1985 reactions in the model S_hominis-c35_0027-H01\n",
      "1844 deduplicated reactions in the model S_hominis-c35_0027-H01\n",
      "1093 subsystems in the model S_hominis-c35_0027-H01\n",
      "export metabolic model {stain_name} successfully\n",
      "2023-04-05\n"
     ]
    },
    {
     "name": "stderr",
     "output_type": "stream",
     "text": [
      "'S_capitis-c33_0026-B02' is not a valid SBML 'SId'.\n"
     ]
    },
    {
     "name": "stdout",
     "output_type": "stream",
     "text": [
      "1740 compounds in the model S_capitis-c33_0026-B02\n",
      "1544 deduplicated compounds in the model S_capitis-c33_0026-B02\n",
      "1908 reactions in the model S_capitis-c33_0026-B02\n",
      "1753 deduplicated reactions in the model S_capitis-c33_0026-B02\n",
      "1093 subsystems in the model S_capitis-c33_0026-B02\n",
      "export metabolic model {stain_name} successfully\n",
      "2023-04-05\n"
     ]
    },
    {
     "name": "stderr",
     "output_type": "stream",
     "text": [
      "'S_epidermidis-c15_0019-A02' is not a valid SBML 'SId'.\n"
     ]
    },
    {
     "name": "stdout",
     "output_type": "stream",
     "text": [
      "1779 compounds in the model S_epidermidis-c15_0019-A02\n",
      "1589 deduplicated compounds in the model S_epidermidis-c15_0019-A02\n",
      "1967 reactions in the model S_epidermidis-c15_0019-A02\n",
      "1822 deduplicated reactions in the model S_epidermidis-c15_0019-A02\n",
      "1113 subsystems in the model S_epidermidis-c15_0019-A02\n",
      "export metabolic model {stain_name} successfully\n",
      "2023-04-05\n"
     ]
    },
    {
     "name": "stderr",
     "output_type": "stream",
     "text": [
      "'S_hominis-c32_0023-F06' is not a valid SBML 'SId'.\n"
     ]
    },
    {
     "name": "stdout",
     "output_type": "stream",
     "text": [
      "1737 compounds in the model S_hominis-c32_0023-F06\n",
      "1552 deduplicated compounds in the model S_hominis-c32_0023-F06\n",
      "1934 reactions in the model S_hominis-c32_0023-F06\n",
      "1797 deduplicated reactions in the model S_hominis-c32_0023-F06\n",
      "1103 subsystems in the model S_hominis-c32_0023-F06\n",
      "export metabolic model {stain_name} successfully\n",
      "2023-04-05\n"
     ]
    },
    {
     "name": "stderr",
     "output_type": "stream",
     "text": [
      "'S_capitis-c7_0001-D01' is not a valid SBML 'SId'.\n"
     ]
    },
    {
     "name": "stdout",
     "output_type": "stream",
     "text": [
      "1802 compounds in the model S_capitis-c7_0001-D01\n",
      "1605 deduplicated compounds in the model S_capitis-c7_0001-D01\n",
      "2018 reactions in the model S_capitis-c7_0001-D01\n",
      "1860 deduplicated reactions in the model S_capitis-c7_0001-D01\n",
      "1118 subsystems in the model S_capitis-c7_0001-D01\n",
      "export metabolic model {stain_name} successfully\n",
      "2023-04-05\n"
     ]
    },
    {
     "name": "stderr",
     "output_type": "stream",
     "text": [
      "'S_hominis-c34_166' is not a valid SBML 'SId'.\n"
     ]
    },
    {
     "name": "stdout",
     "output_type": "stream",
     "text": [
      "1755 compounds in the model S_hominis-c34_166\n",
      "1567 deduplicated compounds in the model S_hominis-c34_166\n",
      "1963 reactions in the model S_hominis-c34_166\n",
      "1810 deduplicated reactions in the model S_hominis-c34_166\n",
      "1106 subsystems in the model S_hominis-c34_166\n",
      "export metabolic model {stain_name} successfully\n",
      "2023-04-05\n"
     ]
    },
    {
     "name": "stderr",
     "output_type": "stream",
     "text": [
      "'S_lugdunensis-c5_0024-A01' is not a valid SBML 'SId'.\n"
     ]
    },
    {
     "name": "stdout",
     "output_type": "stream",
     "text": [
      "1764 compounds in the model S_lugdunensis-c5_0024-A01\n",
      "1563 deduplicated compounds in the model S_lugdunensis-c5_0024-A01\n",
      "1997 reactions in the model S_lugdunensis-c5_0024-A01\n",
      "1834 deduplicated reactions in the model S_lugdunensis-c5_0024-A01\n",
      "1113 subsystems in the model S_lugdunensis-c5_0024-A01\n",
      "export metabolic model {stain_name} successfully\n",
      "2023-04-05\n"
     ]
    },
    {
     "name": "stderr",
     "output_type": "stream",
     "text": [
      "'S_capitis-c43_0027-F06' is not a valid SBML 'SId'.\n"
     ]
    },
    {
     "name": "stdout",
     "output_type": "stream",
     "text": [
      "1798 compounds in the model S_capitis-c43_0027-F06\n",
      "1605 deduplicated compounds in the model S_capitis-c43_0027-F06\n",
      "2035 reactions in the model S_capitis-c43_0027-F06\n",
      "1878 deduplicated reactions in the model S_capitis-c43_0027-F06\n",
      "1117 subsystems in the model S_capitis-c43_0027-F06\n",
      "export metabolic model {stain_name} successfully\n",
      "2023-04-05\n"
     ]
    },
    {
     "name": "stderr",
     "output_type": "stream",
     "text": [
      "'S_epidermidis-c18_0019-B06' is not a valid SBML 'SId'.\n"
     ]
    },
    {
     "name": "stdout",
     "output_type": "stream",
     "text": [
      "1816 compounds in the model S_epidermidis-c18_0019-B06\n",
      "1623 deduplicated compounds in the model S_epidermidis-c18_0019-B06\n",
      "2028 reactions in the model S_epidermidis-c18_0019-B06\n",
      "1874 deduplicated reactions in the model S_epidermidis-c18_0019-B06\n",
      "1130 subsystems in the model S_epidermidis-c18_0019-B06\n",
      "export metabolic model {stain_name} successfully\n",
      "2023-04-05\n"
     ]
    },
    {
     "name": "stderr",
     "output_type": "stream",
     "text": [
      "'S_epidermidis-c41_0017-D09' is not a valid SBML 'SId'.\n"
     ]
    },
    {
     "name": "stdout",
     "output_type": "stream",
     "text": [
      "1814 compounds in the model S_epidermidis-c41_0017-D09\n",
      "1621 deduplicated compounds in the model S_epidermidis-c41_0017-D09\n",
      "2027 reactions in the model S_epidermidis-c41_0017-D09\n",
      "1874 deduplicated reactions in the model S_epidermidis-c41_0017-D09\n",
      "1128 subsystems in the model S_epidermidis-c41_0017-D09\n"
     ]
    },
    {
     "name": "stderr",
     "output_type": "stream",
     "text": [
      "'S_epidermidis-c42_0020-D06' is not a valid SBML 'SId'.\n"
     ]
    },
    {
     "name": "stdout",
     "output_type": "stream",
     "text": [
      "export metabolic model {stain_name} successfully\n",
      "2023-04-05\n",
      "1815 compounds in the model S_epidermidis-c42_0020-D06\n",
      "1622 deduplicated compounds in the model S_epidermidis-c42_0020-D06\n",
      "2009 reactions in the model S_epidermidis-c42_0020-D06\n",
      "1858 deduplicated reactions in the model S_epidermidis-c42_0020-D06\n",
      "1129 subsystems in the model S_epidermidis-c42_0020-D06\n",
      "export metabolic model {stain_name} successfully\n",
      "2023-04-05\n"
     ]
    },
    {
     "name": "stderr",
     "output_type": "stream",
     "text": [
      "'S_aureus-c2_0007-C03' is not a valid SBML 'SId'.\n"
     ]
    },
    {
     "name": "stdout",
     "output_type": "stream",
     "text": [
      "1894 compounds in the model S_aureus-c2_0007-C03\n",
      "1699 deduplicated compounds in the model S_aureus-c2_0007-C03\n",
      "2123 reactions in the model S_aureus-c2_0007-C03\n",
      "1976 deduplicated reactions in the model S_aureus-c2_0007-C03\n",
      "1158 subsystems in the model S_aureus-c2_0007-C03\n",
      "export metabolic model {stain_name} successfully\n",
      "2023-04-05\n"
     ]
    },
    {
     "name": "stderr",
     "output_type": "stream",
     "text": [
      "'S_capitis-c37_0017-A01' is not a valid SBML 'SId'.\n"
     ]
    },
    {
     "name": "stdout",
     "output_type": "stream",
     "text": [
      "1745 compounds in the model S_capitis-c37_0017-A01\n",
      "1558 deduplicated compounds in the model S_capitis-c37_0017-A01\n",
      "1977 reactions in the model S_capitis-c37_0017-A01\n",
      "1825 deduplicated reactions in the model S_capitis-c37_0017-A01\n",
      "1115 subsystems in the model S_capitis-c37_0017-A01\n",
      "export metabolic model {stain_name} successfully\n",
      "2023-04-05\n"
     ]
    },
    {
     "name": "stderr",
     "output_type": "stream",
     "text": [
      "'S_hominis-c17_0020-C05' is not a valid SBML 'SId'.\n"
     ]
    },
    {
     "name": "stdout",
     "output_type": "stream",
     "text": [
      "1734 compounds in the model S_hominis-c17_0020-C05\n",
      "1545 deduplicated compounds in the model S_hominis-c17_0020-C05\n",
      "1952 reactions in the model S_hominis-c17_0020-C05\n",
      "1801 deduplicated reactions in the model S_hominis-c17_0020-C05\n",
      "1097 subsystems in the model S_hominis-c17_0020-C05\n",
      "export metabolic model {stain_name} successfully\n",
      "2023-04-05\n"
     ]
    },
    {
     "name": "stderr",
     "output_type": "stream",
     "text": [
      "'S_aureus-c10_0001-E01' is not a valid SBML 'SId'.\n"
     ]
    },
    {
     "name": "stdout",
     "output_type": "stream",
     "text": [
      "1551 compounds in the model S_aureus-c10_0001-E01\n",
      "1369 deduplicated compounds in the model S_aureus-c10_0001-E01\n",
      "1640 reactions in the model S_aureus-c10_0001-E01\n",
      "1512 deduplicated reactions in the model S_aureus-c10_0001-E01\n",
      "986 subsystems in the model S_aureus-c10_0001-E01\n",
      "export metabolic model {stain_name} successfully\n",
      "2023-04-05\n"
     ]
    },
    {
     "name": "stderr",
     "output_type": "stream",
     "text": [
      "'S_hominis-c24_165' is not a valid SBML 'SId'.\n"
     ]
    },
    {
     "name": "stdout",
     "output_type": "stream",
     "text": [
      "1769 compounds in the model S_hominis-c24_165\n",
      "1579 deduplicated compounds in the model S_hominis-c24_165\n",
      "1979 reactions in the model S_hominis-c24_165\n",
      "1834 deduplicated reactions in the model S_hominis-c24_165\n",
      "1100 subsystems in the model S_hominis-c24_165\n",
      "export metabolic model {stain_name} successfully\n",
      "2023-04-05\n"
     ]
    },
    {
     "name": "stderr",
     "output_type": "stream",
     "text": [
      "'S_hominis-c39_0023-A02' is not a valid SBML 'SId'.\n"
     ]
    },
    {
     "name": "stdout",
     "output_type": "stream",
     "text": [
      "1717 compounds in the model S_hominis-c39_0023-A02\n",
      "1528 deduplicated compounds in the model S_hominis-c39_0023-A02\n",
      "1921 reactions in the model S_hominis-c39_0023-A02\n",
      "1772 deduplicated reactions in the model S_hominis-c39_0023-A02\n",
      "1096 subsystems in the model S_hominis-c39_0023-A02\n"
     ]
    },
    {
     "name": "stderr",
     "output_type": "stream",
     "text": [
      "'S_capitis-c11_0025-C10' is not a valid SBML 'SId'.\n"
     ]
    },
    {
     "name": "stdout",
     "output_type": "stream",
     "text": [
      "export metabolic model {stain_name} successfully\n",
      "2023-04-05\n",
      "1797 compounds in the model S_capitis-c11_0025-C10\n",
      "1600 deduplicated compounds in the model S_capitis-c11_0025-C10\n",
      "2009 reactions in the model S_capitis-c11_0025-C10\n",
      "1850 deduplicated reactions in the model S_capitis-c11_0025-C10\n",
      "1118 subsystems in the model S_capitis-c11_0025-C10\n"
     ]
    },
    {
     "name": "stderr",
     "output_type": "stream",
     "text": [
      "'S_hominis-c40_0022-H05' is not a valid SBML 'SId'.\n"
     ]
    },
    {
     "name": "stdout",
     "output_type": "stream",
     "text": [
      "export metabolic model {stain_name} successfully\n",
      "2023-04-05\n",
      "1784 compounds in the model S_hominis-c40_0022-H05\n",
      "1593 deduplicated compounds in the model S_hominis-c40_0022-H05\n",
      "1976 reactions in the model S_hominis-c40_0022-H05\n",
      "1830 deduplicated reactions in the model S_hominis-c40_0022-H05\n",
      "1114 subsystems in the model S_hominis-c40_0022-H05\n",
      "export metabolic model {stain_name} successfully\n",
      "2023-04-05\n"
     ]
    },
    {
     "name": "stderr",
     "output_type": "stream",
     "text": [
      "'S_epidermidis-c13_0011-A01' is not a valid SBML 'SId'.\n"
     ]
    },
    {
     "name": "stdout",
     "output_type": "stream",
     "text": [
      "1813 compounds in the model S_epidermidis-c13_0011-A01\n",
      "1619 deduplicated compounds in the model S_epidermidis-c13_0011-A01\n",
      "2016 reactions in the model S_epidermidis-c13_0011-A01\n",
      "1868 deduplicated reactions in the model S_epidermidis-c13_0011-A01\n",
      "1132 subsystems in the model S_epidermidis-c13_0011-A01\n",
      "export metabolic model {stain_name} successfully\n",
      "2023-04-05\n"
     ]
    },
    {
     "name": "stderr",
     "output_type": "stream",
     "text": [
      "'S_capitis-c49_016-G02' is not a valid SBML 'SId'.\n"
     ]
    },
    {
     "name": "stdout",
     "output_type": "stream",
     "text": [
      "1763 compounds in the model S_capitis-c49_016-G02\n",
      "1573 deduplicated compounds in the model S_capitis-c49_016-G02\n",
      "2002 reactions in the model S_capitis-c49_016-G02\n",
      "1840 deduplicated reactions in the model S_capitis-c49_016-G02\n",
      "1117 subsystems in the model S_capitis-c49_016-G02\n",
      "export metabolic model {stain_name} successfully\n",
      "2023-04-05\n"
     ]
    },
    {
     "name": "stderr",
     "output_type": "stream",
     "text": [
      "'S_capitis-c36_016-D01' is not a valid SBML 'SId'.\n"
     ]
    },
    {
     "name": "stdout",
     "output_type": "stream",
     "text": [
      "1781 compounds in the model S_capitis-c36_016-D01\n",
      "1589 deduplicated compounds in the model S_capitis-c36_016-D01\n",
      "1979 reactions in the model S_capitis-c36_016-D01\n",
      "1828 deduplicated reactions in the model S_capitis-c36_016-D01\n",
      "1114 subsystems in the model S_capitis-c36_016-D01\n",
      "export metabolic model {stain_name} successfully\n",
      "2023-04-05\n"
     ]
    },
    {
     "name": "stderr",
     "output_type": "stream",
     "text": [
      "'S_hominis-c18_013-G02' is not a valid SBML 'SId'.\n"
     ]
    },
    {
     "name": "stdout",
     "output_type": "stream",
     "text": [
      "1763 compounds in the model S_hominis-c18_013-G02\n",
      "1572 deduplicated compounds in the model S_hominis-c18_013-G02\n",
      "1973 reactions in the model S_hominis-c18_013-G02\n",
      "1823 deduplicated reactions in the model S_hominis-c18_013-G02\n",
      "1097 subsystems in the model S_hominis-c18_013-G02\n"
     ]
    },
    {
     "name": "stderr",
     "output_type": "stream",
     "text": [
      "'S_epidermidis-c8_0020-B01' is not a valid SBML 'SId'.\n"
     ]
    },
    {
     "name": "stdout",
     "output_type": "stream",
     "text": [
      "export metabolic model {stain_name} successfully\n",
      "2023-04-05\n",
      "1816 compounds in the model S_epidermidis-c8_0020-B01\n",
      "1624 deduplicated compounds in the model S_epidermidis-c8_0020-B01\n",
      "2024 reactions in the model S_epidermidis-c8_0020-B01\n",
      "1873 deduplicated reactions in the model S_epidermidis-c8_0020-B01\n",
      "1132 subsystems in the model S_epidermidis-c8_0020-B01\n",
      "export metabolic model {stain_name} successfully\n",
      "2023-04-05\n"
     ]
    },
    {
     "name": "stderr",
     "output_type": "stream",
     "text": [
      "'S_hominis-c22_138' is not a valid SBML 'SId'.\n"
     ]
    },
    {
     "name": "stdout",
     "output_type": "stream",
     "text": [
      "1767 compounds in the model S_hominis-c22_138\n",
      "1578 deduplicated compounds in the model S_hominis-c22_138\n",
      "1978 reactions in the model S_hominis-c22_138\n",
      "1835 deduplicated reactions in the model S_hominis-c22_138\n",
      "1089 subsystems in the model S_hominis-c22_138\n",
      "export metabolic model {stain_name} successfully\n",
      "2023-04-05\n"
     ]
    },
    {
     "name": "stderr",
     "output_type": "stream",
     "text": [
      "'S_hominis-c49_0021-H06' is not a valid SBML 'SId'.\n"
     ]
    },
    {
     "name": "stdout",
     "output_type": "stream",
     "text": [
      "1784 compounds in the model S_hominis-c49_0021-H06\n",
      "1591 deduplicated compounds in the model S_hominis-c49_0021-H06\n",
      "1984 reactions in the model S_hominis-c49_0021-H06\n",
      "1832 deduplicated reactions in the model S_hominis-c49_0021-H06\n",
      "1103 subsystems in the model S_hominis-c49_0021-H06\n",
      "export metabolic model {stain_name} successfully\n",
      "2023-04-05\n"
     ]
    },
    {
     "name": "stderr",
     "output_type": "stream",
     "text": [
      "'S_epidermidis-c7_0025-E03' is not a valid SBML 'SId'.\n"
     ]
    },
    {
     "name": "stdout",
     "output_type": "stream",
     "text": [
      "1805 compounds in the model S_epidermidis-c7_0025-E03\n",
      "1614 deduplicated compounds in the model S_epidermidis-c7_0025-E03\n",
      "2015 reactions in the model S_epidermidis-c7_0025-E03\n",
      "1866 deduplicated reactions in the model S_epidermidis-c7_0025-E03\n",
      "1131 subsystems in the model S_epidermidis-c7_0025-E03\n",
      "export metabolic model {stain_name} successfully\n",
      "2023-04-05\n"
     ]
    },
    {
     "name": "stderr",
     "output_type": "stream",
     "text": [
      "'S_epidermidis-c24_0022-A07' is not a valid SBML 'SId'.\n"
     ]
    },
    {
     "name": "stdout",
     "output_type": "stream",
     "text": [
      "1809 compounds in the model S_epidermidis-c24_0022-A07\n",
      "1615 deduplicated compounds in the model S_epidermidis-c24_0022-A07\n",
      "2030 reactions in the model S_epidermidis-c24_0022-A07\n",
      "1875 deduplicated reactions in the model S_epidermidis-c24_0022-A07\n",
      "1129 subsystems in the model S_epidermidis-c24_0022-A07\n",
      "export metabolic model {stain_name} successfully\n",
      "2023-04-05\n"
     ]
    },
    {
     "name": "stderr",
     "output_type": "stream",
     "text": [
      "'S_hominis-c5_0035-H06' is not a valid SBML 'SId'.\n"
     ]
    },
    {
     "name": "stdout",
     "output_type": "stream",
     "text": [
      "1738 compounds in the model S_hominis-c5_0035-H06\n",
      "1549 deduplicated compounds in the model S_hominis-c5_0035-H06\n",
      "1948 reactions in the model S_hominis-c5_0035-H06\n",
      "1796 deduplicated reactions in the model S_hominis-c5_0035-H06\n",
      "1107 subsystems in the model S_hominis-c5_0035-H06\n",
      "export metabolic model {stain_name} successfully\n",
      "2023-04-05\n"
     ]
    },
    {
     "name": "stderr",
     "output_type": "stream",
     "text": [
      "'S_hominis-c9_014-F03' is not a valid SBML 'SId'.\n"
     ]
    },
    {
     "name": "stdout",
     "output_type": "stream",
     "text": [
      "1776 compounds in the model S_hominis-c9_014-F03\n",
      "1585 deduplicated compounds in the model S_hominis-c9_014-F03\n",
      "1982 reactions in the model S_hominis-c9_014-F03\n",
      "1829 deduplicated reactions in the model S_hominis-c9_014-F03\n",
      "1098 subsystems in the model S_hominis-c9_014-F03\n",
      "export metabolic model {stain_name} successfully\n",
      "2023-04-05\n"
     ]
    },
    {
     "name": "stderr",
     "output_type": "stream",
     "text": [
      "'S_hominis-c16_016-C08' is not a valid SBML 'SId'.\n"
     ]
    },
    {
     "name": "stdout",
     "output_type": "stream",
     "text": [
      "1778 compounds in the model S_hominis-c16_016-C08\n",
      "1586 deduplicated compounds in the model S_hominis-c16_016-C08\n",
      "1980 reactions in the model S_hominis-c16_016-C08\n",
      "1823 deduplicated reactions in the model S_hominis-c16_016-C08\n",
      "1101 subsystems in the model S_hominis-c16_016-C08\n",
      "export metabolic model {stain_name} successfully\n",
      "2023-04-05\n"
     ]
    },
    {
     "name": "stderr",
     "output_type": "stream",
     "text": [
      "'S_capitis-c3_0009-D01' is not a valid SBML 'SId'.\n"
     ]
    },
    {
     "name": "stdout",
     "output_type": "stream",
     "text": [
      "1799 compounds in the model S_capitis-c3_0009-D01\n",
      "1601 deduplicated compounds in the model S_capitis-c3_0009-D01\n",
      "2017 reactions in the model S_capitis-c3_0009-D01\n",
      "1854 deduplicated reactions in the model S_capitis-c3_0009-D01\n",
      "1116 subsystems in the model S_capitis-c3_0009-D01\n",
      "export metabolic model {stain_name} successfully\n",
      "2023-04-05\n"
     ]
    },
    {
     "name": "stderr",
     "output_type": "stream",
     "text": [
      "'S_aureus-c5_0009-B05' is not a valid SBML 'SId'.\n"
     ]
    },
    {
     "name": "stdout",
     "output_type": "stream",
     "text": [
      "1863 compounds in the model S_aureus-c5_0009-B05\n",
      "1668 deduplicated compounds in the model S_aureus-c5_0009-B05\n",
      "2041 reactions in the model S_aureus-c5_0009-B05\n",
      "1895 deduplicated reactions in the model S_aureus-c5_0009-B05\n",
      "1137 subsystems in the model S_aureus-c5_0009-B05\n"
     ]
    }
   ],
   "source": [
    "# Batch run\n",
    "local_path = '../input/output_gapseq/faa_files_157_subdividing/gap_filled_xml_wt_draft/'\n",
    "output_fdr = '../output/gapSeq_Jsons_faa_files_157/'\n",
    "file_names = [x for x in os.listdir(local_path) if \".xml\"in x]\n",
    "strainIDs = [x.replace(\".xml\",\"\") for x in file_names]\n",
    "\n",
    "for file_name in file_names:\n",
    "    strain_name = file_name.replace(\".xml\",\"\")\n",
    "    export_metabolic_model(local_path, file_name, output_fdr, strain_name)"
   ]
  },
  {
   "cell_type": "markdown",
   "metadata": {},
   "source": [
    "## Summary\n",
    "\n",
    "This ports reactions, pathways and compounds. Gene and enzyme information is now included. \n",
    "\n",
    "The exported pickle can be re-imported and uploaded to Database easily.\n",
    "\n",
    "This notebook, the pickle file and the JSON file go to GitHub repo (https://github.com/shuzhao-li/Azimuth)."
   ]
  }
 ],
 "metadata": {
  "kernelspec": {
   "display_name": "Python 3 (ipykernel)",
   "language": "python",
   "name": "python3"
  },
  "language_info": {
   "codemirror_mode": {
    "name": "ipython",
    "version": 3
   },
   "file_extension": ".py",
   "mimetype": "text/x-python",
   "name": "python",
   "nbconvert_exporter": "python",
   "pygments_lexer": "ipython3",
   "version": "3.9.10"
  },
  "metadata": {
   "interpreter": {
    "hash": "aee8b7b246df8f9039afb4144a1f6fd8d2ca17a180786b69acc140d282b71a49"
   }
  }
 },
 "nbformat": 4,
 "nbformat_minor": 2
}
