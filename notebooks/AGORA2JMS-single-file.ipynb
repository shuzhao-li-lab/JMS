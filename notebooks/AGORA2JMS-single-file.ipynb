{
 "cells": [
  {
   "cell_type": "markdown",
   "metadata": {},
   "source": [
    "## Porting genome scale metabolic models for metabolomics (AGORA)\n",
    "\n",
    "- to make formats compatible to mummichog\n",
    "- to link to a common compound table\n",
    "- from compound table, we generated predicted mass peaks based on formula\n",
    "\n",
    "As mummichog 3 is under development, treat this as part of development.\n",
    "\n",
    "*Use cobra to parse SBML models whereas applicable*\n",
    "\n",
    "Not all models comply with the formats in cobra. Models from USCD and Thiele labs should comply.\n",
    "\n",
    "*Base our code on metDataModel*\n",
    "\n",
    "Each model needs a list of Reactions, a list of Pathways, and a list of Compounds. It's important to include Compounds with all linked identifiers to other DBs (HMDB, PubChem, etc), and with formulae (usually charged form in these models) when available. We can always update the data later. E.g. the neural formulae can be retrieved from HMDB if linked. Save in Python pickle and in JSON.\n",
    "\n",
    "Minghao Gong, 2022-04-21; Georgi Kolishovski, 2021-05-12"
   ]
  },
  {
   "cell_type": "code",
   "execution_count": 1,
   "metadata": {
    "scrolled": true
   },
   "outputs": [],
   "source": [
    "# !pip install cobra\n",
    "# !pip install --upgrade metDataModel"
   ]
  },
  {
   "cell_type": "code",
   "execution_count": 2,
   "metadata": {},
   "outputs": [],
   "source": [
    "# https://cobrapy.readthedocs.io/en/latest/io.html#SBML\n",
    "import cobra\n",
    "from metDataModel.core import Compound, Reaction, Pathway, MetabolicModel\n",
    "import sys\n",
    "import os\n",
    "sys.path.append(\"/Users/gongm/Documents/projects/JMS/JMS/JMS\")\n",
    "sys.path.append(\"/Users/gongm/Documents/projects/mass2chem/\")\n",
    "from jms.formula import *\n",
    "from mass2chem.formula import *\n",
    "from jms.utils.gems import *\n",
    "from jms.utils import git_download\n",
    "from datetime import datetime\n",
    "today =  str(datetime.today()).split(\" \")[0]"
   ]
  },
  {
   "cell_type": "markdown",
   "metadata": {},
   "source": [
    "# Parse the model of Escherichia_albertii_KF1"
   ]
  },
  {
   "cell_type": "code",
   "execution_count": 3,
   "metadata": {},
   "outputs": [
    {
     "data": {
      "text/plain": [
       "'Escherichia_albertii_KF1'"
      ]
     },
     "execution_count": 3,
     "metadata": {},
     "output_type": "execute_result"
    }
   ],
   "source": [
    "url = \"https://github.com/VirtualMetabolicHuman/AGORA/blob/master/CurrentVersion/AGORA_1_03/AGORA_1_03_With_Mucins_sbml/Escherichia_albertii_KF1.xml\"\n",
    "os.path.splitext(url.split('/')[-1])[0]"
   ]
  },
  {
   "cell_type": "code",
   "execution_count": 4,
   "metadata": {},
   "outputs": [
    {
     "name": "stdout",
     "output_type": "stream",
     "text": [
      "Scaling...\n",
      " A: min|aij| =  1.000e+00  max|aij| =  1.000e+00  ratio =  1.000e+00\n",
      "Problem data seem to be well scaled\n"
     ]
    }
   ],
   "source": [
    "input_fdr = local_output_dir = \"../test/input/test_output/\"\n",
    "output_fdr = \"../test/input/test_output/\"\n",
    "file_name = url.split('/')[-1]\n",
    "model_name = os.path.splitext(file_name)[0]\n",
    "\n",
    "git_download.git_download_from_file(url = url,local_output_dir = local_output_dir,file_name = file_name)\n",
    "model = cobra.io.read_sbml_model(os.path.join(local_output_dir,file_name))"
   ]
  },
  {
   "cell_type": "code",
   "execution_count": 5,
   "metadata": {
    "scrolled": true
   },
   "outputs": [],
   "source": [
    "model.name = model_name"
   ]
  },
  {
   "cell_type": "markdown",
   "metadata": {},
   "source": [
    "## Note and metadata data for the model"
   ]
  },
  {
   "cell_type": "code",
   "execution_count": 6,
   "metadata": {},
   "outputs": [],
   "source": [
    "note = f'AGORA cloned from https://github.com/VirtualMetabolicHuman, retrieved from {today}\\ .'\n",
    "\n",
    "meta_data = {\n",
    "            'species': model.name,\n",
    "            'version': url.split('/')[-2], # \n",
    "            'sources': ['https://github.com/VirtualMetabolicHuman, retrieved {today}'],\n",
    "            'status': '',\n",
    "            'last_update': '20210512',\n",
    "            'note': note,\n",
    "        }"
   ]
  },
  {
   "cell_type": "code",
   "execution_count": 7,
   "metadata": {},
   "outputs": [
    {
     "data": {
      "text/plain": [
       "{'species': 'Escherichia_albertii_KF1',\n",
       " 'version': 'AGORA_1_03_With_Mucins_sbml',\n",
       " 'sources': ['https://github.com/VirtualMetabolicHuman, retrieved {today}'],\n",
       " 'status': '',\n",
       " 'last_update': '20210512',\n",
       " 'note': 'AGORA cloned from https://github.com/VirtualMetabolicHuman, retrieved from 2022-04-27\\\\ .'}"
      ]
     },
     "execution_count": 7,
     "metadata": {},
     "output_type": "execute_result"
    }
   ],
   "source": [
    "meta_data"
   ]
  },
  {
   "cell_type": "code",
   "execution_count": 8,
   "metadata": {
    "scrolled": true
   },
   "outputs": [
    {
     "data": {
      "text/html": [
       "\n",
       "        <table>\n",
       "            <tr>\n",
       "                <td><strong>Reaction identifier</strong></td><td>3HAD14M16</td>\n",
       "            </tr><tr>\n",
       "                <td><strong>Name</strong></td><td>14-methyl-3-hydroxy-hexa-decanoyl-ACP hydro-lyase</td>\n",
       "            </tr><tr>\n",
       "                <td><strong>Memory address</strong></td>\n",
       "                <td>0x07fe3986d4c10</td>\n",
       "            </tr><tr>\n",
       "                <td><strong>Stoichiometry</strong></td>\n",
       "                <td>\n",
       "                    <p style='text-align:right'>14m3hpalmACP[c] --> 14mtpalm2eACP[c] + h2o[c]</p>\n",
       "                    <p style='text-align:right'>14-methyl-3-hydroxy-hexa-decanoyl-ACP --> 14-methyl-trans-hexa-dec-2-enoyl-ACP + Water</p>\n",
       "                </td>\n",
       "            </tr><tr>\n",
       "                <td><strong>GPR</strong></td><td>g.214925.CDS.1408</td>\n",
       "            </tr><tr>\n",
       "                <td><strong>Lower bound</strong></td><td>0.0</td>\n",
       "            </tr><tr>\n",
       "                <td><strong>Upper bound</strong></td><td>1000.0</td>\n",
       "            </tr>\n",
       "        </table>\n",
       "        "
      ],
      "text/plain": [
       "<Reaction 3HAD14M16 at 0x7fe3986d4c10>"
      ]
     },
     "execution_count": 8,
     "metadata": {},
     "output_type": "execute_result"
    }
   ],
   "source": [
    "model.reactions[33]"
   ]
  },
  {
   "cell_type": "code",
   "execution_count": 9,
   "metadata": {},
   "outputs": [
    {
     "data": {
      "text/html": [
       "\n",
       "        <table>\n",
       "            <tr>\n",
       "                <td><strong>Metabolite identifier</strong></td><td>12mtmrs2eACP[c]</td>\n",
       "            </tr><tr>\n",
       "                <td><strong>Name</strong></td><td>12-methyl-trans-tetra-dec-2-enoyl-ACP</td>\n",
       "            </tr><tr>\n",
       "                <td><strong>Memory address</strong></td>\n",
       "                <td>0x07fe3b82f4580</td>\n",
       "            </tr><tr>\n",
       "                <td><strong>Formula</strong></td><td>C26H47N2O8PRS</td>\n",
       "            </tr><tr>\n",
       "                <td><strong>Compartment</strong></td><td>c</td>\n",
       "            </tr><tr>\n",
       "                <td><strong>In 2 reaction(s)</strong></td><td>\n",
       "                    EAR12M14x, 3HAD12M14</td>\n",
       "            </tr>\n",
       "        </table>"
      ],
      "text/plain": [
       "<Metabolite 12mtmrs2eACP[c] at 0x7fe3b82f4580>"
      ]
     },
     "execution_count": 9,
     "metadata": {},
     "output_type": "execute_result"
    }
   ],
   "source": [
    "model.metabolites[33]"
   ]
  },
  {
   "cell_type": "code",
   "execution_count": 10,
   "metadata": {
    "scrolled": true
   },
   "outputs": [
    {
     "data": {
      "text/plain": [
       "({'ChEBIID', 'InChIString', 'PubChemID'},\n",
       " {'ChEBIID': '17815',\n",
       "  'InChIString': '1/C3H8O10P2/c4-2(1-12-14(6,7)8)3(5)13-15(9,10)11/h2,4H,1H2,(H2,6,7,8)(H2,9,10,11)/t2-/m1/s1/f/h6-7,9-10H',\n",
       "  'PubChemID': 'C02737'})"
      ]
     },
     "execution_count": 10,
     "metadata": {},
     "output_type": "execute_result"
    }
   ],
   "source": [
    "list_all_identifiers(model,'notes')"
   ]
  },
  {
   "cell_type": "code",
   "execution_count": 11,
   "metadata": {},
   "outputs": [
    {
     "data": {
      "text/plain": [
       "'12mtmrs2eACP'"
      ]
     },
     "execution_count": 11,
     "metadata": {},
     "output_type": "execute_result"
    }
   ],
   "source": [
    "def port_metabolite(M):\n",
    "    # convert cobra Metabolite to metDataModel Compound\n",
    "    Cpd = Compound()\n",
    "    Cpd.src_id = remove_compartment_by_split(M.id,'[') # remove the [c] from eg h2o[c]\n",
    "    Cpd.id = remove_compartment_by_split(M.id,'[') # remove the [c] from eg h2o[c]\n",
    "    Cpd.name = M.name\n",
    "    Cpd.charge = M.charge\n",
    "    Cpd.charged_formula = M.formula\n",
    "    Cpd.neutral_formula = adjust_charge_in_formula(M.formula,M.charge)\n",
    "    Cpd.neutral_mono_mass = neutral_formula2mass(Cpd.neutral_formula)\n",
    "    Cpd.db_ids = list(M.notes.items())\n",
    "    mydict = M.notes   # other databaseIDs  are in the notes tag\n",
    "    Cpd.SMILES= mydict.get(\"SMILES\",None) # not know if this is useful or not\n",
    "    Cpd.inchi= mydict.get(\"InChIString\",None)\n",
    "    return Cpd\n",
    "\n",
    "port_metabolite(model.metabolites[33]).id"
   ]
  },
  {
   "cell_type": "code",
   "execution_count": 12,
   "metadata": {},
   "outputs": [],
   "source": [
    "# def fetch_AGORA_GEM_identifiers(compound_list,\n",
    "#                                 json_path = json_path,\n",
    "#                                 overwrite = True):\n",
    "#     with open(json_path,'r') as f:\n",
    "#         list_vmh_cpd = json.load(f)\n",
    "#     vmh_dict = {}\n",
    "#     for vmh_cpd in list_vmh_cpd:\n",
    "#         vmh_dict.update({vmh_cpd['id']:vmh_cpd})\n",
    "#     new_cpd_list = []\n",
    "#     for myCpd in compound_list:\n",
    "#         for k,v in vmh_dict.items():\n",
    "#             if myCpd.id == k:\n",
    "#                 if overwrite == True:\n",
    "#                     myCpd.db_ids = v['identifiers'] # the vmh json is using `identifiers` rather than `db_ids`\n",
    "#                 break\n",
    "#         new_cpd_list.append(myCpd)\n",
    "#     return new_cpd_list"
   ]
  },
  {
   "cell_type": "code",
   "execution_count": 13,
   "metadata": {},
   "outputs": [],
   "source": [
    "# port reactions\n",
    "def port_reaction(R):\n",
    "    new = Reaction()\n",
    "    new.id = R.id\n",
    "    new.reactants = [remove_compartment_by_split(m.id,'[') for m in R.reactants] \n",
    "    new.products = [remove_compartment_by_split(m.id,'[') for m in R.products] \n",
    "    return new"
   ]
  },
  {
   "cell_type": "code",
   "execution_count": 14,
   "metadata": {},
   "outputs": [],
   "source": [
    "# pathways, using group as pathway from AGORA. Other models may use subsystem etc.\n",
    "\n",
    "def port_pathway(P):\n",
    "    new = Pathway()\n",
    "    new.id = P.id\n",
    "    new.source = ['AGORA',]\n",
    "    new.name = P.name\n",
    "    new.list_of_reactions = [x.id for x in P.members]\n",
    "    return new\n"
   ]
  },
  {
   "cell_type": "markdown",
   "metadata": {},
   "source": [
    "# Run the function"
   ]
  },
  {
   "cell_type": "code",
   "execution_count": 15,
   "metadata": {
    "scrolled": true
   },
   "outputs": [
    {
     "name": "stdout",
     "output_type": "stream",
     "text": [
      "Before decompartmentalization, there are 1322 compounds\n",
      "After decompartmentalization, there are 1150 compounds left\n"
     ]
    }
   ],
   "source": [
    "myCpds = []\n",
    "for i in range(len(model.metabolites)):\n",
    "    myCpds.append(port_metabolite(model.metabolites[i]))\n",
    "\n",
    "print(f'Before decompartmentalization, there are {len(myCpds)} compounds')\n",
    "\n",
    "# remove duplicated compounds\n",
    "myCpds = remove_duplicate_cpd(myCpds)\n",
    "\n",
    "print(f'After decompartmentalization, there are {len(myCpds)} compounds left')\n",
    "\n",
    "myCpds = fetch_AGORA_GEM_identifiers(myCpds,json_path = '../jms/data/staged/vmh.json',overwrite = True)"
   ]
  },
  {
   "cell_type": "code",
   "execution_count": 16,
   "metadata": {},
   "outputs": [
    {
     "name": "stdout",
     "output_type": "stream",
     "text": [
      "Before removing transport reactions, there are 1724 reactions\n",
      "After removing transport reactions, there are 1590 reactions\n"
     ]
    }
   ],
   "source": [
    "## Reactions to port\n",
    "myRxns = []\n",
    "for R in model.reactions:\n",
    "    myRxns.append( port_reaction(R) )\n",
    "\n",
    "print(f'Before removing transport reactions, there are {len(myRxns)} reactions')\n",
    "\n",
    "# remove duplicated reactions after decompartmentalization\n",
    "myRxns = remove_duplicate_rxn(myRxns)\n",
    "\n",
    "print(f'After removing transport reactions, there are {len(myRxns)} reactions')"
   ]
  },
  {
   "cell_type": "code",
   "execution_count": 17,
   "metadata": {},
   "outputs": [
    {
     "name": "stdout",
     "output_type": "stream",
     "text": [
      "There are 77 pathways in the model\n"
     ]
    }
   ],
   "source": [
    "## Pathways to port\n",
    "myPathways = []\n",
    "for P in model.groups:\n",
    "    myPathways.append(port_pathway(P))\n",
    "\n",
    "# retain the valid reactions in list of pathway\n",
    "myPathways = retain_valid_Rxns_in_Pathways(myPathways,myRxns)\n",
    "\n",
    "print(f'There are {len(myPathways)} pathways in the model')"
   ]
  },
  {
   "cell_type": "markdown",
   "metadata": {},
   "source": [
    "# Collected data; now output"
   ]
  },
  {
   "cell_type": "code",
   "execution_count": 18,
   "metadata": {},
   "outputs": [],
   "source": [
    "## metabolicModel to export\n",
    "MM = MetabolicModel()\n",
    "MM.id = f'az_AGORA_{today}_{model.name}' #\n",
    "MM.meta_data = meta_data"
   ]
  },
  {
   "cell_type": "code",
   "execution_count": 19,
   "metadata": {
    "scrolled": true
   },
   "outputs": [
    {
     "name": "stdout",
     "output_type": "stream",
     "text": [
      "Export pickle file\n",
      "Export json file\n",
      "Export a table of the list of compounds\n"
     ]
    }
   ],
   "source": [
    "MM.list_of_pathways = [P.serialize() for P in myPathways]\n",
    "MM.list_of_reactions = [R.serialize() for R in  myRxns]\n",
    "MM.list_of_compounds = [C.serialize() for C in myCpds]\n",
    "\n",
    "# Write pickle file\n",
    "export_pickle(os.path.join(output_fdr,f'{MM.id}.pickle'), MM)\n",
    "print(f'Export pickle file')\n",
    "\n",
    "# Write json file\n",
    "export_json(os.path.join(output_fdr,f'{MM.id}.json'), MM)\n",
    "print(f'Export json file')\n",
    "\n",
    "# Write dataframe \n",
    "\n",
    "export_table(os.path.join(output_fdr,f'{MM.id}_list_of_compounds.csv'),MM, 'list_of_compounds')\n",
    "print(f'Export a table of the list of compounds')"
   ]
  },
  {
   "cell_type": "markdown",
   "metadata": {},
   "source": [
    "## Summary\n",
    "\n",
    "This ports reactions, pathways and compounds. Gene and enzyme information is not included. They should be when someone has time to do it.\n",
    "\n",
    "The exported pickles can be re-imported and uploaded to database easily.\n",
    "\n",
    "This notebook, the pickle file and the JSON file go to GitHub repo (https://github.com/shuzhao-li/Azimuth)."
   ]
  }
 ],
 "metadata": {
  "kernelspec": {
   "display_name": "Python 3 (ipykernel)",
   "language": "python",
   "name": "python3"
  },
  "language_info": {
   "codemirror_mode": {
    "name": "ipython",
    "version": 3
   },
   "file_extension": ".py",
   "mimetype": "text/x-python",
   "name": "python",
   "nbconvert_exporter": "python",
   "pygments_lexer": "ipython3",
   "version": "3.8.5"
  }
 },
 "nbformat": 4,
 "nbformat_minor": 4
}
