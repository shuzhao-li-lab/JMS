{
 "cells": [
  {
   "cell_type": "markdown",
   "metadata": {},
   "source": [
    "# Working with JSON metabolic models and calculate pathway coverage\n",
    "\n",
    "\n",
    "This notebooks is run by\n",
    "\n",
    "`docker run -v /Users/shuzhao/li.projects:/home/jovyan -p 8888:8888 jupyter/scipy-notebook`\n",
    "\n",
    "The metabolic model is based on Human-GEM parsed by MG, in JMS repo.\n",
    "\n",
    "SL 2023-03-08"
   ]
  },
  {
   "cell_type": "code",
   "execution_count": 1,
   "metadata": {},
   "outputs": [],
   "source": [
    "# jms_metabolite_services >= 0.5.1\n",
    "!pip install -q --upgrade jms_metabolite_services"
   ]
  },
  {
   "cell_type": "code",
   "execution_count": 2,
   "metadata": {},
   "outputs": [],
   "source": [
    "import json\n",
    "import numpy as np"
   ]
  },
  {
   "cell_type": "markdown",
   "metadata": {},
   "source": [
    "## metabolic model as JSON from GEM"
   ]
  },
  {
   "cell_type": "code",
   "execution_count": 3,
   "metadata": {},
   "outputs": [
    {
     "data": {
      "text/plain": [
       "dict_keys(['id', 'list_of_reactions', 'list_of_compounds', 'list_of_pathways', 'meta_data'])"
      ]
     },
     "execution_count": 3,
     "metadata": {},
     "output_type": "execute_result"
    }
   ],
   "source": [
    "# this is Human-GEM parsed by MG, in JMS repo.\n",
    "model = json.load(open('metabolicModel_az_HumanGEM_20220302_noCompartmentalization.json'))\n",
    "model.keys()"
   ]
  },
  {
   "cell_type": "code",
   "execution_count": 4,
   "metadata": {},
   "outputs": [
    {
     "data": {
      "text/plain": [
       "{'species': 'human',\n",
       " 'version': '',\n",
       " 'sources': ['https://github.com/SysBioChalmers/Human-GEM, retrieved 2022-02-09'],\n",
       " 'status': '',\n",
       " 'last_update': '20220209',\n",
       " 'note': 'Human-GEM compartmentalized, with genes and ECs.'}"
      ]
     },
     "execution_count": 4,
     "metadata": {},
     "output_type": "execute_result"
    }
   ],
   "source": [
    "model['meta_data'] # this should be de-compartmentalized"
   ]
  },
  {
   "cell_type": "code",
   "execution_count": 5,
   "metadata": {},
   "outputs": [
    {
     "data": {
      "text/plain": [
       "{'id': 'group7',\n",
       " 'name': 'Androgen metabolism',\n",
       " 'list_of_reactions': ['MAR01944',\n",
       "  'MAR01945',\n",
       "  'MAR01952',\n",
       "  'MAR01953',\n",
       "  'MAR01958',\n",
       "  'MAR01959',\n",
       "  'MAR01960',\n",
       "  'MAR01962',\n",
       "  'MAR01963',\n",
       "  'MAR01967',\n",
       "  'MAR01968',\n",
       "  'MAR01969',\n",
       "  'MAR01970',\n",
       "  'MAR01971',\n",
       "  'MAR01973',\n",
       "  'MAR01974',\n",
       "  'MAR01976',\n",
       "  'MAR01977',\n",
       "  'MAR01978',\n",
       "  'MAR01982',\n",
       "  'MAR01983',\n",
       "  'MAR02014',\n",
       "  'MAR02015',\n",
       "  'MAR02016',\n",
       "  'MAR02017',\n",
       "  'MAR02018',\n",
       "  'MAR02019',\n",
       "  'MAR02020',\n",
       "  'MAR02022',\n",
       "  'MAR02024',\n",
       "  'MAR02025',\n",
       "  'MAR03400',\n",
       "  'MAR03600',\n",
       "  'MAR03601',\n",
       "  'MAR03602',\n",
       "  'MAR03603']}"
      ]
     },
     "execution_count": 5,
     "metadata": {},
     "output_type": "execute_result"
    }
   ],
   "source": [
    "model['list_of_pathways'][6]"
   ]
  },
  {
   "cell_type": "code",
   "execution_count": 6,
   "metadata": {},
   "outputs": [
    {
     "data": {
      "text/plain": [
       "{'id': 'MAR08589',\n",
       " 'reactants': ['MAM02040', 'MAM02450'],\n",
       " 'products': ['MAM01965'],\n",
       " 'genes': ['ENSG00000171298'],\n",
       " 'enzymes': ['3.2.1.20']}"
      ]
     },
     "execution_count": 6,
     "metadata": {},
     "output_type": "execute_result"
    }
   ],
   "source": [
    "model['list_of_reactions'][66]"
   ]
  },
  {
   "cell_type": "code",
   "execution_count": 7,
   "metadata": {},
   "outputs": [
    {
     "data": {
      "text/plain": [
       "{'id': 'MAM00089',\n",
       " 'name': '(3Z,7Z,10Z)-hexadecatrienoyl-CoA',\n",
       " 'identifiers': [['humanGEM', 'MAM00089'], ['vmhmetabolite', 'CE2442']],\n",
       " 'neutral_formula': 'C37H60N7O17P3S',\n",
       " 'charge': -4,\n",
       " 'charged_formula': 'C37H56N7O17P3S',\n",
       " 'neutral_mono_mass': 999.2979256653599,\n",
       " 'SMILES': '',\n",
       " 'inchi': ''}"
      ]
     },
     "execution_count": 7,
     "metadata": {},
     "output_type": "execute_result"
    }
   ],
   "source": [
    "model['list_of_compounds'][88]"
   ]
  },
  {
   "cell_type": "markdown",
   "metadata": {},
   "source": [
    "## Demo of indexed model from mummichog"
   ]
  },
  {
   "cell_type": "code",
   "execution_count": 8,
   "metadata": {},
   "outputs": [],
   "source": [
    "# this is the model in mummichog src\n",
    "from JSON_metabolicModels import metabolicModels"
   ]
  },
  {
   "cell_type": "code",
   "execution_count": 9,
   "metadata": {},
   "outputs": [
    {
     "data": {
      "text/plain": [
       "dict_keys(['edge2rxn', 'version', 'metabolic_rxns', 'cpd_edges', 'metabolic_pathways', 'Compounds', 'dict_cpds_def', 'cpd2pathways', 'edge2enzyme', 'dict_cpds_mass'])"
      ]
     },
     "execution_count": 9,
     "metadata": {},
     "output_type": "execute_result"
    }
   ],
   "source": [
    "mfn = metabolicModels['human_model_mfn']\n",
    "mfn.keys()"
   ]
  },
  {
   "cell_type": "code",
   "execution_count": 10,
   "metadata": {},
   "outputs": [
    {
     "data": {
      "text/plain": [
       "['3-oxo-10R-octadecatrienoate beta-oxidation',\n",
       " 'Alkaloid biosynthesis II',\n",
       " 'Vitamin B1 (thiamin) metabolism',\n",
       " 'Glycosphingolipid biosynthesis - globoseries',\n",
       " 'Histidine metabolism']"
      ]
     },
     "execution_count": 10,
     "metadata": {},
     "output_type": "execute_result"
    }
   ],
   "source": [
    "[x['name'] for x in mfn['metabolic_pathways']][20: 25]"
   ]
  },
  {
   "cell_type": "code",
   "execution_count": 11,
   "metadata": {},
   "outputs": [
    {
     "data": {
      "text/plain": [
       "{'cpds': ['C00025',\n",
       "  'CE2540',\n",
       "  'CE7115',\n",
       "  'CE7114',\n",
       "  'CE7111',\n",
       "  'CE7110',\n",
       "  'CE7113',\n",
       "  'CE7112',\n",
       "  'CE7090',\n",
       "  'CE7091',\n",
       "  'C06439',\n",
       "  'C00051',\n",
       "  'C00030',\n",
       "  'CE7109',\n",
       "  'C00028',\n",
       "  'CE6508',\n",
       "  'CE7089',\n",
       "  'CE7088',\n",
       "  'CE7087',\n",
       "  'CE7086',\n",
       "  'CE7085',\n",
       "  'CE7084',\n",
       "  'CE7083',\n",
       "  'CE7082',\n",
       "  'CE7081',\n",
       "  'CE7080',\n",
       "  'CE7079'],\n",
       " 'rxns': ['RE3502',\n",
       "  'RE3487',\n",
       "  'RE3485',\n",
       "  'RE3498',\n",
       "  'RE3503',\n",
       "  'RE3506',\n",
       "  'RE3497',\n",
       "  'RE3505',\n",
       "  'RE3504',\n",
       "  'RE3488',\n",
       "  'RE3489',\n",
       "  'RE3494',\n",
       "  'RE3491',\n",
       "  'RE3501',\n",
       "  'RE3500',\n",
       "  'RE3495',\n",
       "  'RE3496',\n",
       "  'RE3492',\n",
       "  'RE3499',\n",
       "  'RE3493',\n",
       "  'RE3490',\n",
       "  'RE3486'],\n",
       " 'ecs': ['1.14.99.1',\n",
       "  '3.3.2.10',\n",
       "  '1.13.11.34',\n",
       "  '1.14.13.30',\n",
       "  '5.3.99.3',\n",
       "  '3.3.2.6',\n",
       "  '1.1.1.184',\n",
       "  '3.3.2.9',\n",
       "  '1.13.11.33',\n",
       "  '2.3.2.2',\n",
       "  '4.4.1.20'],\n",
       " 'id': 'mfn1v10path188',\n",
       " 'name': 'Putative anti-Inflammatory metabolites formation from EPA'}"
      ]
     },
     "execution_count": 11,
     "metadata": {},
     "output_type": "execute_result"
    }
   ],
   "source": [
    "mfn['metabolic_pathways'][11]"
   ]
  },
  {
   "cell_type": "code",
   "execution_count": 12,
   "metadata": {},
   "outputs": [
    {
     "data": {
      "text/plain": [
       "'mfn1v10path188'"
      ]
     },
     "execution_count": 12,
     "metadata": {},
     "output_type": "execute_result"
    }
   ],
   "source": [
    "mfn['metabolic_pathways'][11]['id']"
   ]
  },
  {
   "cell_type": "code",
   "execution_count": 13,
   "metadata": {},
   "outputs": [
    {
     "data": {
      "text/plain": [
       "{'formula': 'C20H29O5',\n",
       " 'mw': 350.2093,\n",
       " 'name': 'Prostaglandin E3',\n",
       " 'adducts': {}}"
      ]
     },
     "execution_count": 13,
     "metadata": {},
     "output_type": "execute_result"
    }
   ],
   "source": [
    "mfn['Compounds']['C06439']"
   ]
  },
  {
   "cell_type": "markdown",
   "metadata": {},
   "source": [
    "## Calculate pathway coverage in an experimental dataset "
   ]
  },
  {
   "cell_type": "code",
   "execution_count": 16,
   "metadata": {},
   "outputs": [],
   "source": [
    "# These could be run by a single wrapper function jms.coverage.wrapper_file2coverage\n",
    "\n",
    "from jms.coverage import report_pathway_coverage, export_pathway_coverage_table\n",
    "from jms.modelConvert import convert_json_model\n",
    "from jms.empiricalCpds import load_epds_from_json"
   ]
  },
  {
   "cell_type": "code",
   "execution_count": 17,
   "metadata": {},
   "outputs": [],
   "source": [
    "list_epds = load_epds_from_json('Annotated_empricalCompounds.json')"
   ]
  },
  {
   "cell_type": "code",
   "execution_count": 18,
   "metadata": {},
   "outputs": [],
   "source": [
    "mcgmodel = convert_json_model(model)"
   ]
  },
  {
   "cell_type": "code",
   "execution_count": 19,
   "metadata": {},
   "outputs": [
    {
     "data": {
      "text/plain": [
       "{'id': 'group12',\n",
       " 'name': 'Beta oxidation of branched-chain fatty acids (mitochondrial)',\n",
       " 'rxns': ['MAR03522',\n",
       "  'MAR03523',\n",
       "  'MAR03524',\n",
       "  'MAR03525',\n",
       "  'MAR03526',\n",
       "  'MAR03527',\n",
       "  'MAR03528',\n",
       "  'MAR03529',\n",
       "  'MAR03530',\n",
       "  'MAR03531',\n",
       "  'MAR03532',\n",
       "  'MAR03533',\n",
       "  'MAR03534'],\n",
       " 'cpds': ['MAM01597',\n",
       "  'MAM00703',\n",
       "  'MAM00934',\n",
       "  'MAM02774',\n",
       "  'MAM02040',\n",
       "  'MAM01017',\n",
       "  'MAM00845',\n",
       "  'MAM02039',\n",
       "  'MAM00933',\n",
       "  'MAM02180',\n",
       "  'MAM02553',\n",
       "  'MAM01015',\n",
       "  'MAM00563',\n",
       "  'MAM01802',\n",
       "  'MAM01261',\n",
       "  'MAM00562',\n",
       "  'MAM00706',\n",
       "  'MAM00578',\n",
       "  'MAM00844',\n",
       "  'MAM00831',\n",
       "  'MAM02552',\n",
       "  'MAM00705',\n",
       "  'MAM01803'],\n",
       " 'ecs': ['1.1.1.211',\n",
       "  '1.1.1.35',\n",
       "  '1.3.8.7',\n",
       "  '4.2.1.17',\n",
       "  '1.3.8.8',\n",
       "  '2.3.1.16',\n",
       "  '5.1.99.4'],\n",
       " 'genes': ['ENSG00000138796',\n",
       "  'ENSG00000072506',\n",
       "  'ENSG00000084754',\n",
       "  'ENSG00000167315',\n",
       "  'ENSG00000127884',\n",
       "  'ENSG00000117054',\n",
       "  'ENSG00000242110',\n",
       "  'ENSG00000138029',\n",
       "  'ENSG00000115361',\n",
       "  'ENSG00000113790']}"
      ]
     },
     "execution_count": 19,
     "metadata": {},
     "output_type": "execute_result"
    }
   ],
   "source": [
    "mcgmodel['metabolic_pathways'][11]"
   ]
  },
  {
   "cell_type": "code",
   "execution_count": 20,
   "metadata": {},
   "outputs": [
    {
     "data": {
      "text/plain": [
       "dict_keys(['id', 'version', 'Compounds', 'dict_cpds_def', 'metabolic_rxns', 'cpd_edges', 'edge2rxn', 'edge2enzyme', 'metabolic_pathways', 'cpd2pathways'])"
      ]
     },
     "execution_count": 20,
     "metadata": {},
     "output_type": "execute_result"
    }
   ],
   "source": [
    "mcgmodel.keys()"
   ]
  },
  {
   "cell_type": "code",
   "execution_count": 21,
   "metadata": {},
   "outputs": [
    {
     "data": {
      "text/plain": [
       "{'id': 'MAM02553',\n",
       " 'name': 'NADH',\n",
       " 'identifiers': [['humanGEM', 'MAM02553'],\n",
       "  ['bigg.metabolite', 'nadh'],\n",
       "  ['kegg.compound', 'C00004'],\n",
       "  ['hmdb', 'HMDB01487'],\n",
       "  ['chebi', '16908'],\n",
       "  ['pubchem.compound', '928'],\n",
       "  ['vmhmetabolite', 'nadh'],\n",
       "  ['metanetx.chemical', 'MNXM10']],\n",
       " 'neutral_formula': 'C21H29N7O14P2',\n",
       " 'charge': -2,\n",
       " 'charged_formula': 'C21H27N7O14P2',\n",
       " 'neutral_mono_mass': 665.1247726356299,\n",
       " 'SMILES': '',\n",
       " 'inchi': ''}"
      ]
     },
     "execution_count": 21,
     "metadata": {},
     "output_type": "execute_result"
    }
   ],
   "source": [
    "mcgmodel['Compounds']['MAM02553']"
   ]
  },
  {
   "cell_type": "code",
   "execution_count": 22,
   "metadata": {},
   "outputs": [
    {
     "data": {
      "text/plain": [
       "'NADH'"
      ]
     },
     "execution_count": 22,
     "metadata": {},
     "output_type": "execute_result"
    }
   ],
   "source": [
    "mcgmodel['dict_cpds_def']['MAM02553']"
   ]
  },
  {
   "cell_type": "code",
   "execution_count": 23,
   "metadata": {},
   "outputs": [],
   "source": [
    "metabolic_pathways = report_pathway_coverage( mcgmodel, list_epds)"
   ]
  },
  {
   "cell_type": "code",
   "execution_count": 24,
   "metadata": {},
   "outputs": [],
   "source": [
    "export_pathway_coverage_table(metabolic_pathways, outfile='pathway_matches.tsv')"
   ]
  },
  {
   "cell_type": "markdown",
   "metadata": {},
   "source": [
    "## Conclusion\n",
    "\n",
    "We used JMS functions to match neutral mass of each empricical compound (i.e. khipu) against the compounds in the Human-GEM metabolic model.\n",
    "\n",
    "The result is written in a tab-delimited file 'pathway_matches.tsv'.\n",
    "\n",
    "One can use this recipe to analyze data from multiple methods/experiments."
   ]
  }
 ],
 "metadata": {
  "kernelspec": {
   "display_name": "Python 3",
   "language": "python",
   "name": "python3"
  },
  "language_info": {
   "codemirror_mode": {
    "name": "ipython",
    "version": 3
   },
   "file_extension": ".py",
   "mimetype": "text/x-python",
   "name": "python",
   "nbconvert_exporter": "python",
   "pygments_lexer": "ipython3",
   "version": "3.7.3"
  }
 },
 "nbformat": 4,
 "nbformat_minor": 2
}
