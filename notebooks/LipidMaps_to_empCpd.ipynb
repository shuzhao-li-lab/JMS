{
 "cells": [
  {
   "cell_type": "code",
   "execution_count": 61,
   "metadata": {},
   "outputs": [],
   "source": [
    "'''\n",
    "This notebook will download the COMP_DB from LipidMaps and convert it into a format that can be used for annotations with JMS.\n",
    "\n",
    "The output file will be in json format, located at \"/tmp/list_COMP_DB.json\"\n",
    "'''\n",
    "\n",
    "\n",
    "import csv\n",
    "import json\n",
    "import urllib.request\n",
    "import zipfile\n",
    "from mass2chem.formula import dict_to_hill_formula, parse_chemformula_dict, calculate_formula_mass\n",
    "\n",
    "COMP_DB_url = \"https://www.lipidmaps.org/files/store/COMP_DB_DATA.zip\"\n"
   ]
  },
  {
   "cell_type": "code",
   "execution_count": 62,
   "metadata": {},
   "outputs": [
    {
     "data": {
      "text/plain": [
       "('/tmp/COMP_DB_DATA.zip', <http.client.HTTPMessage at 0x11311d710>)"
      ]
     },
     "execution_count": 62,
     "metadata": {},
     "output_type": "execute_result"
    }
   ],
   "source": [
    "urllib.request.urlretrieve(COMP_DB_url, \"/tmp/COMP_DB_DATA.zip\")"
   ]
  },
  {
   "cell_type": "code",
   "execution_count": 63,
   "metadata": {},
   "outputs": [],
   "source": [
    "prototype_empCpd = {\n",
    "    \"primary_id\": None,\n",
    "    \"primary_db\": None,\n",
    "    \"name\": None,\n",
    "    \"neutral_formula\": None,\n",
    "    \"neutral_formula_mass\": None,\n",
    "    \"SMILES\": None,\n",
    "    \"inchikey\": None,\n",
    "    \"other_ids\": None,\n",
    "}"
   ]
  },
  {
   "cell_type": "code",
   "execution_count": 65,
   "metadata": {},
   "outputs": [],
   "source": [
    "entries = []\n",
    "comp_DB_path = \"/tmp/COMP_DB_DATA.zip\"\n",
    "comp_DB_archive = zipfile.ZipFile(comp_DB_path, 'r')\n",
    "comp_DB_filehandle = comp_DB_archive.open('COMP_DB_DATA.tsv')\n",
    "\n",
    "line_no = 0\n",
    "for line in comp_DB_filehandle:\n",
    "    if line_no == 0:\n",
    "        pass\n",
    "    else:\n",
    "        line = line.decode()\n",
    "        headgroup, abbreviation, mass, formula, chain_length = str(line).rstrip().split(\"\\t\")\n",
    "        empCpd_for_entry = dict(prototype_empCpd)\n",
    "        empCpd_for_entry[\"primary_db\"] = \"LipidMaps_COMP_DB\"\n",
    "        empCpd_for_entry[\"name\"] = abbreviation\n",
    "        empCpd_for_entry[\"neutral_formula\"] = dict_to_hill_formula(parse_chemformula_dict(formula))\n",
    "        empCpd_for_entry[\"neutral_formula_mass\"] = calculate_formula_mass(empCpd_for_entry[\"neutral_formula\"])\n",
    "        entries.append(empCpd_for_entry)\n",
    "    line_no += 1"
   ]
  },
  {
   "cell_type": "code",
   "execution_count": 66,
   "metadata": {},
   "outputs": [],
   "source": [
    "with open(\"/tmp/list_compounds_COMP_DB.json\", 'w+') as output:\n",
    "    json.dump(entries, output, indent=4)"
   ]
  }
 ],
 "metadata": {
  "kernelspec": {
   "display_name": "Python 3",
   "language": "python",
   "name": "python3"
  },
  "language_info": {
   "codemirror_mode": {
    "name": "ipython",
    "version": 3
   },
   "file_extension": ".py",
   "mimetype": "text/x-python",
   "name": "python",
   "nbconvert_exporter": "python",
   "pygments_lexer": "ipython3",
   "version": "3.11.2"
  },
  "orig_nbformat": 4
 },
 "nbformat": 4,
 "nbformat_minor": 2
}
