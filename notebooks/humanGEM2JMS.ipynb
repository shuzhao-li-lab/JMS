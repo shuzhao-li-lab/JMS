{
 "cells": [
  {
   "cell_type": "markdown",
   "metadata": {},
   "source": [
    "# Porting genome scale metabolic models for metabolomics\n",
    "\n",
    "**Human-GEM as default human model, for better compatibility**\n",
    "https://github.com/SysBioChalmers/Human-GEM\n",
    "\n",
    "**Use cobra to parse SBML models whereas applicable**\n",
    "\n",
    "Not all models comply with the formats in cobra. Models from USCD and Thiele labs should comply.\n",
    "\n",
    "**Base our code on metDataModel**\n",
    "\n",
    "Each model needs a list of Reactions, list of Pathways, and a list of Compounds.\n",
    "It's important to include with Compounds with all linked identifiers to other DBs (HMDB, PubChem, etc), and with formulae (usually charged form in these models) when available.\n",
    "We can alwasy update the data later. E.g. the neural formulae can be inferred from charged formula or retrieved from public metabolite database (e.g., HMDB) if linked.\n",
    "Save in Python pickle and in JSON.\n",
    "\n",
    "**No compartmentalization**\n",
    "- After decompartmentalization,\n",
    "  - transport reactions can be removed - they are identified by reactants and products being the same.\n",
    "  - redundant reactions can be merge - same reactions in diff compartments become one.\n",
    "\n",
    "Shuzhao Li, 2021-10-21|\n",
    "Minghao Gong, 2022-04-19"
   ]
  },
  {
   "cell_type": "code",
   "execution_count": 1,
   "metadata": {
    "scrolled": true
   },
   "outputs": [],
   "source": [
    "# !pip install cobra --user --ignore-installed ruamel.yaml\n",
    "# !pip install --upgrade metDataModel # https://github.com/shuzhao-li/metDataModel/ \n",
    "# !pip install --upgrade numpy pandas"
   ]
  },
  {
   "cell_type": "code",
   "execution_count": 2,
   "metadata": {},
   "outputs": [],
   "source": [
    "import cobra # https://cobrapy.readthedocs.io/en/latest/io.html#SBML\n",
    "from metDataModel.core import Compound, Reaction, Pathway, MetabolicModel\n",
    "import requests\n",
    "import sys\n",
    "\n",
    "sys.path.append(\"/Users/gongm/Documents/projects/mass2chem/\")\n",
    "sys.path.append(\"/Users/gongm/Documents/projects/JMS/JMS/JMS\")\n",
    "from mass2chem.formula import *\n",
    "from jms.formula import *\n",
    "from jms.utils.gems import *"
   ]
  },
  {
   "cell_type": "code",
   "execution_count": 3,
   "metadata": {},
   "outputs": [],
   "source": [
    "# download the most updated Human-GEM.xml\n",
    "HG_xml_path = \"../testdata/HumanGEM/Human-GEM.xml\"\n",
    "with open(HG_xml_path, 'w') as f:\n",
    "    r = requests.get('https://github.com/SysBioChalmers/Human-GEM/blob/main/model/Human-GEM.xml?raw=true')\n",
    "    f.write(r.text)"
   ]
  },
  {
   "cell_type": "code",
   "execution_count": 4,
   "metadata": {},
   "outputs": [
    {
     "name": "stdout",
     "output_type": "stream",
     "text": [
      "Scaling...\n",
      " A: min|aij| =  1.000e+00  max|aij| =  1.000e+00  ratio =  1.000e+00\n",
      "Problem data seem to be well scaled\n"
     ]
    }
   ],
   "source": [
    "# Read the model via cobra\n",
    "xmlFile = HG_xml_path\n",
    "model = cobra.io.read_sbml_model(xmlFile)"
   ]
  },
  {
   "cell_type": "code",
   "execution_count": 5,
   "metadata": {},
   "outputs": [
    {
     "data": {
      "text/html": [
       "\n",
       "        <table>\n",
       "            <tr>\n",
       "                <td><strong>Name</strong></td>\n",
       "                <td>HumanGEM</td>\n",
       "            </tr><tr>\n",
       "                <td><strong>Memory address</strong></td>\n",
       "                <td>0x07fc28e428190</td>\n",
       "            </tr><tr>\n",
       "                <td><strong>Number of metabolites</strong></td>\n",
       "                <td>8366</td>\n",
       "            </tr><tr>\n",
       "                <td><strong>Number of reactions</strong></td>\n",
       "                <td>13069</td>\n",
       "            </tr><tr>\n",
       "                <td><strong>Number of groups</strong></td>\n",
       "                <td>142</td>\n",
       "            </tr><tr>\n",
       "                <td><strong>Objective expression</strong></td>\n",
       "                <td>1.0*MAR13082 - 1.0*MAR13082_reverse_11d67</td>\n",
       "            </tr><tr>\n",
       "                <td><strong>Compartments</strong></td>\n",
       "                <td>Cytosol, Extracellular, Lysosome, Endoplasmic reticulum, Mitochondria, Peroxisome, Golgi apparatus, Nucleus, Inner mitochondria</td>\n",
       "            </tr>\n",
       "          </table>"
      ],
      "text/plain": [
       "<Model HumanGEM at 0x7fc28e428190>"
      ]
     },
     "execution_count": 5,
     "metadata": {},
     "output_type": "execute_result"
    }
   ],
   "source": [
    "model"
   ]
  },
  {
   "cell_type": "code",
   "execution_count": 6,
   "metadata": {},
   "outputs": [
    {
     "data": {
      "text/html": [
       "\n",
       "        <table>\n",
       "            <tr>\n",
       "                <td><strong>Metabolite identifier</strong></td><td>MAM00599r</td>\n",
       "            </tr><tr>\n",
       "                <td><strong>Name</strong></td><td>20-OH-LTB4</td>\n",
       "            </tr><tr>\n",
       "                <td><strong>Memory address</strong></td>\n",
       "                <td>0x07fc2924ac0d0</td>\n",
       "            </tr><tr>\n",
       "                <td><strong>Formula</strong></td><td>C20H31O5</td>\n",
       "            </tr><tr>\n",
       "                <td><strong>Compartment</strong></td><td>r</td>\n",
       "            </tr><tr>\n",
       "                <td><strong>In 6 reaction(s)</strong></td><td>\n",
       "                    MAR01138, MAR10382, MAR01575, MAR01131, MAR08561, MAR01128</td>\n",
       "            </tr>\n",
       "        </table>"
      ],
      "text/plain": [
       "<Metabolite MAM00599r at 0x7fc2924ac0d0>"
      ]
     },
     "execution_count": 6,
     "metadata": {},
     "output_type": "execute_result"
    }
   ],
   "source": [
    "# metabolite entries, readily convert to list of metabolites\n",
    "model.metabolites[990] "
   ]
  },
  {
   "cell_type": "code",
   "execution_count": 7,
   "metadata": {
    "scrolled": true
   },
   "outputs": [
    {
     "data": {
      "text/html": [
       "\n",
       "        <table>\n",
       "            <tr>\n",
       "                <td><strong>Reaction identifier</strong></td><td>MAR07747</td>\n",
       "            </tr><tr>\n",
       "                <td><strong>Name</strong></td><td></td>\n",
       "            </tr><tr>\n",
       "                <td><strong>Memory address</strong></td>\n",
       "                <td>0x07fc252f772b0</td>\n",
       "            </tr><tr>\n",
       "                <td><strong>Stoichiometry</strong></td>\n",
       "                <td>\n",
       "                    <p style='text-align:right'>MAM01285c + MAM01965c --> MAM01334c + MAM01968c + MAM02039c</p>\n",
       "                    <p style='text-align:right'>ADP + glucose --> AMP + glucose-6-phosphate + H+</p>\n",
       "                </td>\n",
       "            </tr><tr>\n",
       "                <td><strong>GPR</strong></td><td>ENSG00000159322</td>\n",
       "            </tr><tr>\n",
       "                <td><strong>Lower bound</strong></td><td>0.0</td>\n",
       "            </tr><tr>\n",
       "                <td><strong>Upper bound</strong></td><td>1000.0</td>\n",
       "            </tr>\n",
       "        </table>\n",
       "        "
      ],
      "text/plain": [
       "<Reaction MAR07747 at 0x7fc252f772b0>"
      ]
     },
     "execution_count": 7,
     "metadata": {},
     "output_type": "execute_result"
    }
   ],
   "source": [
    "# reaction entries, Readily convert to list of reactions\n",
    "model.reactions[33] "
   ]
  },
  {
   "cell_type": "code",
   "execution_count": 8,
   "metadata": {
    "scrolled": true
   },
   "outputs": [
    {
     "data": {
      "text/plain": [
       "{'_id': 'group12',\n",
       " 'name': 'Beta oxidation of branched-chain fatty acids (mitochondrial)',\n",
       " 'notes': {},\n",
       " '_annotation': {'sbo': 'SBO:0000633'},\n",
       " '_members': [<Reaction MAR03522 at 0x7fc254882700>,\n",
       "  <Reaction MAR03523 at 0x7fc254882eb0>,\n",
       "  <Reaction MAR03524 at 0x7fc254894bb0>,\n",
       "  <Reaction MAR03525 at 0x7fc254894fd0>,\n",
       "  <Reaction MAR03526 at 0x7fc254882ee0>,\n",
       "  <Reaction MAR03527 at 0x7fc254882880>,\n",
       "  <Reaction MAR03528 at 0x7fc254894eb0>,\n",
       "  <Reaction MAR03529 at 0x7fc254894fa0>,\n",
       "  <Reaction MAR03530 at 0x7fc254894cd0>,\n",
       "  <Reaction MAR03531 at 0x7fc254894b20>,\n",
       "  <Reaction MAR03532 at 0x7fc254882af0>,\n",
       "  <Reaction MAR03533 at 0x7fc254894910>,\n",
       "  <Reaction MAR03534 at 0x7fc254894ac0>],\n",
       " '_kind': 'partonomy',\n",
       " '_model': <Model HumanGEM at 0x7fc28e428190>}"
      ]
     },
     "execution_count": 8,
     "metadata": {},
     "output_type": "execute_result"
    }
   ],
   "source": [
    "# groups are similar to pathways? Readily convert to list of pathway\n",
    "model.groups[11].__dict__"
   ]
  },
  {
   "cell_type": "markdown",
   "metadata": {},
   "source": [
    "## Port metabolite"
   ]
  },
  {
   "cell_type": "code",
   "execution_count": 9,
   "metadata": {
    "scrolled": true
   },
   "outputs": [],
   "source": [
    "def port_metabolite(M):\n",
    "    # convert cobra Metabolite to metDataModel Compound\n",
    "    Cpd = Compound()\n",
    "    Cpd.src_id = remove_compartment_by_substr(M.id,1)\n",
    "    Cpd.id = remove_compartment_by_substr(M.id,1)              # temporarily the same with the source id\n",
    "    Cpd.name = M.name\n",
    "    Cpd.charge = M.charge\n",
    "    Cpd.neutral_formula = adjust_charge_in_formula(M.formula,M.charge)\n",
    "    Cpd.neutral_mono_mass = neutral_formula2mass(Cpd.neutral_formula)\n",
    "    Cpd.charged_formula = M.formula\n",
    "    Cpd.db_ids = [['humanGEM',Cpd.src_id]] # using src_id to also reference humanGEM ID in db_ids field\n",
    "    for k,v in M.annotation.items():\n",
    "        if k != 'sbo':\n",
    "            if isinstance(v,list):\n",
    "                Cpd.db_ids.append([[k,x] for x in v])\n",
    "            else: \n",
    "                if \":\" in v:\n",
    "                    Cpd.db_ids.append([k,v.split(\":\")[1]])\n",
    "                else:\n",
    "                    Cpd.db_ids.append([k,v])\n",
    "    \n",
    "    inchi_list = [x[1].split('=')[1] for x in Cpd.db_ids if x[0] == 'inchi']\n",
    "    if len(inchi_list) ==1:\n",
    "        Cpd.inchi = inchi_list[0]\n",
    "    elif len(inchi_list) >1:\n",
    "        Cpd.inchi = inchi_list\n",
    "    \n",
    "    return Cpd"
   ]
  },
  {
   "cell_type": "code",
   "execution_count": 10,
   "metadata": {
    "scrolled": false
   },
   "outputs": [],
   "source": [
    "myCpds = []\n",
    "for i in range(len(model.metabolites)):\n",
    "    myCpds.append(port_metabolite(model.metabolites[i]))"
   ]
  },
  {
   "cell_type": "code",
   "execution_count": 11,
   "metadata": {},
   "outputs": [
    {
     "data": {
      "text/plain": [
       "8366"
      ]
     },
     "execution_count": 11,
     "metadata": {},
     "output_type": "execute_result"
    }
   ],
   "source": [
    "len(myCpds)"
   ]
  },
  {
   "cell_type": "code",
   "execution_count": 12,
   "metadata": {},
   "outputs": [],
   "source": [
    "# remove duplicated compounds\n",
    "myCpds = remove_duplicate_cpd(myCpds)"
   ]
  },
  {
   "cell_type": "code",
   "execution_count": 13,
   "metadata": {},
   "outputs": [
    {
     "data": {
      "text/plain": [
       "4112"
      ]
     },
     "execution_count": 13,
     "metadata": {},
     "output_type": "execute_result"
    }
   ],
   "source": [
    "len(myCpds)"
   ]
  },
  {
   "cell_type": "markdown",
   "metadata": {},
   "source": [
    "## Port reactions"
   ]
  },
  {
   "cell_type": "code",
   "execution_count": 14,
   "metadata": {},
   "outputs": [
    {
     "data": {
      "text/plain": [
       "['MAR04501',\n",
       " ['MAM01761', 'MAM02845'],\n",
       " ['MAM01939', 'MAM02884'],\n",
       " ['ENSG00000151005', 'ENSG00000007350', 'ENSG00000163931'],\n",
       " ['2.2.1.1']]"
      ]
     },
     "execution_count": 14,
     "metadata": {},
     "output_type": "execute_result"
    }
   ],
   "source": [
    "# port reactions, to include genes and enzymes\n",
    "def port_reaction(R):\n",
    "    new = Reaction()\n",
    "    new.id = R.id\n",
    "    new.reactants = [remove_compartment_by_substr(m.id,1) for m in R.reactants] # decompartmentalization\n",
    "    new.products = [remove_compartment_by_substr(m.id,1) for m in R.products]   # decompartmentalization\n",
    "    new.genes = [g.id for g in R.genes]\n",
    "    ecs = R.annotation.get('ec-code', [])\n",
    "    if isinstance(ecs, list):\n",
    "        new.enzymes = ecs\n",
    "    else:\n",
    "        new.enzymes = [ecs]       # this version of human-GEM may have it as string\n",
    "    return new\n",
    "\n",
    "test99 = port_reaction(model.reactions[199])\n",
    "[test99.id,\n",
    " test99.reactants,\n",
    " test99.products,\n",
    " test99.genes,\n",
    " test99.enzymes\n",
    "]"
   ]
  },
  {
   "cell_type": "code",
   "execution_count": 15,
   "metadata": {},
   "outputs": [
    {
     "name": "stdout",
     "output_type": "stream",
     "text": [
      "13069\n"
     ]
    }
   ],
   "source": [
    "## Reactions to port\n",
    "myRxns = []\n",
    "for R in model.reactions:\n",
    "    myRxns.append( port_reaction(R) )\n",
    "    \n",
    "print(len(myRxns))"
   ]
  },
  {
   "cell_type": "code",
   "execution_count": 16,
   "metadata": {},
   "outputs": [],
   "source": [
    "# remove duplicated reactions after decompartmentalization\n",
    "myRxns = remove_duplicate_rxn(myRxns)"
   ]
  },
  {
   "cell_type": "code",
   "execution_count": 17,
   "metadata": {},
   "outputs": [
    {
     "data": {
      "text/plain": [
       "8876"
      ]
     },
     "execution_count": 17,
     "metadata": {},
     "output_type": "execute_result"
    }
   ],
   "source": [
    "len(myRxns)"
   ]
  },
  {
   "cell_type": "markdown",
   "metadata": {},
   "source": [
    "## Port pathway"
   ]
  },
  {
   "cell_type": "code",
   "execution_count": 18,
   "metadata": {},
   "outputs": [
    {
     "data": {
      "text/plain": [
       "['group13',\n",
       " 'Beta oxidation of di-unsaturated fatty acids (n-6) (mitochondrial)',\n",
       " ['MAR03275', 'MAR03277', 'MAR03278', 'MAR03279', 'MAR03280']]"
      ]
     },
     "execution_count": 18,
     "metadata": {},
     "output_type": "execute_result"
    }
   ],
   "source": [
    "# pathways, using group as pathway. Other models may use subsystem etc.\n",
    "\n",
    "def port_pathway(P):\n",
    "    new = Pathway()\n",
    "    new.id = P.id\n",
    "    new.source = ['Human-GEM v1.10.0',]\n",
    "    new.name = P.name\n",
    "    new.list_of_reactions = [x.id for x in P.members]\n",
    "    return new\n",
    "\n",
    "p = port_pathway(model.groups[12])\n",
    "\n",
    "[p.id, p.name, p.list_of_reactions[:5]]"
   ]
  },
  {
   "cell_type": "code",
   "execution_count": 19,
   "metadata": {},
   "outputs": [
    {
     "data": {
      "text/plain": [
       "142"
      ]
     },
     "execution_count": 19,
     "metadata": {},
     "output_type": "execute_result"
    }
   ],
   "source": [
    "## Pathways to port\n",
    "myPathways = []\n",
    "for P in model.groups:\n",
    "    myPathways.append(port_pathway(P))\n",
    "\n",
    "len(myPathways)"
   ]
  },
  {
   "cell_type": "code",
   "execution_count": 20,
   "metadata": {},
   "outputs": [],
   "source": [
    "# retain the valid reactions in list of pathway\n",
    "myPathways = retain_valid_Rxns_in_Pathways(myPathways,myRxns)"
   ]
  },
  {
   "cell_type": "code",
   "execution_count": 21,
   "metadata": {},
   "outputs": [
    {
     "data": {
      "text/plain": [
       "8876"
      ]
     },
     "execution_count": 21,
     "metadata": {},
     "output_type": "execute_result"
    }
   ],
   "source": [
    "# test if the length of unique reactions matched with the length of decompartmentalized reaction list \n",
    "test_list_Rxns = []\n",
    "for pathway in myPathways:\n",
    "    for y in pathway.list_of_reactions:\n",
    "        test_list_Rxns.append(y)\n",
    "\n",
    "len(set(test_list_Rxns))"
   ]
  },
  {
   "cell_type": "markdown",
   "metadata": {},
   "source": [
    "## Collected data; now output"
   ]
  },
  {
   "cell_type": "code",
   "execution_count": 22,
   "metadata": {},
   "outputs": [],
   "source": [
    "from datetime import datetime\n",
    "today =  str(datetime.today()).split(\" \")[0]"
   ]
  },
  {
   "cell_type": "code",
   "execution_count": 23,
   "metadata": {
    "scrolled": true
   },
   "outputs": [
    {
     "data": {
      "text/plain": [
       "'2022-04-23'"
      ]
     },
     "execution_count": 23,
     "metadata": {},
     "output_type": "execute_result"
    }
   ],
   "source": [
    "today"
   ]
  },
  {
   "cell_type": "code",
   "execution_count": 24,
   "metadata": {},
   "outputs": [],
   "source": [
    "note = \"\"\"Human-GEM compartmentalized, with genes and ECs.\"\"\"\n",
    "\n",
    "## metabolicModel to export\n",
    "MM = MetabolicModel()\n",
    "MM.id = f'az_HumanGEM_{today}' #\n",
    "MM.meta_data = {\n",
    "            'species': 'human',\n",
    "            'version': '',\n",
    "            'sources': [f'https://github.com/SysBioChalmers/Human-GEM, retrieved {today}'], #\n",
    "            'status': '',\n",
    "            'last_update': today,  #\n",
    "            'note': note,\n",
    "        }\n",
    "MM.list_of_pathways = [P.serialize() for P in myPathways]\n",
    "MM.list_of_reactions = [R.serialize() for R in  myRxns]\n",
    "MM.list_of_compounds = [C.serialize() for C in myCpds]"
   ]
  },
  {
   "cell_type": "code",
   "execution_count": 25,
   "metadata": {
    "scrolled": true
   },
   "outputs": [
    {
     "data": {
      "text/plain": [
       "[{'id': 'group3',\n",
       "  'name': 'Alanine, aspartate and glutamate metabolism',\n",
       "  'list_of_reactions': ['MAR03802',\n",
       "   'MAR03804',\n",
       "   'MAR03811',\n",
       "   'MAR03813',\n",
       "   'MAR03822',\n",
       "   'MAR03827',\n",
       "   'MAR03829',\n",
       "   'MAR03831',\n",
       "   'MAR03862',\n",
       "   'MAR03865',\n",
       "   'MAR03870',\n",
       "   'MAR03873',\n",
       "   'MAR08654',\n",
       "   'MAR03890',\n",
       "   'MAR03892',\n",
       "   'MAR09802',\n",
       "   'MAR03899',\n",
       "   'MAR03903',\n",
       "   'MAR04109',\n",
       "   'MAR04114',\n",
       "   'MAR04115',\n",
       "   'MAR04118',\n",
       "   'MAR04172',\n",
       "   'MAR04196',\n",
       "   'MAR04197',\n",
       "   'MAR04287',\n",
       "   'MAR04690',\n",
       "   'MAR04693',\n",
       "   'MAR06780',\n",
       "   'MAR06968',\n",
       "   'MAR06969',\n",
       "   'MAR06970',\n",
       "   'MAR06971',\n",
       "   'MAR06972',\n",
       "   'MAR07641',\n",
       "   'MAR07642',\n",
       "   'MAR08626',\n",
       "   'MAR08628',\n",
       "   'MAR04285',\n",
       "   'MAR11565']},\n",
       " [{'id': 'MAR03905',\n",
       "   'reactants': ['MAM01796', 'MAM02552'],\n",
       "   'products': ['MAM01249', 'MAM02039', 'MAM02553'],\n",
       "   'genes': ['ENSG00000196616',\n",
       "    'ENSG00000187758',\n",
       "    'ENSG00000248144',\n",
       "    'ENSG00000196344',\n",
       "    'ENSG00000147576',\n",
       "    'ENSG00000172955',\n",
       "    'ENSG00000180011',\n",
       "    'ENSG00000197894',\n",
       "    'ENSG00000198099'],\n",
       "   'enzymes': ['1.1.1.1', '1.1.1.71']},\n",
       "  {'id': 'MAR03907',\n",
       "   'reactants': ['MAM01796', 'MAM02554'],\n",
       "   'products': ['MAM01249', 'MAM02039', 'MAM02555'],\n",
       "   'genes': ['ENSG00000117448'],\n",
       "   'enzymes': ['1.1.1.2']}],\n",
       " [{'id': 'MAM00101',\n",
       "   'name': '(5Z,8Z,11Z)-eicosatrienoyl-CoA',\n",
       "   'identifiers': [['humanGEM', 'MAM00101'],\n",
       "    ['lipidmaps', 'LMFA07050062'],\n",
       "    ['vmhmetabolite', 'M00101'],\n",
       "    [['metanetx.chemical', 'MNXM47372'], ['metanetx.chemical', 'MNXM488534']]],\n",
       "   'neutral_formula': 'C41H68N7O17P3S',\n",
       "   'charge': -4,\n",
       "   'charged_formula': 'C41H64N7O17P3S',\n",
       "   'neutral_mono_mass': 1055.360526,\n",
       "   'SMILES': '',\n",
       "   'inchi': ''},\n",
       "  {'id': 'MAM00102',\n",
       "   'name': '(5Z,8Z,11Z,14Z,17Z)-eicosapentaenoylcarnitine',\n",
       "   'identifiers': [['humanGEM', 'MAM00102'],\n",
       "    ['bigg.metabolite', 'tmndnccrn'],\n",
       "    ['vmhmetabolite', 'tmndnccrn'],\n",
       "    ['metanetx.chemical', 'MNXM9158']],\n",
       "   'neutral_formula': 'C27H43NO4',\n",
       "   'charge': 0,\n",
       "   'charged_formula': 'C27H43NO4',\n",
       "   'neutral_mono_mass': 445.319209,\n",
       "   'SMILES': '',\n",
       "   'inchi': ''}]]"
      ]
     },
     "execution_count": 25,
     "metadata": {},
     "output_type": "execute_result"
    }
   ],
   "source": [
    "# check output\n",
    "[\n",
    "MM.list_of_pathways[2],\n",
    "MM.list_of_reactions[:2],\n",
    "MM.list_of_compounds[100:102],\n",
    "]"
   ]
  },
  {
   "cell_type": "code",
   "execution_count": 26,
   "metadata": {},
   "outputs": [],
   "source": [
    "output_fdr = \"../testdata/HumanGEM/\""
   ]
  },
  {
   "cell_type": "code",
   "execution_count": 27,
   "metadata": {},
   "outputs": [],
   "source": [
    "import pickle\n",
    "import os\n",
    "\n",
    "# Write pickle file\n",
    "export_pickle(os.path.join(output_fdr,f'{MM.id}.pickle'), MM)"
   ]
  },
  {
   "cell_type": "code",
   "execution_count": 28,
   "metadata": {},
   "outputs": [],
   "source": [
    "# Write json file\n",
    "export_json(os.path.join(output_fdr,f'{MM.id}.json'), MM)"
   ]
  },
  {
   "cell_type": "code",
   "execution_count": 29,
   "metadata": {},
   "outputs": [],
   "source": [
    "# Write dataframe \n",
    "import pandas as pd\n",
    "export_table(os.path.join(output_fdr,f'{MM.id}_list_of_compounds.csv'),MM, 'list_of_compounds')\n",
    "export_table(os.path.join(output_fdr,f'{MM.id}_list_of_reactions.csv'),MM, 'list_of_reactions')\n",
    "export_table(os.path.join(output_fdr,f'{MM.id}_list_of_pathways.csv'),MM, 'list_of_pathways')"
   ]
  },
  {
   "cell_type": "markdown",
   "metadata": {},
   "source": [
    "## Summary\n",
    "\n",
    "This ports reactions, pathways and compounds. Gene and enzyme information is now included. \n",
    "\n",
    "The exported pickle can be re-imported and uploaded to Database easily.\n",
    "\n",
    "This notebook, the pickle file and the JSON file go to GitHub repo (https://github.com/shuzhao-li/Azimuth)."
   ]
  }
 ],
 "metadata": {
  "kernelspec": {
   "display_name": "Python 3 (ipykernel)",
   "language": "python",
   "name": "python3"
  },
  "language_info": {
   "codemirror_mode": {
    "name": "ipython",
    "version": 3
   },
   "file_extension": ".py",
   "mimetype": "text/x-python",
   "name": "python",
   "nbconvert_exporter": "python",
   "pygments_lexer": "ipython3",
   "version": "3.8.5"
  }
 },
 "nbformat": 4,
 "nbformat_minor": 2
}
