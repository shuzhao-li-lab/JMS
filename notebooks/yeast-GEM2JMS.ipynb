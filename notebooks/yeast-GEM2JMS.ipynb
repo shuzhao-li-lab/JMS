{
 "cells": [
  {
   "cell_type": "markdown",
   "metadata": {},
   "source": [
    "# Porting genome scale metabolic models for metabolomics\n",
    "\n",
    "**yeast-GEM as default yeast model, for better compatibility**\n",
    "https://github.com/SysBioChalmers/yeast-GEM\n",
    "\n",
    "**Use cobra to parse SBML models whereas applicable**\n",
    "\n",
    "Not all models comply with the formats in cobra. Models from USCD and Thiele labs should comply.\n",
    "\n",
    "**Base our code on metDataModel**\n",
    "\n",
    "Each model needs a list of Reactions, list of Pathways, and a list of Compounds.\n",
    "It's important to include with Compounds with all linked identifiers to other DBs (HMDB, PubChem, etc), and with formulae (usually charged form in these models) when available.\n",
    "We can alwasy update the data later. E.g. the neural formulae can be inferred from charged formula or retrieved from public metabolite database (e.g., HMDB) if linked.\n",
    "Save in Python pickle and in JSON.\n",
    "\n",
    "**No compartmentalization**\n",
    "- After decompartmentalization,\n",
    "  - transport reactions can be removed - they are identified by reactants and products being the same.\n",
    "  - redundant reactions can be merge - same reactions in diff compartments become one.\n",
    "\n",
    "Shuzhao Li, 2021-10-21|\n",
    "Minghao Gong, 2022-04-25"
   ]
  },
  {
   "cell_type": "code",
   "execution_count": 87,
   "metadata": {
    "scrolled": true
   },
   "outputs": [],
   "source": [
    "# !pip install cobra --user --ignore-installed ruamel.yaml\n",
    "# !pip install --upgrade metDataModel # https://github.com/shuzhao-li/metDataModel/ \n",
    "# !pip install --upgrade numpy pandas"
   ]
  },
  {
   "cell_type": "code",
   "execution_count": 88,
   "metadata": {},
   "outputs": [],
   "source": [
    "import cobra # https://cobrapy.readthedocs.io/en/latest/io.html#SBML\n",
    "from metDataModel.core import Compound, Reaction, Pathway, MetabolicModel\n",
    "import requests\n",
    "import sys\n",
    "\n",
    "sys.path.append(\"/Users/gongm/Documents/projects/mass2chem/\")\n",
    "sys.path.append(\"/Users/gongm/Documents/projects/JMS/JMS/JMS\")\n",
    "from mass2chem.formula import *\n",
    "from jms.formula import *\n",
    "from jms.utils.gems import *"
   ]
  },
  {
   "cell_type": "code",
   "execution_count": 89,
   "metadata": {},
   "outputs": [],
   "source": [
    "# download the most updated yeast-GEM.xml\n",
    "model_name = 'yeast-GEM'\n",
    "xml_url = f'https://github.com/SysBioChalmers/{model_name}/blob/main/model/{model_name}.xml'\n",
    "local_path = output_fdr = f'../testdata/{model_name}/'\n",
    "xml_file_name = f'{model_name}.xml'\n",
    "git_download_from_file(xml_url,local_path,xml_file_name)"
   ]
  },
  {
   "cell_type": "code",
   "execution_count": 90,
   "metadata": {
    "scrolled": true
   },
   "outputs": [],
   "source": [
    "# Read the model via cobra\n",
    "xmlFile = os.path.join(local_path,xml_file_name)\n",
    "model = cobra.io.read_sbml_model(xmlFile)"
   ]
  },
  {
   "cell_type": "code",
   "execution_count": 91,
   "metadata": {
    "scrolled": true
   },
   "outputs": [
    {
     "data": {
      "text/html": [
       "\n",
       "        <table>\n",
       "            <tr>\n",
       "                <td><strong>Name</strong></td>\n",
       "                <td>M_yeastGEM_v8__46__5__46__0</td>\n",
       "            </tr><tr>\n",
       "                <td><strong>Memory address</strong></td>\n",
       "                <td>0x07f8171d66d00</td>\n",
       "            </tr><tr>\n",
       "                <td><strong>Number of metabolites</strong></td>\n",
       "                <td>2742</td>\n",
       "            </tr><tr>\n",
       "                <td><strong>Number of reactions</strong></td>\n",
       "                <td>4058</td>\n",
       "            </tr><tr>\n",
       "                <td><strong>Number of groups</strong></td>\n",
       "                <td>0</td>\n",
       "            </tr><tr>\n",
       "                <td><strong>Objective expression</strong></td>\n",
       "                <td>1.0*r_2111 - 1.0*r_2111_reverse_58b69</td>\n",
       "            </tr><tr>\n",
       "                <td><strong>Compartments</strong></td>\n",
       "                <td>cell envelope, cytoplasm, extracellular, mitochondrion, nucleus, peroxisome, endoplasmic reticulum, Golgi, lipid particle, vacuole, endoplasmic reticulum membrane, vacuolar membrane, Golgi membrane, mitochondrial membrane</td>\n",
       "            </tr>\n",
       "          </table>"
      ],
      "text/plain": [
       "<Model M_yeastGEM_v8__46__5__46__0 at 0x7f8171d66d00>"
      ]
     },
     "execution_count": 91,
     "metadata": {},
     "output_type": "execute_result"
    }
   ],
   "source": [
    "model"
   ]
  },
  {
   "cell_type": "code",
   "execution_count": 92,
   "metadata": {},
   "outputs": [
    {
     "data": {
      "text/html": [
       "\n",
       "        <table>\n",
       "            <tr>\n",
       "                <td><strong>Metabolite identifier</strong></td><td>s_1260[c]</td>\n",
       "            </tr><tr>\n",
       "                <td><strong>Name</strong></td><td>oleate [cytoplasm]</td>\n",
       "            </tr><tr>\n",
       "                <td><strong>Memory address</strong></td>\n",
       "                <td>0x07f816e1fda90</td>\n",
       "            </tr><tr>\n",
       "                <td><strong>Formula</strong></td><td>C18H33O2</td>\n",
       "            </tr><tr>\n",
       "                <td><strong>Compartment</strong></td><td>c</td>\n",
       "            </tr><tr>\n",
       "                <td><strong>In 8 reaction(s)</strong></td><td>\n",
       "                    r_4309, r_3611, r_3513, r_3978, r_2231, r_2192, r_3574, r_4613</td>\n",
       "            </tr>\n",
       "        </table>"
      ],
      "text/plain": [
       "<Metabolite s_1260[c] at 0x7f816e1fda90>"
      ]
     },
     "execution_count": 92,
     "metadata": {},
     "output_type": "execute_result"
    }
   ],
   "source": [
    "# metabolite entries, readily convert to list of metabolites\n",
    "model.metabolites[990] "
   ]
  },
  {
   "cell_type": "code",
   "execution_count": 93,
   "metadata": {
    "scrolled": true
   },
   "outputs": [
    {
     "data": {
      "text/html": [
       "\n",
       "        <table>\n",
       "            <tr>\n",
       "                <td><strong>Reaction identifier</strong></td><td>r_0039</td>\n",
       "            </tr><tr>\n",
       "                <td><strong>Name</strong></td><td>3-dehydroquinate dehydratase</td>\n",
       "            </tr><tr>\n",
       "                <td><strong>Memory address</strong></td>\n",
       "                <td>0x07f8174728c40</td>\n",
       "            </tr><tr>\n",
       "                <td><strong>Stoichiometry</strong></td>\n",
       "                <td>\n",
       "                    <p style='text-align:right'>s_0210[c] --> s_0211[c] + s_0803[c]</p>\n",
       "                    <p style='text-align:right'>3-dehydroquinate [cytoplasm] --> 3-dehydroshikimate [cytoplasm] + H2O [cytoplasm]</p>\n",
       "                </td>\n",
       "            </tr><tr>\n",
       "                <td><strong>GPR</strong></td><td>YDR127W</td>\n",
       "            </tr><tr>\n",
       "                <td><strong>Lower bound</strong></td><td>0.0</td>\n",
       "            </tr><tr>\n",
       "                <td><strong>Upper bound</strong></td><td>1000.0</td>\n",
       "            </tr>\n",
       "        </table>\n",
       "        "
      ],
      "text/plain": [
       "<Reaction r_0039 at 0x7f8174728c40>"
      ]
     },
     "execution_count": 93,
     "metadata": {},
     "output_type": "execute_result"
    }
   ],
   "source": [
    "# reaction entries, Readily convert to list of reactions\n",
    "model.reactions[33]"
   ]
  },
  {
   "cell_type": "markdown",
   "metadata": {},
   "source": [
    "# There are no group/pathway information in this "
   ]
  },
  {
   "cell_type": "code",
   "execution_count": 94,
   "metadata": {},
   "outputs": [
    {
     "data": {
      "text/plain": [
       "{'sbo': ['SBO:0000247'],\n",
       " 'bigg.metabolite': 'ocdcea',\n",
       " 'chebi': 'CHEBI:30823',\n",
       " 'kegg.compound': 'C00712',\n",
       " 'metanetx.chemical': 'MNXM306'}"
      ]
     },
     "execution_count": 94,
     "metadata": {},
     "output_type": "execute_result"
    }
   ],
   "source": [
    "model.metabolites[990].annotation"
   ]
  },
  {
   "cell_type": "markdown",
   "metadata": {},
   "source": [
    "## Port metabolite"
   ]
  },
  {
   "cell_type": "code",
   "execution_count": 95,
   "metadata": {
    "scrolled": true
   },
   "outputs": [],
   "source": [
    "def port_metabolite(M):\n",
    "    # convert cobra Metabolite to metDataModel Compound\n",
    "    Cpd = Compound()\n",
    "    Cpd.src_id = remove_compartment_by_split(M.id,'[')\n",
    "    Cpd.id = remove_compartment_by_split(M.id,'[')              # temporarily the same with the source id\n",
    "    Cpd.name = M.name\n",
    "    Cpd.charge = M.charge\n",
    "    Cpd.neutral_formula = adjust_charge_in_formula(M.formula,M.charge)\n",
    "    Cpd.neutral_mono_mass = neutral_formula2mass(Cpd.neutral_formula)\n",
    "    Cpd.charged_formula = M.formula\n",
    "    Cpd.db_ids = [[model_name,Cpd.src_id]] # using src_id to also reference yeast-GEM ID in db_ids field\n",
    "    for k,v in M.annotation.items():\n",
    "        if k != 'sbo':\n",
    "            if isinstance(v,list):\n",
    "                Cpd.db_ids.append([[k,x] for x in v])\n",
    "            else: \n",
    "                if \":\" in v:\n",
    "                    Cpd.db_ids.append([k,v.split(\":\")[1]])\n",
    "                else:\n",
    "                    Cpd.db_ids.append([k,v])\n",
    "    \n",
    "    inchi_list = [x[1].split('=')[1] for x in Cpd.db_ids if x[0] == 'inchi']\n",
    "    if len(inchi_list) ==1:\n",
    "        Cpd.inchi = inchi_list[0]\n",
    "    elif len(inchi_list) >1:\n",
    "        Cpd.inchi = inchi_list\n",
    "        \n",
    "    return Cpd"
   ]
  },
  {
   "cell_type": "code",
   "execution_count": 96,
   "metadata": {
    "scrolled": false
   },
   "outputs": [],
   "source": [
    "myCpds = []\n",
    "for i in range(len(model.metabolites)):\n",
    "    myCpds.append(port_metabolite(model.metabolites[i]))"
   ]
  },
  {
   "cell_type": "code",
   "execution_count": 97,
   "metadata": {},
   "outputs": [
    {
     "data": {
      "text/plain": [
       "2742"
      ]
     },
     "execution_count": 97,
     "metadata": {},
     "output_type": "execute_result"
    }
   ],
   "source": [
    "len(myCpds)"
   ]
  },
  {
   "cell_type": "code",
   "execution_count": 98,
   "metadata": {},
   "outputs": [],
   "source": [
    "# remove duplicated compounds\n",
    "myCpds = remove_duplicate_cpd(myCpds)"
   ]
  },
  {
   "cell_type": "code",
   "execution_count": 99,
   "metadata": {
    "scrolled": false
   },
   "outputs": [
    {
     "data": {
      "text/plain": [
       "{'internal_id': '',\n",
       " 'id': 's_0154',\n",
       " 'name': '2-hexaprenyl-5-hydroxy-6-methoxy-3-methyl-1,4-benzoquinone [mitochondrion]',\n",
       " 'db_ids': [['yeast-GEM', 's_0154'],\n",
       "  ['bigg.metabolite', '2hpmhmbq'],\n",
       "  ['chebi', '28753'],\n",
       "  ['kegg.compound', 'C05805'],\n",
       "  ['metanetx.chemical', 'MNXM5466']],\n",
       " 'neutral_formula': 'C38H56O4',\n",
       " 'neutral_mono_mass': 576.41786,\n",
       " 'charge': 0,\n",
       " 'charged_formula': 'C38H56O4',\n",
       " 'SMILES': '',\n",
       " 'inchi': '',\n",
       " 'src_id': 's_0154'}"
      ]
     },
     "execution_count": 99,
     "metadata": {},
     "output_type": "execute_result"
    }
   ],
   "source": [
    "myCpds[100].__dict__"
   ]
  },
  {
   "cell_type": "code",
   "execution_count": 100,
   "metadata": {
    "scrolled": true
   },
   "outputs": [
    {
     "data": {
      "text/plain": [
       "2742"
      ]
     },
     "execution_count": 100,
     "metadata": {},
     "output_type": "execute_result"
    }
   ],
   "source": [
    "len(myCpds)"
   ]
  },
  {
   "cell_type": "markdown",
   "metadata": {
    "scrolled": true
   },
   "source": [
    "# there are no metabolite.tsv in yeast-GEM"
   ]
  },
  {
   "cell_type": "markdown",
   "metadata": {},
   "source": [
    "## Port reactions"
   ]
  },
  {
   "cell_type": "code",
   "execution_count": 101,
   "metadata": {},
   "outputs": [
    {
     "data": {
      "text/plain": [
       "['r_0223',\n",
       " ['s_0394', 's_0785', 's_0794'],\n",
       " ['s_1284', 's_1322'],\n",
       " ['YCL050C'],\n",
       " ['2.7.7.5', '2.7.7.53']]"
      ]
     },
     "execution_count": 101,
     "metadata": {},
     "output_type": "execute_result"
    }
   ],
   "source": [
    "# port reactions, to include genes and enzymes\n",
    "def port_reaction(R):\n",
    "    new = Reaction()\n",
    "    new.id = R.id\n",
    "    new.reactants = [remove_compartment_by_split(m.id,'[') for m in R.reactants] # decompartmentalization\n",
    "    new.products = [remove_compartment_by_split(m.id,'[') for m in R.products]   # decompartmentalization\n",
    "    new.genes = [g.id for g in R.genes]\n",
    "    ecs = R.annotation.get('ec-code', [])\n",
    "    if isinstance(ecs, list):\n",
    "        new.enzymes = ecs\n",
    "    else:\n",
    "        new.enzymes = [ecs]       # this version of yeast-GEM may have it as string\n",
    "    return new\n",
    "\n",
    "test99 = port_reaction(model.reactions[199])\n",
    "[test99.id,\n",
    " test99.reactants,\n",
    " test99.products,\n",
    " test99.genes,\n",
    " test99.enzymes\n",
    "]"
   ]
  },
  {
   "cell_type": "code",
   "execution_count": 102,
   "metadata": {
    "scrolled": true
   },
   "outputs": [
    {
     "name": "stdout",
     "output_type": "stream",
     "text": [
      "4058\n"
     ]
    }
   ],
   "source": [
    "## Reactions to port\n",
    "myRxns = []\n",
    "for R in model.reactions:\n",
    "    myRxns.append( port_reaction(R) )\n",
    "    \n",
    "print(len(myRxns))"
   ]
  },
  {
   "cell_type": "code",
   "execution_count": 103,
   "metadata": {},
   "outputs": [],
   "source": [
    "# remove duplicated reactions after decompartmentalization\n",
    "myRxns = remove_duplicate_rxn(myRxns)"
   ]
  },
  {
   "cell_type": "code",
   "execution_count": 104,
   "metadata": {},
   "outputs": [
    {
     "data": {
      "text/plain": [
       "4058"
      ]
     },
     "execution_count": 104,
     "metadata": {},
     "output_type": "execute_result"
    }
   ],
   "source": [
    "len(myRxns)"
   ]
  },
  {
   "cell_type": "code",
   "execution_count": 105,
   "metadata": {
    "scrolled": true
   },
   "outputs": [
    {
     "data": {
      "text/plain": [
       "{'azimuth_id': '',\n",
       " 'id': 'r_0001',\n",
       " 'source': [],\n",
       " 'version': '',\n",
       " 'status': '',\n",
       " 'reactants': ['s_0025', 's_0709'],\n",
       " 'products': ['s_0710', 's_1399'],\n",
       " 'enzymes': ['1.1.2.4', '1.1.99.-'],\n",
       " 'genes': ['YEL071W', 'YEL039C', 'YDL174C', 'YJR048W'],\n",
       " 'pathways': [],\n",
       " 'ontologies': [],\n",
       " 'species': '',\n",
       " 'compartments': [],\n",
       " 'cell_types': [],\n",
       " 'tissues': []}"
      ]
     },
     "execution_count": 105,
     "metadata": {},
     "output_type": "execute_result"
    }
   ],
   "source": [
    "myRxns[0].__dict__"
   ]
  },
  {
   "cell_type": "markdown",
   "metadata": {},
   "source": [
    "## No pathway information for yeast"
   ]
  },
  {
   "cell_type": "markdown",
   "metadata": {},
   "source": [
    "## Collected data; now output"
   ]
  },
  {
   "cell_type": "code",
   "execution_count": 106,
   "metadata": {},
   "outputs": [],
   "source": [
    "from datetime import datetime\n",
    "today =  str(datetime.today()).split(\" \")[0]"
   ]
  },
  {
   "cell_type": "code",
   "execution_count": 107,
   "metadata": {
    "scrolled": true
   },
   "outputs": [
    {
     "data": {
      "text/plain": [
       "'2022-04-26'"
      ]
     },
     "execution_count": 107,
     "metadata": {},
     "output_type": "execute_result"
    }
   ],
   "source": [
    "today"
   ]
  },
  {
   "cell_type": "code",
   "execution_count": 108,
   "metadata": {},
   "outputs": [],
   "source": [
    "note = f\"\"\"{model_name} compartmentalized, with genes and ECs.\"\"\"\n",
    "\n",
    "## metabolicModel to export\n",
    "MM = MetabolicModel()\n",
    "MM.id = f'az_{model_name}_{today}' #\n",
    "MM.meta_data = {\n",
    "            'species': model_name.split('-')[0],\n",
    "            'version': '',\n",
    "            'sources': [f'https://github.com/SysBioChalmers/{model_name}, retrieved {today}'], #\n",
    "            'status': '',\n",
    "            'last_update': today,  #\n",
    "            'note': note,\n",
    "        }\n",
    "MM.list_of_reactions = [R.serialize() for R in  myRxns]\n",
    "MM.list_of_compounds = [C.serialize() for C in myCpds]"
   ]
  },
  {
   "cell_type": "code",
   "execution_count": 109,
   "metadata": {
    "scrolled": true
   },
   "outputs": [
    {
     "data": {
      "text/plain": [
       "[[{'id': 'r_0001',\n",
       "   'reactants': ['s_0025', 's_0709'],\n",
       "   'products': ['s_0710', 's_1399'],\n",
       "   'genes': ['YEL071W', 'YEL039C', 'YDL174C', 'YJR048W'],\n",
       "   'enzymes': ['1.1.2.4', '1.1.99.-']},\n",
       "  {'id': 'r_0002',\n",
       "   'reactants': ['s_0027', 's_0709'],\n",
       "   'products': ['s_0710', 's_1401'],\n",
       "   'genes': ['YDL178W', 'YEL039C', 'YJR048W'],\n",
       "   'enzymes': ['1.1.2.4', '1.1.99.-']}],\n",
       " [{'id': 's_0154',\n",
       "   'name': '2-hexaprenyl-5-hydroxy-6-methoxy-3-methyl-1,4-benzoquinone [mitochondrion]',\n",
       "   'identifiers': [['yeast-GEM', 's_0154'],\n",
       "    ['bigg.metabolite', '2hpmhmbq'],\n",
       "    ['chebi', '28753'],\n",
       "    ['kegg.compound', 'C05805'],\n",
       "    ['metanetx.chemical', 'MNXM5466']],\n",
       "   'neutral_formula': 'C38H56O4',\n",
       "   'charge': 0,\n",
       "   'charged_formula': 'C38H56O4',\n",
       "   'neutral_mono_mass': 576.41786,\n",
       "   'SMILES': '',\n",
       "   'inchi': ''},\n",
       "  {'id': 's_0155',\n",
       "   'name': '2-hexaprenyl-6-methoxy-1,4-benzoquinone [mitochondrion]',\n",
       "   'identifiers': [['yeast-GEM', 's_0155'],\n",
       "    ['bigg.metabolite', '2hp6mbq'],\n",
       "    ['chebi', '27752'],\n",
       "    ['kegg.compound', 'C05803'],\n",
       "    ['metanetx.chemical', 'MNXM6707']],\n",
       "   'neutral_formula': 'C37H54O3',\n",
       "   'charge': 0,\n",
       "   'charged_formula': 'C37H54O3',\n",
       "   'neutral_mono_mass': 546.407296,\n",
       "   'SMILES': '',\n",
       "   'inchi': ''}]]"
      ]
     },
     "execution_count": 109,
     "metadata": {},
     "output_type": "execute_result"
    }
   ],
   "source": [
    "# check output\n",
    "[\n",
    "MM.list_of_reactions[:2],\n",
    "MM.list_of_compounds[100:102],\n",
    "]"
   ]
  },
  {
   "cell_type": "code",
   "execution_count": 110,
   "metadata": {},
   "outputs": [],
   "source": [
    "import pickle\n",
    "import os\n",
    "\n",
    "# Write pickle file\n",
    "export_pickle(os.path.join(output_fdr,f'{MM.id}.pickle'), MM)"
   ]
  },
  {
   "cell_type": "code",
   "execution_count": 111,
   "metadata": {},
   "outputs": [],
   "source": [
    "# Write json file\n",
    "export_json(os.path.join(output_fdr,f'{MM.id}.json'), MM)"
   ]
  },
  {
   "cell_type": "code",
   "execution_count": 112,
   "metadata": {},
   "outputs": [],
   "source": [
    "# Write dataframe \n",
    "import pandas as pd\n",
    "export_table(os.path.join(output_fdr,f'{MM.id}_list_of_compounds.csv'),MM, 'list_of_compounds')\n",
    "export_table(os.path.join(output_fdr,f'{MM.id}_list_of_reactions.csv'),MM, 'list_of_reactions')\n",
    "#export_table(os.path.join(output_fdr,f'{MM.id}_list_of_pathways.csv'),MM, 'list_of_pathways')"
   ]
  },
  {
   "cell_type": "markdown",
   "metadata": {},
   "source": [
    "## Summary\n",
    "\n",
    "This ports reactions, pathways and compounds. Gene and enzyme information is now included. \n",
    "\n",
    "The exported pickle can be re-imported and uploaded to Database easily.\n",
    "\n",
    "This notebook, the pickle file and the JSON file go to GitHub repo (https://github.com/shuzhao-li/Azimuth)."
   ]
  }
 ],
 "metadata": {
  "kernelspec": {
   "display_name": "Python 3 (ipykernel)",
   "language": "python",
   "name": "python3"
  },
  "language_info": {
   "codemirror_mode": {
    "name": "ipython",
    "version": 3
   },
   "file_extension": ".py",
   "mimetype": "text/x-python",
   "name": "python",
   "nbconvert_exporter": "python",
   "pygments_lexer": "ipython3",
   "version": "3.8.5"
  }
 },
 "nbformat": 4,
 "nbformat_minor": 2
}
