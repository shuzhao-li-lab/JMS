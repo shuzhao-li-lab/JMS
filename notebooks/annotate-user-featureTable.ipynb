{
 "cells": [
  {
   "cell_type": "markdown",
   "metadata": {},
   "source": [
    "# Demo to annotate user feature table using JMS\n",
    "\n",
    "Any feature table from XCMS or other tools can be annotated using JMS.\n",
    "\n",
    "\n",
    "Json's Metabolite Services (JMS):\n",
    "https://github.com/shuzhao-li/JMS\n",
    "\n",
    "\n",
    "SL 2022-02-27"
   ]
  },
  {
   "cell_type": "code",
   "execution_count": 1,
   "metadata": {},
   "outputs": [
    {
     "name": "stdout",
     "output_type": "stream",
     "text": [
      "Requirement already up-to-date: mass2chem in /opt/conda/lib/python3.7/site-packages (0.3.0)\n",
      "Requirement already up-to-date: jms-metabolite-services in /opt/conda/lib/python3.7/site-packages (0.3.2)\n",
      "Requirement already satisfied, skipping upgrade: scipy in /opt/conda/lib/python3.7/site-packages (from mass2chem) (1.3.1)\n",
      "Requirement already satisfied, skipping upgrade: numpy in /opt/conda/lib/python3.7/site-packages (from mass2chem) (1.17.2)\n"
     ]
    }
   ],
   "source": [
    "# install packages\n",
    "!pip install --upgrade mass2chem jms-metabolite-services"
   ]
  },
  {
   "cell_type": "code",
   "execution_count": 2,
   "metadata": {},
   "outputs": [],
   "source": [
    "# to run from local source without pip install\n",
    "# import sys\n",
    "# clone from GitHub\n",
    "# https://github.com/shuzhao-li/JMS.git\n",
    "# move jms folder to this working dir\n",
    "\n",
    "# sys.path.append('jms')\n",
    "# sys.path.append('mass2chem')"
   ]
  },
  {
   "cell_type": "code",
   "execution_count": 3,
   "metadata": {},
   "outputs": [],
   "source": [
    "import json\n",
    "\n",
    "from mass2chem.epdsConstructor import epdsConstructor\n",
    "\n",
    "from jms.dbStructures import ExperimentalEcpdDatabase, knownCompoundDatabase\n",
    "from jms.io import read_table_to_peaks"
   ]
  },
  {
   "cell_type": "code",
   "execution_count": 4,
   "metadata": {},
   "outputs": [
    {
     "data": {
      "text/plain": [
       "'\\nm/z\\tretention_time\\tp-value\\tt-score\\tcustom_id\\n85.0278\\t59\\t0.00265721703609\\t-3.55\\tAE_pos_85.0278_59\\n85.0472\\t124\\t0.730810186297\\t-0.35\\tAE_pos_85.0472_124\\n85.0653\\t68\\t0.0865089499162\\t1.83\\tAE_pos_85.0653_68\\n85.1007\\t16\\t0.0579161231675\\t-2.04\\tAE_pos_85.1007_16\\n86.0595\\t67\\t0.0767887441614\\t-1.89\\tAE_pos_86.0595_67\\n'"
      ]
     },
     "execution_count": 4,
     "metadata": {},
     "output_type": "execute_result"
    }
   ],
   "source": [
    "# same test file from https://github.com/shuzhao-li/mummichog/tree/master/mummichog/tests\n",
    "myTable = 'testdata0710.txt'\n",
    "\n",
    "'''\n",
    "m/z\tretention_time\tp-value\tt-score\tcustom_id\n",
    "85.0278\t59\t0.00265721703609\t-3.55\tAE_pos_85.0278_59\n",
    "85.0472\t124\t0.730810186297\t-0.35\tAE_pos_85.0472_124\n",
    "85.0653\t68\t0.0865089499162\t1.83\tAE_pos_85.0653_68\n",
    "85.1007\t16\t0.0579161231675\t-2.04\tAE_pos_85.1007_16\n",
    "86.0595\t67\t0.0767887441614\t-1.89\tAE_pos_86.0595_67\n",
    "'''"
   ]
  },
  {
   "cell_type": "code",
   "execution_count": 5,
   "metadata": {},
   "outputs": [
    {
     "name": "stdout",
     "output_type": "stream",
     "text": [
      "7995 {'id_number': 'AE_pos_144.0564_110\\n', 'mz': 144.0564, 'rtime': 110.0, 'apex': 110.0}\n"
     ]
    }
   ],
   "source": [
    "list_peaks = read_table_to_peaks(myTable, \n",
    "                                has_header=True, mz_col=0, rtime_col=1, feature_id=4,\n",
    "                                )\n",
    "print(len(list_peaks), list_peaks[555])"
   ]
  },
  {
   "cell_type": "code",
   "execution_count": 6,
   "metadata": {},
   "outputs": [
    {
     "name": "stdout",
     "output_type": "stream",
     "text": [
      "\n",
      "\n",
      "Annotating empirical compounds on 7995 features/peaks, ...\n",
      "epdsConstructor - numbers of seeded epds and included peaks:  (926, 1965)\n"
     ]
    }
   ],
   "source": [
    "# empCpd function by mass2chem.epdsConstructor\n",
    "\n",
    "ECCON = epdsConstructor(list_peaks, mode='pos')\n",
    "dict_empCpds = ECCON.peaks_to_epdDict(\n",
    "            seed_search_patterns = ECCON.seed_search_patterns, \n",
    "            ext_search_patterns = ECCON.ext_search_patterns,\n",
    "            mz_tolerance_ppm=5, \n",
    "            coelution_function='distance',\n",
    "            check_isotope_ratio = False\n",
    "            ) "
   ]
  },
  {
   "cell_type": "code",
   "execution_count": 7,
   "metadata": {},
   "outputs": [
    {
     "data": {
      "text/plain": [
       "{'interim_id': 55,\n",
       " 'neutral_formula_mass': None,\n",
       " 'neutral_formula': None,\n",
       " 'Database_referred': [],\n",
       " 'identity': [],\n",
       " 'MS1_pseudo_Spectra': [{'id_number': 'AE_pos_167.9628_28\\n',\n",
       "   'mz': 167.9628,\n",
       "   'rtime': 28.0,\n",
       "   'apex': 28.0,\n",
       "   'ion_relation': 'anchor'},\n",
       "  {'id_number': 'AE_pos_168.9658_26\\n',\n",
       "   'mz': 168.9658,\n",
       "   'rtime': 26.0,\n",
       "   'apex': 26.0,\n",
       "   'ion_relation': '13C/12C'},\n",
       "  {'id_number': 'AE_pos_208.9894_29\\n',\n",
       "   'mz': 208.9894,\n",
       "   'rtime': 29.0,\n",
       "   'apex': 29.0,\n",
       "   'ion_relation': 'anchor,+H2O'}],\n",
       " 'MS2_Spectra': []}"
      ]
     },
     "execution_count": 7,
     "metadata": {},
     "output_type": "execute_result"
    }
   ],
   "source": [
    "dict_empCpds[55]"
   ]
  },
  {
   "cell_type": "code",
   "execution_count": 8,
   "metadata": {},
   "outputs": [],
   "source": [
    "EED = ExperimentalEcpdDatabase(mode='pos')\n",
    "EED.dict_empCpds = dict_empCpds\n",
    "EED.index_empCpds()"
   ]
  },
  {
   "cell_type": "markdown",
   "metadata": {},
   "source": [
    "## load knownCompoundDatabase"
   ]
  },
  {
   "cell_type": "code",
   "execution_count": 9,
   "metadata": {},
   "outputs": [],
   "source": [
    "KCD = knownCompoundDatabase()\n",
    "\n",
    "# one may need to decompress the file list_compounds_HMDB4.json by:\n",
    "# xz -d list_compounds_HMDB4.json.xz\n",
    "\n",
    "list_compounds = json.load(open('jms/data/compounds/list_compounds_HMDB4.json'))\n",
    "KCD.mass_index_list_compounds(list_compounds)\n",
    "KCD.build_emp_cpds_index()"
   ]
  },
  {
   "cell_type": "code",
   "execution_count": 10,
   "metadata": {},
   "outputs": [
    {
     "data": {
      "text/plain": [
       "{'interim_id': 'C8H13N2O2_169.097154',\n",
       " 'neutral_formula': 'C8H13N2O2',\n",
       " 'neutral_formula_mass': 169.097154087,\n",
       " 'compounds': [{'primary_id': 'HMDB0062696',\n",
       "   'primary_db': 'HMDB',\n",
       "   'name': 'Pyridoxaminium(1+)',\n",
       "   'neutral_formula': 'C8H13N2O2',\n",
       "   'neutral_formula_mass': 169.097154087,\n",
       "   'SMILES': 'CC1=C(O)C(C[NH3+])=C(CO)C=N1',\n",
       "   'inchikey': 'NHZMQXZHNVQTQA-UHFFFAOYSA-O',\n",
       "   'other_ids': {'PubChem': '25245492', 'KEGG': '', 'ChEBI': '57761'}}]}"
      ]
     },
     "execution_count": 10,
     "metadata": {},
     "output_type": "execute_result"
    }
   ],
   "source": [
    "list(KCD.mass_indexed_compounds.values())[2222]"
   ]
  },
  {
   "cell_type": "markdown",
   "metadata": {},
   "source": [
    "## Annoate"
   ]
  },
  {
   "cell_type": "code",
   "execution_count": 11,
   "metadata": {},
   "outputs": [],
   "source": [
    "EED.extend_empCpd_annotation(KCD)\n",
    "EED.annotate_singletons(KCD)"
   ]
  },
  {
   "cell_type": "code",
   "execution_count": 12,
   "metadata": {},
   "outputs": [
    {
     "data": {
      "text/plain": [
       "(200,\n",
       " {'interim_id': 200,\n",
       "  'neutral_formula_mass': 441.139681375,\n",
       "  'neutral_formula': 'C19H19N7O6',\n",
       "  'Database_referred': [],\n",
       "  'identity': [],\n",
       "  'MS1_pseudo_Spectra': [{'id_number': 'AE_pos_464.127_161\\n',\n",
       "    'mz': 464.127,\n",
       "    'rtime': 161.0,\n",
       "    'apex': 161.0,\n",
       "    'ion_relation': 'anchor',\n",
       "    'parent_epd_id': 200},\n",
       "   {'id_number': 'AE_pos_465.1294_161\\n',\n",
       "    'mz': 465.1294,\n",
       "    'rtime': 161.0,\n",
       "    'apex': 161.0,\n",
       "    'ion_relation': '13C/12C',\n",
       "    'parent_epd_id': 200},\n",
       "   {'id_number': 'AE_pos_486.1088_161\\n',\n",
       "    'mz': 486.1088,\n",
       "    'rtime': 161.0,\n",
       "    'apex': 161.0,\n",
       "    'ion_relation': 'Na/H',\n",
       "    'parent_epd_id': 200}],\n",
       "  'MS2_Spectra': [],\n",
       "  'list_matches': [('C19H19N7O6_441.139681', 'M+Na[1+]', 1),\n",
       "   ('C19H27N3O5S2_441.139212', 'M+Na[1+]', 1)]})"
      ]
     },
     "execution_count": 12,
     "metadata": {},
     "output_type": "execute_result"
    }
   ],
   "source": [
    "list(EED.dict_empCpds.items())[200]"
   ]
  },
  {
   "cell_type": "code",
   "execution_count": 15,
   "metadata": {},
   "outputs": [],
   "source": [
    "# Export a JSON file\n",
    "# cls=NpEncoder,\n",
    "outfile = '_my_JSON_empCpds.json'\n",
    "with open(outfile, 'w', encoding='utf-8') as f:\n",
    "    json.dump(EED.dict_empCpds, f, ensure_ascii=False, indent=2)"
   ]
  },
  {
   "cell_type": "markdown",
   "metadata": {},
   "source": [
    "## Summary\n",
    "\n",
    "The JMS package deals with empCpd grouping in both DB derived and experiment derived data.\n",
    "\n",
    "The default method uses peak parameters from asari, but user supplied feature tables can be annotated in demo here.\n"
   ]
  }
 ],
 "metadata": {
  "kernelspec": {
   "display_name": "Python 3",
   "language": "python",
   "name": "python3"
  },
  "language_info": {
   "codemirror_mode": {
    "name": "ipython",
    "version": 3
   },
   "file_extension": ".py",
   "mimetype": "text/x-python",
   "name": "python",
   "nbconvert_exporter": "python",
   "pygments_lexer": "ipython3",
   "version": "3.7.3"
  }
 },
 "nbformat": 4,
 "nbformat_minor": 2
}
