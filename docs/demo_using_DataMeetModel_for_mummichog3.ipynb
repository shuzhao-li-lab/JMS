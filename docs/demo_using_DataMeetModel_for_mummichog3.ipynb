{
 "cells": [
  {
   "cell_type": "markdown",
   "metadata": {},
   "source": [
    "# Dev JMS to mcg3\n",
    "\n"
   ]
  },
  {
   "cell_type": "code",
   "execution_count": 1,
   "metadata": {},
   "outputs": [
    {
     "name": "stdout",
     "output_type": "stream",
     "text": [
      "Requirement already up-to-date: jms-metabolite-services in /opt/conda/lib/python3.7/site-packages (0.5.4)\n",
      "Requirement already up-to-date: khipu-metabolomics in /opt/conda/lib/python3.7/site-packages (0.6.0)\n",
      "Requirement already satisfied, skipping upgrade: mass2chem in /opt/conda/lib/python3.7/site-packages (from jms-metabolite-services) (0.4.4)\n",
      "Requirement already satisfied, skipping upgrade: networkx in /opt/conda/lib/python3.7/site-packages (from khipu-metabolomics) (2.3)\n",
      "Requirement already satisfied, skipping upgrade: treelib in /opt/conda/lib/python3.7/site-packages (from khipu-metabolomics) (1.6.4)\n",
      "Requirement already satisfied, skipping upgrade: numpy in /opt/conda/lib/python3.7/site-packages (from mass2chem->jms-metabolite-services) (1.17.2)\n",
      "Requirement already satisfied, skipping upgrade: scipy in /opt/conda/lib/python3.7/site-packages (from mass2chem->jms-metabolite-services) (1.3.1)\n",
      "Requirement already satisfied, skipping upgrade: decorator>=4.3.0 in /opt/conda/lib/python3.7/site-packages (from networkx->khipu-metabolomics) (4.4.0)\n",
      "Requirement already satisfied, skipping upgrade: six in /opt/conda/lib/python3.7/site-packages (from treelib->khipu-metabolomics) (1.12.0)\n"
     ]
    }
   ],
   "source": [
    "!pip install --upgrade jms-metabolite-services khipu-metabolomics"
   ]
  },
  {
   "cell_type": "code",
   "execution_count": 2,
   "metadata": {},
   "outputs": [],
   "source": [
    "import json\n",
    "from khipu.epdsConstructor import epdsConstructor\n",
    "from jms.dbStructures import knownCompoundDatabase, ExperimentalEcpdDatabase\n",
    "from jms.io import read_table_to_peaks\n",
    "from jms.modelConvert import convert_json_model, DataMeetModel"
   ]
  },
  {
   "cell_type": "code",
   "execution_count": 3,
   "metadata": {},
   "outputs": [
    {
     "name": "stdout",
     "output_type": "stream",
     "text": [
      "dict_keys(['id', 'list_of_reactions', 'list_of_compounds', 'list_of_pathways', 'meta_data'])\n"
     ]
    },
    {
     "data": {
      "text/plain": [
       "dict_keys(['id', 'version', 'Compounds', 'dict_cpds_def', 'metabolic_rxns', 'cpd_edges', 'edge2rxn', 'edge2enzyme', 'metabolic_pathways', 'cpd2pathways'])"
      ]
     },
     "execution_count": 3,
     "metadata": {},
     "output_type": "execute_result"
    }
   ],
   "source": [
    "_m = json.load(open('metabolicModel_az_HumanGEM_20220302_noCompartmentalization.json'))\n",
    "print(_m.keys())\n",
    "mmodel = convert_json_model(_m)\n",
    "mmodel.keys()"
   ]
  },
  {
   "cell_type": "code",
   "execution_count": 4,
   "metadata": {},
   "outputs": [
    {
     "data": {
      "text/plain": [
       "{'id': 'MAM00006',\n",
       " 'name': '(11Z)-docosenoyl-CoA',\n",
       " 'identifiers': [['humanGEM', 'MAM00006'], ['vmhmetabolite', 'M00006']],\n",
       " 'neutral_formula': 'C43H76N7O17P3S',\n",
       " 'charge': -4,\n",
       " 'charged_formula': 'C43H72N7O17P3S',\n",
       " 'neutral_mono_mass': 1087.42312618056,\n",
       " 'SMILES': '',\n",
       " 'inchi': '',\n",
       " 'neutral_formula_mass': 1087.42312618056}"
      ]
     },
     "execution_count": 4,
     "metadata": {},
     "output_type": "execute_result"
    }
   ],
   "source": [
    "list(mmodel['Compounds'].values())[5]"
   ]
  },
  {
   "cell_type": "code",
   "execution_count": 5,
   "metadata": {},
   "outputs": [
    {
     "name": "stdout",
     "output_type": "stream",
     "text": [
      "2120\n"
     ]
    }
   ],
   "source": [
    "masses = [v['neutral_formula_mass'] for v in mmodel['Compounds'].values()]\n",
    "masses = sorted(list(set(masses)))\n",
    "print(len(masses))\n"
   ]
  },
  {
   "cell_type": "code",
   "execution_count": 6,
   "metadata": {},
   "outputs": [
    {
     "name": "stdout",
     "output_type": "stream",
     "text": [
      "1748\n"
     ]
    }
   ],
   "source": [
    "masses = [x for x in masses if 80 < x < 1000]\n",
    "print(len(masses))"
   ]
  },
  {
   "cell_type": "code",
   "execution_count": 7,
   "metadata": {},
   "outputs": [
    {
     "data": {
      "text/plain": [
       "[161.04767846897,\n",
       " 161.06880783691003,\n",
       " 161.10519334614003,\n",
       " 161.90421231733998,\n",
       " 162.01643791062003]"
      ]
     },
     "execution_count": 7,
     "metadata": {},
     "output_type": "execute_result"
    }
   ],
   "source": [
    "masses[200: 205]"
   ]
  },
  {
   "cell_type": "code",
   "execution_count": 8,
   "metadata": {},
   "outputs": [
    {
     "data": {
      "text/plain": [
       "3384"
      ]
     },
     "execution_count": 8,
     "metadata": {},
     "output_type": "execute_result"
    }
   ],
   "source": [
    "len(mmodel['Compounds'])"
   ]
  },
  {
   "cell_type": "markdown",
   "metadata": {},
   "source": [
    "## Peek how KCD works\n",
    "\n",
    "Not needed as KCD is used inside DataMeetModel "
   ]
  },
  {
   "cell_type": "code",
   "execution_count": 9,
   "metadata": {},
   "outputs": [],
   "source": [
    "KCD = knownCompoundDatabase()\n",
    "KCD.mass_index_list_compounds(mmodel['Compounds'].values())\n",
    "KCD.build_emp_cpds_index()"
   ]
  },
  {
   "cell_type": "code",
   "execution_count": 10,
   "metadata": {},
   "outputs": [
    {
     "data": {
      "text/plain": [
       "('C33H56N7O18P3S_963.26154',\n",
       " {'interim_id': 'C33H56N7O18P3S_963.26154',\n",
       "  'neutral_formula': 'C33H56N7O18P3S',\n",
       "  'neutral_formula_mass': 963.2615401561299,\n",
       "  'compounds': [{'id': 'MAM00082',\n",
       "    'name': '(3S)-3-hydroxydodec-cis-6-enoyl-CoA',\n",
       "    'identifiers': [['humanGEM', 'MAM00082'],\n",
       "     ['pubchem.compound', '53481428'],\n",
       "     ['vmhmetabolite', 'CE2420'],\n",
       "     ['metanetx.chemical', 'MNXM31119']],\n",
       "    'neutral_formula': 'C33H56N7O18P3S',\n",
       "    'charge': -4,\n",
       "    'charged_formula': 'C33H52N7O18P3S',\n",
       "    'neutral_mono_mass': 963.2615401561299,\n",
       "    'SMILES': '',\n",
       "    'inchi': '',\n",
       "    'neutral_formula_mass': 963.2615401561299},\n",
       "   {'id': 'MAM00868',\n",
       "    'name': '3-oxododecanoyl-CoA',\n",
       "    'identifiers': [['humanGEM', 'MAM00868'],\n",
       "     ['bigg.metabolite', '3oddcoa'],\n",
       "     ['kegg.compound', 'C05263'],\n",
       "     ['chebi', '27868'],\n",
       "     ['pubchem.compound', '440604'],\n",
       "     ['lipidmaps', 'LMFA07050013'],\n",
       "     ['vmhmetabolite', '3oddcoa'],\n",
       "     ['metanetx.chemical', 'MNXM705']],\n",
       "    'neutral_formula': 'C33H56N7O18P3S',\n",
       "    'charge': -4,\n",
       "    'charged_formula': 'C33H52N7O18P3S',\n",
       "    'neutral_mono_mass': 963.2615401561299,\n",
       "    'SMILES': '',\n",
       "    'inchi': '',\n",
       "    'neutral_formula_mass': 963.2615401561299},\n",
       "   {'id': 'MAM03334',\n",
       "    'name': '3(S)-3-Hydroxydodecen-(5Z)-Oyl Coenzyme A',\n",
       "    'identifiers': [['humanGEM', 'MAM03334'],\n",
       "     ['bigg.metabolite', 'CE2597'],\n",
       "     ['pubchem.compound', '53481515'],\n",
       "     ['vmhmetabolite', 'CE2597'],\n",
       "     ['metanetx.chemical', 'MNXM166067']],\n",
       "    'neutral_formula': 'C33H56N7O18P3S',\n",
       "    'charge': -4,\n",
       "    'charged_formula': 'C33H52N7O18P3S',\n",
       "    'neutral_mono_mass': 963.2615401561299,\n",
       "    'SMILES': '',\n",
       "    'inchi': '',\n",
       "    'neutral_formula_mass': 963.2615401561299}]})"
      ]
     },
     "execution_count": 10,
     "metadata": {},
     "output_type": "execute_result"
    }
   ],
   "source": [
    "list(KCD.mass_indexed_compounds.items())[55]"
   ]
  },
  {
   "cell_type": "code",
   "execution_count": 11,
   "metadata": {},
   "outputs": [
    {
     "data": {
      "text/plain": [
       "[{'mz': 964.2688166228999,\n",
       "  'parent_epd_id': 'C33H56N7O18P3S_963.26154',\n",
       "  'ion_relation': 'M+H[1+]'},\n",
       " {'mz': 964.2688519389299,\n",
       "  'parent_epd_id': 'C33H54N7O17P3S_945.250975',\n",
       "  'ion_relation': 'M+H2O+H[1+]'},\n",
       " {'mz': 964.2618323695401,\n",
       "  'parent_epd_id': 'C44H50CaF2N6O10S2_964.262381',\n",
       "  'ion_relation': 'M[1+]'}]"
      ]
     },
     "execution_count": 11,
     "metadata": {},
     "output_type": "execute_result"
    }
   ],
   "source": [
    "KCD.emp_cpds_trees['pos'][96426]"
   ]
  },
  {
   "cell_type": "code",
   "execution_count": 12,
   "metadata": {},
   "outputs": [
    {
     "data": {
      "text/plain": [
       "[{'mz': 964.2618323695401,\n",
       "  'parent_epd_id': 'C44H50CaF2N6O10S2_964.262381',\n",
       "  'ion_relation': 'M[1+]'}]"
      ]
     },
     "execution_count": 12,
     "metadata": {},
     "output_type": "execute_result"
    }
   ],
   "source": [
    "KCD.search_mz_single(964.261, 'pos', 5)"
   ]
  },
  {
   "cell_type": "code",
   "execution_count": 13,
   "metadata": {},
   "outputs": [
    {
     "data": {
      "text/plain": [
       "{'interim_id': 'C44H50CaF2N6O10S2_964.262381',\n",
       " 'neutral_formula': 'C44H50CaF2N6O10S2',\n",
       " 'neutral_formula_mass': 964.2623813695401,\n",
       " 'compounds': [{'id': 'MAM03920',\n",
       "   'name': 'rosuvastatin-5S-lactone',\n",
       "   'identifiers': [['humanGEM', 'MAM03920'],\n",
       "    ['bigg.metabolite', 'rsvlac'],\n",
       "    ['vmhmetabolite', 'rsvlac']],\n",
       "   'neutral_formula': 'C44H50CaF2N6O10S2',\n",
       "   'charge': 2,\n",
       "   'charged_formula': 'C44H52CaF2N6O10S2',\n",
       "   'neutral_mono_mass': 964.2623813695401,\n",
       "   'SMILES': '',\n",
       "   'inchi': '',\n",
       "   'neutral_formula_mass': 964.2623813695401}]}"
      ]
     },
     "execution_count": 13,
     "metadata": {},
     "output_type": "execute_result"
    }
   ],
   "source": [
    "KCD.mass_indexed_compounds['C44H50CaF2N6O10S2_964.262381']"
   ]
  },
  {
   "cell_type": "markdown",
   "metadata": {},
   "source": [
    "## Input user data"
   ]
  },
  {
   "cell_type": "code",
   "execution_count": 14,
   "metadata": {},
   "outputs": [
    {
     "name": "stdout",
     "output_type": "stream",
     "text": [
      "10166 [{'id_number': 'F2', 'mz': 69.0453, 'rtime': 1.0, 'rtime_left_base': '0.46', 'rtime_right_base': '2.88', 'parent_masstrack_id': '4', 'peak_area': '353341129', 'cSelectivity': '0.82', 'goodness_fitting': '0.98', 'snr': '27', 'detection_counts': '15', 'MT_20221018_093': '23566344', 'MT_20221018_013': '14424637', 'MT_20221018_021': '28418184', 'MT_20221018_063': '22903638', 'MT_20221018_065': '18022378', 'MT_20221018_073': '21919355', 'MT_20221018_081': '26009080', 'MT_20221018_085': '24156015', 'MT_20221018_087': '23769280', 'MT_20221018_121': '19344598', 'MT_20221018_127': '19197467', 'MT_20221018_131': '20864825', 'MT_20221018_133': '16788621', 'MT_20221018_135': '20974472', 'MT_20221018_143': '23961868\\n', 'apex': 1.0}, {'id_number': 'F3', 'mz': 118.1098, 'rtime': 137.49, 'rtime_left_base': '135.28', 'rtime_right_base': '139.29', 'parent_masstrack_id': '686', 'peak_area': '7603634', 'cSelectivity': '1.0', 'goodness_fitting': '0.98', 'snr': '563', 'detection_counts': '12', 'MT_20221018_093': '981366', 'MT_20221018_013': '216976', 'MT_20221018_021': '0', 'MT_20221018_063': '353297', 'MT_20221018_065': '780887', 'MT_20221018_073': '521006', 'MT_20221018_081': '836218', 'MT_20221018_085': '0', 'MT_20221018_087': '683450', 'MT_20221018_121': '909076', 'MT_20221018_127': '570132', 'MT_20221018_131': '0', 'MT_20221018_133': '381290', 'MT_20221018_135': '449092', 'MT_20221018_143': '986151\\n', 'apex': 137.49}]\n"
     ]
    }
   ],
   "source": [
    "# help(read_table_to_peaks)\n",
    "\n",
    "# ff = read_table_to_peaks(\"testdata0710.txt\", mz_col=0, rtime_col=1, feature_id=4, full_extract=True)\n",
    "\n",
    "ff2 = read_table_to_peaks(\"preferred_Feature_table.tsv\", mz_col=1, rtime_col=2, feature_id=0, full_extract=True)\n",
    "print(len(ff2), ff2[:2])"
   ]
  },
  {
   "cell_type": "markdown",
   "metadata": {},
   "source": [
    "**Testing code**"
   ]
  },
  {
   "cell_type": "code",
   "execution_count": 15,
   "metadata": {},
   "outputs": [
    {
     "name": "stdout",
     "output_type": "stream",
     "text": [
      "\n",
      "\n",
      "Initial khipu search grid: \n",
      "               M+H+       Na/H        HCl        K/H        ACN\n",
      "M0         1.007276  22.989276  36.983976  38.963158  42.033825\n",
      "13C/12C    2.010631  23.992631  37.987331  39.966513  43.037180\n",
      "13C/12C*2  3.013986  24.995986  38.990686  40.969868  44.040535\n",
      "\n",
      "\n",
      "Empty network -  ['F3631'] [] [] []\n",
      "Empty network -  ['F1892'] [] [] []\n",
      "Empty network -  ['F2931'] [] [] []\n",
      "Empty network -  ['F299'] [] [] []\n",
      "Warning no match in isotope_pattern:  3.0101000000000084\n",
      "Unknown isotope match ~  (93.0656, 'F1428')\n",
      "Empty network -  ['F5825'] [] [] []\n",
      "Downsized input network with 17 features, highest peak at F5687 \n",
      "Empty network -  ['F4932'] [] [] []\n",
      "Empty network -  ['F2679'] [] [] []\n",
      "Empty network -  ['F7840'] [] [] []\n",
      "Empty network -  ['F8877'] [] [] []\n",
      "Downsized input network with 20 features, highest peak at F2716 \n",
      "Empty network -  ['F229'] [] [] []\n",
      "Empty network -  ['F2716'] [] [] []\n",
      "Warning no match in isotope_pattern:  0.0006999999999948159\n",
      "Unknown isotope match ~  (111.0808, 'F3352')\n",
      "Downsized input network with 24 features, highest peak at F3622 \n",
      "Empty network -  ['F9768'] [] [] []\n",
      "Empty network -  ['F8925'] [] [] []\n",
      "Empty network -  ['F4670'] [] [] []\n",
      "Empty network -  ['F6590'] [] [] []\n",
      "Empty network -  ['F4914'] [] [] []\n",
      "Empty network -  ['F4557'] [] [] []\n",
      "Empty network -  ['F6997'] [] [] []\n",
      "Downsized input network with 23 features, highest peak at F5094 \n",
      "Empty network -  ['F6999'] [] [] []\n",
      "Warning no match in isotope_pattern:  3.0109999999999673\n",
      "Unknown isotope match ~  (276.2684, 'F5966')\n",
      "Empty network -  ['F12029'] [] [] []\n",
      "Empty network -  ['F4976'] [] [] []\n",
      "Empty network -  ['F11982'] [] [] []\n",
      "Empty network -  ['F5395'] [] [] []\n",
      "Empty network -  ['F6231'] [] [] []\n",
      "Empty network -  ['F9007'] [] [] []\n",
      "Empty network -  ['F9187'] [] [] []\n",
      "Warning no match in isotope_pattern:  3.0108999999999924\n",
      "Unknown isotope match ~  (316.2844, 'F7502')\n",
      "Warning no match in isotope_pattern:  3.0090999999999894\n",
      "Unknown isotope match ~  (224.0433, 'F8218')\n",
      "Warning no match in isotope_pattern:  4.012400000000014\n",
      "Unknown isotope match ~  (225.0466, 'F8387')\n",
      "Empty network -  ['F7307'] [] [] []\n",
      "Empty network -  ['F6290'] [] [] []\n",
      "Empty network -  ['F12327'] [] [] []\n",
      "Empty network -  ['F10053'] [] [] []\n",
      "Warning no match in isotope_pattern:  3.0108999999999924\n",
      "Unknown isotope match ~  (402.3365, 'F11094')\n",
      "Empty network -  ['F13884'] [] [] []\n",
      "Warning no match in isotope_pattern:  3.007499999999993\n",
      "Unknown isotope match ~  (436.0116, 'F12002')\n",
      "Downsized input network with 17 features, highest peak at F12237 \n",
      "Empty network -  ['F13572'] [] [] []\n",
      "Warning no match in isotope_pattern:  3.010599999999954\n",
      "Unknown isotope match ~  (446.3991, 'F13036')\n",
      "Warning no match in isotope_pattern:  3.0095000000000027\n",
      "Unknown isotope match ~  (450.3925, 'F13418')\n",
      "Downsized input network with 17 features, highest peak at F13935 \n",
      "Warning no match in isotope_pattern:  3.007600000000025\n",
      "Unknown isotope match ~  (600.0179, 'F13948')\n",
      "Empty network -  ['F16083'] [] [] []\n",
      "Warning no match in isotope_pattern:  3.0108999999999924\n",
      "Unknown isotope match ~  (533.3584, 'F14430')\n",
      "Warning no match in isotope_pattern:  4.013900000000035\n",
      "Unknown isotope match ~  (534.3614, 'F14496')\n",
      "Warning no match in isotope_pattern:  3.0108999999999924\n",
      "Unknown isotope match ~  (533.3584, 'F14431')\n",
      "Warning no match in isotope_pattern:  4.013900000000035\n",
      "Unknown isotope match ~  (534.3614, 'F14496')\n",
      "Empty network -  ['F14431'] [] [] []\n",
      "Empty network -  ['F13858'] [] [] []\n",
      "Warning no match in isotope_pattern:  3.0137999999999465\n",
      "Unknown isotope match ~  (737.5794, 'F15225')\n",
      "Empty network -  ['F15263'] [] [] []\n",
      "Warning no match in isotope_pattern:  3.0090999999999894\n",
      "Unknown isotope match ~  (507.3325, 'F16236')\n",
      "Warning no match in isotope_pattern:  3.010400000000004\n",
      "Unknown isotope match ~  (763.5943, 'F16222')\n",
      "Empty network -  ['F16223'] [] [] []\n",
      "Empty network -  ['F8623'] [] [] []\n",
      "Empty network -  ['F3782'] [] [] []\n",
      "Empty network -  ['F12401'] [] [] []\n",
      "Empty network -  ['F12024'] [] [] []\n",
      "\n",
      "\n",
      " ~~~~~~ Got 1974 khipus, with 5735 features ~~~~~~~ \n",
      "\n",
      "\n"
     ]
    }
   ],
   "source": [
    "EED = ExperimentalEcpdDatabase(mode='pos', mz_tolerance_ppm=5, rt_tolerance=2)\n",
    "EED.build_from_list_peaks(ff2)\n",
    "EED.extend_empCpd_annotation(KCD)\n",
    "EED.annotate_singleton_mummichog(KCD)"
   ]
  },
  {
   "cell_type": "code",
   "execution_count": 16,
   "metadata": {},
   "outputs": [
    {
     "data": {
      "text/plain": [
       "2889"
      ]
     },
     "execution_count": 16,
     "metadata": {},
     "output_type": "execute_result"
    }
   ],
   "source": [
    "len(EED.dict_empCpds)"
   ]
  },
  {
   "cell_type": "code",
   "execution_count": 17,
   "metadata": {},
   "outputs": [
    {
     "name": "stdout",
     "output_type": "stream",
     "text": [
      "1240 {'interim_id': 'kp204_202.1317', 'neutral_formula_mass': 202.13169603323, 'neutral_formula': None, 'Database_referred': [], 'identity': [], 'MS1_pseudo_Spectra': [{'id_number': 'F3684', 'mz': 203.1389, 'rtime': 23.04, 'rtime_left_base': '21.88', 'rtime_right_base': '25.37', 'parent_masstrack_id': '2495', 'peak_area': '402792917', 'cSelectivity': '0.86', 'goodness_fitting': '0.98', 'snr': '120', 'detection_counts': '15', 'MT_20221018_093': '171647657', 'MT_20221018_013': '44197511', 'MT_20221018_021': '22144605', 'MT_20221018_063': '54382616', 'MT_20221018_065': '90272901', 'MT_20221018_073': '73231696', 'MT_20221018_081': '139954513', 'MT_20221018_085': '98197377', 'MT_20221018_087': '58414834', 'MT_20221018_121': '110314351', 'MT_20221018_127': '62762335', 'MT_20221018_131': '37828795', 'MT_20221018_133': '90738788', 'MT_20221018_135': '95355869', 'MT_20221018_143': '106724805\\n', 'apex': 23.04, 'representative_intensity': '402792917', 'id': 'F3684', 'isotope': 'M0', 'modification': 'M+H+', 'ion_relation': 'M0,M+H+', 'parent_epd_id': 'kp204_202.1317'}, {'id_number': 'F3900', 'mz': 204.1424, 'rtime': 23.04, 'rtime_left_base': '21.88', 'rtime_right_base': '25.37', 'parent_masstrack_id': '2519', 'peak_area': '111965925', 'cSelectivity': '0.86', 'goodness_fitting': '0.98', 'snr': '6675', 'detection_counts': '15', 'MT_20221018_093': '16319520', 'MT_20221018_013': '3711890', 'MT_20221018_021': '1863937', 'MT_20221018_063': '4704610', 'MT_20221018_065': '8024758', 'MT_20221018_073': '6507045', 'MT_20221018_081': '13205765', 'MT_20221018_085': '8925171', 'MT_20221018_087': '5022617', 'MT_20221018_121': '10113807', 'MT_20221018_127': '5642452', 'MT_20221018_131': '3214379', 'MT_20221018_133': '8232298', 'MT_20221018_135': '8665686', 'MT_20221018_143': '9851373\\n', 'apex': 23.04, 'representative_intensity': '111965925', 'id': 'F3900', 'isotope': '13C/12C', 'modification': 'M+H+', 'ion_relation': '13C/12C,M+H+', 'parent_epd_id': 'kp204_202.1317'}], 'MS2_Spectra': [], 'list_matches': [('C9H18N2O3_202.131742', 'neutral', 1)]}\n"
     ]
    }
   ],
   "source": [
    "matched = [x for x in EED.dict_empCpds.values() if 'list_matches' in x]\n",
    "print( len(matched), matched[55] )"
   ]
  },
  {
   "cell_type": "code",
   "execution_count": 18,
   "metadata": {},
   "outputs": [
    {
     "data": {
      "text/plain": [
       "{'interim_id': 'C9H18N2O3_202.131742',\n",
       " 'neutral_formula': 'C9H18N2O3',\n",
       " 'neutral_formula_mass': 202.13174244717,\n",
       " 'compounds': [{'id': 'MAM03375',\n",
       "   'name': 'L-Alanyl-L-Leucine',\n",
       "   'identifiers': [['humanGEM', 'MAM03375'],\n",
       "    ['bigg.metabolite', 'CE5866'],\n",
       "    ['pubchem.compound', '6992388'],\n",
       "    ['vmhmetabolite', 'CE5866'],\n",
       "    ['metanetx.chemical', 'MNXM15786'],\n",
       "    ['inchi',\n",
       "     'InChI=1S/C9H18N2O3/c1-5(2)4-7(9(13)14)11-8(12)6(3)10/h5-7H,4,10H2,1-3H3,(H,11,12)(H,13,14)/t6-,7+/m1/s1']],\n",
       "   'neutral_formula': 'C9H18N2O3',\n",
       "   'charge': 0,\n",
       "   'charged_formula': 'C9H18N2O3',\n",
       "   'neutral_mono_mass': 202.13174244717,\n",
       "   'SMILES': '',\n",
       "   'inchi': '',\n",
       "   'neutral_formula_mass': 202.13174244717}]}"
      ]
     },
     "execution_count": 18,
     "metadata": {},
     "output_type": "execute_result"
    }
   ],
   "source": [
    "KCD.mass_indexed_compounds['C9H18N2O3_202.131742']"
   ]
  },
  {
   "cell_type": "code",
   "execution_count": 19,
   "metadata": {},
   "outputs": [
    {
     "name": "stdout",
     "output_type": "stream",
     "text": [
      "675\n"
     ]
    }
   ],
   "source": [
    "all_match_cpds = set()\n",
    "for m in matched:\n",
    "    for x in m['list_matches']:\n",
    "        all_match_cpds.add(x[0])\n",
    "        \n",
    "print( len(all_match_cpds) )"
   ]
  },
  {
   "cell_type": "markdown",
   "metadata": {},
   "source": [
    "**Found 675 matched cpds from the model**\n",
    "\n",
    "Got 1974 khipus, with 5735;\n",
    "\n",
    "Total 2889 empCpds, including singletons."
   ]
  },
  {
   "cell_type": "code",
   "execution_count": 20,
   "metadata": {},
   "outputs": [
    {
     "data": {
      "text/plain": [
       "[(21.982, 'Na/H'), (41.026549, 'ACN'), (35.9767, 'HCl'), (37.955882, 'K/H')]"
      ]
     },
     "execution_count": 20,
     "metadata": {},
     "output_type": "execute_result"
    }
   ],
   "source": [
    "# Build DataMeetModel\n",
    "# parameters=default_parameters\n",
    "DMM = DataMeetModel(mmodel, ff2)\n",
    "DMM.adduct_patterns"
   ]
  },
  {
   "cell_type": "code",
   "execution_count": 21,
   "metadata": {},
   "outputs": [
    {
     "name": "stdout",
     "output_type": "stream",
     "text": [
      "\n",
      "\n",
      "Initial khipu search grid: \n",
      "               M+H+       Na/H        HCl        K/H        ACN\n",
      "M0         1.007276  22.989276  36.983976  38.963158  42.033825\n",
      "13C/12C    2.010631  23.992631  37.987331  39.966513  43.037180\n",
      "13C/12C*2  3.013986  24.995986  38.990686  40.969868  44.040535\n",
      "\n",
      "\n",
      "Empty network -  ['F3631'] [] [] []\n",
      "Empty network -  ['F1892'] [] [] []\n",
      "Empty network -  ['F2931'] [] [] []\n",
      "Empty network -  ['F299'] [] [] []\n",
      "Warning no match in isotope_pattern:  3.0101000000000084\n",
      "Unknown isotope match ~  (93.0656, 'F1428')\n",
      "Empty network -  ['F5825'] [] [] []\n",
      "Downsized input network with 17 features, highest peak at F5687 \n",
      "Empty network -  ['F4932'] [] [] []\n",
      "Empty network -  ['F2679'] [] [] []\n",
      "Empty network -  ['F7840'] [] [] []\n",
      "Empty network -  ['F8877'] [] [] []\n",
      "Downsized input network with 20 features, highest peak at F2716 \n",
      "Empty network -  ['F229'] [] [] []\n",
      "Empty network -  ['F2716'] [] [] []\n",
      "Warning no match in isotope_pattern:  0.0006999999999948159\n",
      "Unknown isotope match ~  (111.0808, 'F3352')\n",
      "Downsized input network with 24 features, highest peak at F3622 \n",
      "Empty network -  ['F9768'] [] [] []\n",
      "Empty network -  ['F8925'] [] [] []\n",
      "Empty network -  ['F4670'] [] [] []\n",
      "Empty network -  ['F6590'] [] [] []\n",
      "Empty network -  ['F4914'] [] [] []\n",
      "Empty network -  ['F4557'] [] [] []\n",
      "Empty network -  ['F6997'] [] [] []\n",
      "Downsized input network with 23 features, highest peak at F5094 \n",
      "Empty network -  ['F6999'] [] [] []\n",
      "Warning no match in isotope_pattern:  3.0109999999999673\n",
      "Unknown isotope match ~  (276.2684, 'F5966')\n",
      "Empty network -  ['F12029'] [] [] []\n",
      "Empty network -  ['F4976'] [] [] []\n",
      "Empty network -  ['F11982'] [] [] []\n",
      "Empty network -  ['F5395'] [] [] []\n",
      "Empty network -  ['F6231'] [] [] []\n",
      "Empty network -  ['F9007'] [] [] []\n",
      "Empty network -  ['F9187'] [] [] []\n",
      "Warning no match in isotope_pattern:  3.0108999999999924\n",
      "Unknown isotope match ~  (316.2844, 'F7502')\n",
      "Warning no match in isotope_pattern:  3.0090999999999894\n",
      "Unknown isotope match ~  (224.0433, 'F8218')\n",
      "Warning no match in isotope_pattern:  4.012400000000014\n",
      "Unknown isotope match ~  (225.0466, 'F8387')\n",
      "Empty network -  ['F7307'] [] [] []\n",
      "Empty network -  ['F6290'] [] [] []\n",
      "Empty network -  ['F12327'] [] [] []\n",
      "Empty network -  ['F10053'] [] [] []\n",
      "Warning no match in isotope_pattern:  3.0108999999999924\n",
      "Unknown isotope match ~  (402.3365, 'F11094')\n",
      "Empty network -  ['F13884'] [] [] []\n",
      "Warning no match in isotope_pattern:  3.007499999999993\n",
      "Unknown isotope match ~  (436.0116, 'F12002')\n",
      "Downsized input network with 17 features, highest peak at F12237 \n",
      "Empty network -  ['F13572'] [] [] []\n",
      "Warning no match in isotope_pattern:  3.010599999999954\n",
      "Unknown isotope match ~  (446.3991, 'F13036')\n",
      "Warning no match in isotope_pattern:  3.0095000000000027\n",
      "Unknown isotope match ~  (450.3925, 'F13418')\n",
      "Downsized input network with 17 features, highest peak at F13935 \n",
      "Warning no match in isotope_pattern:  3.007600000000025\n",
      "Unknown isotope match ~  (600.0179, 'F13948')\n",
      "Empty network -  ['F16083'] [] [] []\n",
      "Warning no match in isotope_pattern:  3.0108999999999924\n",
      "Unknown isotope match ~  (533.3584, 'F14430')\n",
      "Warning no match in isotope_pattern:  4.013900000000035\n",
      "Unknown isotope match ~  (534.3614, 'F14496')\n",
      "Warning no match in isotope_pattern:  3.0108999999999924\n",
      "Unknown isotope match ~  (533.3584, 'F14431')\n",
      "Warning no match in isotope_pattern:  4.013900000000035\n",
      "Unknown isotope match ~  (534.3614, 'F14496')\n",
      "Empty network -  ['F14431'] [] [] []\n",
      "Empty network -  ['F13858'] [] [] []\n",
      "Warning no match in isotope_pattern:  3.0137999999999465\n",
      "Unknown isotope match ~  (737.5794, 'F15225')\n",
      "Empty network -  ['F15263'] [] [] []\n",
      "Warning no match in isotope_pattern:  3.0090999999999894\n",
      "Unknown isotope match ~  (507.3325, 'F16236')\n",
      "Warning no match in isotope_pattern:  3.010400000000004\n",
      "Unknown isotope match ~  (763.5943, 'F16222')\n",
      "Empty network -  ['F16223'] [] [] []\n",
      "Empty network -  ['F8623'] [] [] []\n",
      "Empty network -  ['F3782'] [] [] []\n",
      "Empty network -  ['F12401'] [] [] []\n",
      "Empty network -  ['F12024'] [] [] []\n",
      "\n",
      "\n",
      " ~~~~~~ Got 1974 khipus, with 5735 features ~~~~~~~ \n",
      "\n",
      "\n"
     ]
    }
   ],
   "source": [
    "dict_empCpds = DMM.match_all()"
   ]
  },
  {
   "cell_type": "code",
   "execution_count": 24,
   "metadata": {},
   "outputs": [
    {
     "data": {
      "text/plain": [
       "{'interim_id': 'kp301_269.3081',\n",
       " 'neutral_formula_mass': 269.30814603323,\n",
       " 'neutral_formula': None,\n",
       " 'Database_referred': [],\n",
       " 'identity': [],\n",
       " 'MS1_pseudo_Spectra': [{'id_number': 'F5270',\n",
       "   'mz': 271.3188,\n",
       "   'rtime': 17.3,\n",
       "   'rtime_left_base': '16.96',\n",
       "   'rtime_right_base': '18.88',\n",
       "   'parent_masstrack_id': '3946',\n",
       "   'peak_area': '10913252',\n",
       "   'cSelectivity': '1.0',\n",
       "   'goodness_fitting': '0.91',\n",
       "   'snr': '34',\n",
       "   'detection_counts': '15',\n",
       "   'MT_20221018_093': '593828',\n",
       "   'MT_20221018_013': '978794',\n",
       "   'MT_20221018_021': '632486',\n",
       "   'MT_20221018_063': '494116',\n",
       "   'MT_20221018_065': '599926',\n",
       "   'MT_20221018_073': '528746',\n",
       "   'MT_20221018_081': '611566',\n",
       "   'MT_20221018_085': '1450287',\n",
       "   'MT_20221018_087': '578496',\n",
       "   'MT_20221018_121': '704241',\n",
       "   'MT_20221018_127': '1082292',\n",
       "   'MT_20221018_131': '720674',\n",
       "   'MT_20221018_133': '911761',\n",
       "   'MT_20221018_135': '547266',\n",
       "   'MT_20221018_143': '634420\\n',\n",
       "   'apex': 17.3,\n",
       "   'representative_intensity': '10913252',\n",
       "   'id': 'F5270',\n",
       "   'isotope': '13C/12C',\n",
       "   'modification': 'M+H+',\n",
       "   'ion_relation': '13C/12C,M+H+',\n",
       "   'parent_epd_id': 'kp301_269.3081'},\n",
       "  {'id_number': 'F5096',\n",
       "   'mz': 270.3154,\n",
       "   'rtime': 17.47,\n",
       "   'rtime_left_base': '16.96',\n",
       "   'rtime_right_base': '19.61',\n",
       "   'parent_masstrack_id': '3922',\n",
       "   'peak_area': '71218433',\n",
       "   'cSelectivity': '1.0',\n",
       "   'goodness_fitting': '0.91',\n",
       "   'snr': '12',\n",
       "   'detection_counts': '15',\n",
       "   'MT_20221018_093': '3869545',\n",
       "   'MT_20221018_013': '6248500',\n",
       "   'MT_20221018_021': '3382030',\n",
       "   'MT_20221018_063': '3212516',\n",
       "   'MT_20221018_065': '4705619',\n",
       "   'MT_20221018_073': '3654333',\n",
       "   'MT_20221018_081': '4273421',\n",
       "   'MT_20221018_085': '8621815',\n",
       "   'MT_20221018_087': '3671019',\n",
       "   'MT_20221018_121': '5840824',\n",
       "   'MT_20221018_127': '6746027',\n",
       "   'MT_20221018_131': '4259969',\n",
       "   'MT_20221018_133': '4884780',\n",
       "   'MT_20221018_135': '3939184',\n",
       "   'MT_20221018_143': '5248714\\n',\n",
       "   'apex': 17.47,\n",
       "   'representative_intensity': '71218433',\n",
       "   'id': 'F5096',\n",
       "   'isotope': 'M0',\n",
       "   'modification': 'M+H+',\n",
       "   'ion_relation': 'M0,M+H+',\n",
       "   'parent_epd_id': 'kp301_269.3081'}],\n",
       " 'MS2_Spectra': []}"
      ]
     },
     "execution_count": 24,
     "metadata": {},
     "output_type": "execute_result"
    }
   ],
   "source": [
    "list(dict_empCpds.values())[300]"
   ]
  },
  {
   "cell_type": "code",
   "execution_count": 25,
   "metadata": {},
   "outputs": [
    {
     "name": "stdout",
     "output_type": "stream",
     "text": [
      "1240 {'interim_id': 'kp204_202.1317', 'neutral_formula_mass': 202.13169603323, 'neutral_formula': None, 'Database_referred': [], 'identity': ['MAM03375'], 'MS1_pseudo_Spectra': [{'id_number': 'F3684', 'mz': 203.1389, 'rtime': 23.04, 'rtime_left_base': '21.88', 'rtime_right_base': '25.37', 'parent_masstrack_id': '2495', 'peak_area': '402792917', 'cSelectivity': '0.86', 'goodness_fitting': '0.98', 'snr': '120', 'detection_counts': '15', 'MT_20221018_093': '171647657', 'MT_20221018_013': '44197511', 'MT_20221018_021': '22144605', 'MT_20221018_063': '54382616', 'MT_20221018_065': '90272901', 'MT_20221018_073': '73231696', 'MT_20221018_081': '139954513', 'MT_20221018_085': '98197377', 'MT_20221018_087': '58414834', 'MT_20221018_121': '110314351', 'MT_20221018_127': '62762335', 'MT_20221018_131': '37828795', 'MT_20221018_133': '90738788', 'MT_20221018_135': '95355869', 'MT_20221018_143': '106724805\\n', 'apex': 23.04, 'representative_intensity': '402792917', 'id': 'F3684', 'isotope': 'M0', 'modification': 'M+H+', 'ion_relation': 'M0,M+H+', 'parent_epd_id': 'kp204_202.1317'}, {'id_number': 'F3900', 'mz': 204.1424, 'rtime': 23.04, 'rtime_left_base': '21.88', 'rtime_right_base': '25.37', 'parent_masstrack_id': '2519', 'peak_area': '111965925', 'cSelectivity': '0.86', 'goodness_fitting': '0.98', 'snr': '6675', 'detection_counts': '15', 'MT_20221018_093': '16319520', 'MT_20221018_013': '3711890', 'MT_20221018_021': '1863937', 'MT_20221018_063': '4704610', 'MT_20221018_065': '8024758', 'MT_20221018_073': '6507045', 'MT_20221018_081': '13205765', 'MT_20221018_085': '8925171', 'MT_20221018_087': '5022617', 'MT_20221018_121': '10113807', 'MT_20221018_127': '5642452', 'MT_20221018_131': '3214379', 'MT_20221018_133': '8232298', 'MT_20221018_135': '8665686', 'MT_20221018_143': '9851373\\n', 'apex': 23.04, 'representative_intensity': '111965925', 'id': 'F3900', 'isotope': '13C/12C', 'modification': 'M+H+', 'ion_relation': '13C/12C,M+H+', 'parent_epd_id': 'kp204_202.1317'}], 'MS2_Spectra': [], 'list_matches': [('C9H18N2O3_202.131742', 'neutral', 1)]}\n"
     ]
    }
   ],
   "source": [
    "# check newly matched\n",
    "matched = [x for x in dict_empCpds.values() if 'list_matches' in x]\n",
    "print( len(matched), matched[55] )"
   ]
  },
  {
   "cell_type": "code",
   "execution_count": 26,
   "metadata": {},
   "outputs": [
    {
     "data": {
      "text/plain": [
       "{'interim_id': 'epd_F7704',\n",
       " 'MS1_pseudo_Spectra': [{'id_number': 'F7704',\n",
       "   'mz': 286.2291,\n",
       "   'rtime': 16.1,\n",
       "   'rtime_left_base': '15.4',\n",
       "   'rtime_right_base': '16.96',\n",
       "   'parent_masstrack_id': '4248',\n",
       "   'peak_area': '5126118',\n",
       "   'cSelectivity': '1.0',\n",
       "   'goodness_fitting': '0.96',\n",
       "   'snr': '1043',\n",
       "   'detection_counts': '6',\n",
       "   'MT_20221018_093': '558723',\n",
       "   'MT_20221018_013': '0',\n",
       "   'MT_20221018_021': '0',\n",
       "   'MT_20221018_063': '0',\n",
       "   'MT_20221018_065': '0',\n",
       "   'MT_20221018_073': '1138426',\n",
       "   'MT_20221018_081': '0',\n",
       "   'MT_20221018_085': '0',\n",
       "   'MT_20221018_087': '916117',\n",
       "   'MT_20221018_121': '0',\n",
       "   'MT_20221018_127': '865752',\n",
       "   'MT_20221018_131': '0',\n",
       "   'MT_20221018_133': '1149923',\n",
       "   'MT_20221018_135': '0',\n",
       "   'MT_20221018_143': '346389\\n',\n",
       "   'apex': 16.1,\n",
       "   'representative_intensity': '5126118',\n",
       "   'id': 'F7704'}],\n",
       " 'list_matches': [('C20H30O_286.229666', 'M[1+]', 1)],\n",
       " 'identity': ['MAM00291', 'MAM00351', 'MAM01232', 'MAM02834']}"
      ]
     },
     "execution_count": 26,
     "metadata": {},
     "output_type": "execute_result"
    }
   ],
   "source": [
    "matched[630]"
   ]
  },
  {
   "cell_type": "code",
   "execution_count": 27,
   "metadata": {},
   "outputs": [
    {
     "name": "stdout",
     "output_type": "stream",
     "text": [
      "675\n"
     ]
    }
   ],
   "source": [
    "all_match_cpds = set()\n",
    "for m in matched:\n",
    "    for x in m['list_matches']:\n",
    "        all_match_cpds.add(x[0])\n",
    "        \n",
    "print( len(all_match_cpds) )"
   ]
  },
  {
   "cell_type": "code",
   "execution_count": null,
   "metadata": {},
   "outputs": [],
   "source": [
    "'''\n",
    "#\n",
    "# One can specify parameters to DataMeetModel\n",
    "#\n",
    "\n",
    "from khipu.utils import adduct_search_patterns, \\\n",
    "                            adduct_search_patterns_neg, \\\n",
    "                                isotope_search_patterns, \\\n",
    "                                    extended_adducts\n",
    "para = {\n",
    "    'mode': 'pos',\n",
    "    'isotope_search_patterns': isotope_search_patterns[:2],\n",
    "    'adduct_patterns': adduct_search_patterns,\n",
    "    'extended_adducts': extended_adducts,\n",
    "    'mz_tolerance_ppm': 5,\n",
    "    'rt_tolerance': 2,\n",
    "}\n",
    "'''"
   ]
  },
  {
   "cell_type": "code",
   "execution_count": 30,
   "metadata": {},
   "outputs": [],
   "source": [
    "def check_13C(empCpd):\n",
    "    ions = [x['isotope'] for x in empCpd['MS1_pseudo_Spectra'] if 'isotope' in x]\n",
    "    if '13C/12C' in ions:\n",
    "        return True\n",
    "    else:\n",
    "        return False"
   ]
  },
  {
   "cell_type": "code",
   "execution_count": 31,
   "metadata": {},
   "outputs": [
    {
     "data": {
      "text/plain": [
       "1373"
      ]
     },
     "execution_count": 31,
     "metadata": {},
     "output_type": "execute_result"
    }
   ],
   "source": [
    "len(\n",
    "    [x for x in dict_empCpds.values() if check_13C(x)]\n",
    "    )"
   ]
  },
  {
   "cell_type": "markdown",
   "metadata": {},
   "source": [
    "## Conclusion\n",
    "\n",
    "We used jms.modelConvert.convert_json_model and DataMeetModel to reformat metabolic models and match to user input feature list.\n",
    "\n",
    "The result from DataMeetModel.match_all() is a list of empirical compounds that contain the matching information in field `identity`. This list is used in mummichog3 as the connection btw user data and a metabolic model."
   ]
  }
 ],
 "metadata": {
  "kernelspec": {
   "display_name": "Python 3",
   "language": "python",
   "name": "python3"
  },
  "language_info": {
   "codemirror_mode": {
    "name": "ipython",
    "version": 3
   },
   "file_extension": ".py",
   "mimetype": "text/x-python",
   "name": "python",
   "nbconvert_exporter": "python",
   "pygments_lexer": "ipython3",
   "version": "3.7.3"
  }
 },
 "nbformat": 4,
 "nbformat_minor": 2
}
